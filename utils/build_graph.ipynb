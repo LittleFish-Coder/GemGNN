{
 "cells": [
  {
   "cell_type": "markdown",
   "metadata": {},
   "source": [
    "# Build Graph by BERT\n",
    "\n",
    "\n",
    "- node: the embeddings of the content (BERT)\n",
    "- edge: the similarity between the nodes (KNN)"
   ]
  },
  {
   "cell_type": "code",
   "execution_count": 1,
   "metadata": {},
   "outputs": [
    {
     "name": "stdout",
     "output_type": "stream",
     "text": [
      "Using cuda device\n"
     ]
    }
   ],
   "source": [
    "import torch\n",
    "\n",
    "device = \"cuda\" if torch.cuda.is_available() else \"cpu\"\n",
    "print(f\"Using {device} device\")"
   ]
  },
  {
   "cell_type": "markdown",
   "metadata": {},
   "source": [
    "# Load the dataset"
   ]
  },
  {
   "cell_type": "code",
   "execution_count": 2,
   "metadata": {},
   "outputs": [
    {
     "name": "stderr",
     "output_type": "stream",
     "text": [
      "/home/littlefish/miniconda3/envs/fake/lib/python3.12/site-packages/tqdm/auto.py:21: TqdmWarning: IProgress not found. Please update jupyter and ipywidgets. See https://ipywidgets.readthedocs.io/en/stable/user_install.html\n",
      "  from .autonotebook import tqdm as notebook_tqdm\n"
     ]
    }
   ],
   "source": [
    "from datasets import load_dataset"
   ]
  },
  {
   "cell_type": "code",
   "execution_count": 3,
   "metadata": {},
   "outputs": [
    {
     "name": "stderr",
     "output_type": "stream",
     "text": [
      "Generating train split: 100%|██████████| 3490/3490 [00:00<00:00, 21037.77 examples/s]\n",
      "Generating validation split: 100%|██████████| 997/997 [00:00<00:00, 18979.44 examples/s]\n",
      "Generating test split: 100%|██████████| 499/499 [00:00<00:00, 21558.21 examples/s]\n"
     ]
    }
   ],
   "source": [
    "# load and download the dataset from huggingface\n",
    "dataset = load_dataset(\"LittleFish-Coder/Fake-News-Detection-Challenge-KDD-2020\", download_mode=\"reuse_cache_if_exists\", cache_dir=\"dataset\")"
   ]
  },
  {
   "cell_type": "code",
   "execution_count": 4,
   "metadata": {},
   "outputs": [
    {
     "name": "stdout",
     "output_type": "stream",
     "text": [
      "Dataset Type: <class 'datasets.dataset_dict.DatasetDict'>\n",
      "DatasetDict({\n",
      "    train: Dataset({\n",
      "        features: ['text', 'label', '__index_level_0__'],\n",
      "        num_rows: 3490\n",
      "    })\n",
      "    validation: Dataset({\n",
      "        features: ['text', 'label', '__index_level_0__'],\n",
      "        num_rows: 997\n",
      "    })\n",
      "    test: Dataset({\n",
      "        features: ['text', 'label', '__index_level_0__'],\n",
      "        num_rows: 499\n",
      "    })\n",
      "})\n",
      "Dataset keys: dict_keys(['train', 'validation', 'test'])\n"
     ]
    }
   ],
   "source": [
    "print(f\"Dataset Type: {type(dataset)}\")\n",
    "print(f\"{dataset}\")\n",
    "print(f\"Dataset keys: {dataset.keys()}\")"
   ]
  },
  {
   "cell_type": "code",
   "execution_count": 5,
   "metadata": {},
   "outputs": [
    {
     "name": "stdout",
     "output_type": "stream",
     "text": [
      "Train dataset type: <class 'datasets.arrow_dataset.Dataset'>\n",
      "Validation dataset type: <class 'datasets.arrow_dataset.Dataset'>\n",
      "Test dataset type: <class 'datasets.arrow_dataset.Dataset'>\n"
     ]
    }
   ],
   "source": [
    "train_dataset = dataset[\"train\"]\n",
    "val_dataset = dataset[\"validation\"]\n",
    "test_dataset = dataset[\"test\"]\n",
    "print(f\"Train dataset type: {type(train_dataset)}\")\n",
    "print(f\"Validation dataset type: {type(val_dataset)}\")\n",
    "print(f\"Test dataset type: {type(test_dataset)}\")"
   ]
  },
  {
   "cell_type": "code",
   "execution_count": 6,
   "metadata": {},
   "outputs": [
    {
     "name": "stdout",
     "output_type": "stream",
     "text": [
      "dict_keys(['text', 'label', '__index_level_0__'])\n",
      "Text: UPDATE, WRITETHRU with more detail: Shortly before he was due to appear on ITV’s Good Morning Britain today, Ewan McGregor pulled out of the interview, citing comments made about this weekend’s Women’s March by host Piers Morgan. A supporter of President Donald Trump, Morgan yesterday on the program described some of the women who marched as “rabid feminists” and said he didn’t “see the point of the march(es)” which he called “generic” and “vacuous.”  On Twitter this morning, McGregor, who is out promoting Trainspotting sequel T2: Trainspotting, wrote, “Was going on Good Morning Britain, didn’t realise Piers Morgan was host. Won’t go on with him after his comments about #WomensMarch.”  Was going on Good Morning Britain, didn’t realise @piersmorgan was host. Won’t go on with him after his comments about #WomensMarch — Ewan McGregor (@mcgregor_ewan) January 24, 2017  On his Twitter account (whose timeline photo is of he and Trump), Morgan responded by saying McGregor is “just an actor after all.”  Sorry to hear that @mcgregor_ewan – you should be big enough to allow people different political opinions. You’re just an actor after all. — Piers Morgan (@piersmorgan) January 24, 2017  Morgan also tweeted he expected McGregor was reacting to his Monday column in the Daily Mail in which he called himself “a feminist,” but decried comments made by Madonna on Saturday saying, “I can’t abide the feminazis, the radical, extreme feminists like Madonna.”  On Tuesday, Morgan took to the middle-market UK tabloid to launch a vicious attack on McGregor where he referred to the actor as “unprofessional” and “disingenuous.”  “An actor who had contractually agreed to appear on a TV show to promote his new film pulls out at the last minute because he doesn’t like the political opinion of one of the presenters,” said Morgan.  Morgan said that after scrolling through McGregor’s Twitter feed, it “revealed a man absolutely enraged by both Donald Trump’s ascent to the presidency, and by Britain’s decision to leave the European Union.” He added: “His fury at the latter may strike some as slightly disingenuous given that McGregor himself quit the EU years ago to go and live the life of a pampered millionaire movie star in Hollywood. But I’ll leave others to decide whether that is hypocritical or not.”  The presenter continued his tirade by taking a swipe at celebrities who take the podium to make “political statements that remain unchallenged,” which he says was “typified by Meryl Streep’s extraordinarily pompous and elitist anti-Trump speech at the recent Golden Globes.”  Morgan even suggested that those who voted for Trump or for Brexit to “now boycott his movies” before criticizing McGregor for being “paedophile-loving” due to the fact he worked on Roman Polanski’s film The Ghostwriter.  A spokesperson for Good Morning Britain told the BBC today that McGregor “came into GMB this morning to be interviewed about his new film but decided not to go ahead with it.”  Per the Guardian, Morgan said on the telecast this morning, “Sorry that Ewan McGregor’s not here. He couldn’t bear the thought of being on the sofa with me because he doesn’t agree with me about the women’s march… I have to agree with what an actor thinks about a particular issue because they’re actors. And as we know actors’ views are more important than anybody else’s.”  McGregor’s daughters had marched on Saturday.  I’m with you in spirit today women of the world. My daughters are marching. I’m so proud to see this extraordinary power. — Ewan McGregor (@mcgregor_ewan) January 21, 2017  The long-awaited Trainspotting sequel reunites director Danny Boyle with McGregor, Robert Carlyle, Jonny Lee Miller and Ewen Bremner. The world premiere was held earlier this week in Edinburgh with the UK release coming Friday via Sony.\n",
      "Label: 1\n"
     ]
    }
   ],
   "source": [
    "# First element of the train dataset\n",
    "print(f\"{train_dataset[0].keys()}\")\n",
    "print(f\"Text: {train_dataset[0]['text']}\")\n",
    "print(f\"Label: {train_dataset[0]['label']}\")"
   ]
  },
  {
   "cell_type": "markdown",
   "metadata": {},
   "source": [
    "# Load Tokenizer and Model"
   ]
  },
  {
   "cell_type": "code",
   "execution_count": 7,
   "metadata": {},
   "outputs": [],
   "source": [
    "from transformers import AutoTokenizer, AutoModel\n",
    "\n",
    "tokenizer = AutoTokenizer.from_pretrained(f\"google-bert/bert-base-uncased\", clean_up_tokenization_spaces=True)\n",
    "model = AutoModel.from_pretrained(f\"google-bert/bert-base-uncased\").to(device)"
   ]
  },
  {
   "cell_type": "code",
   "execution_count": 8,
   "metadata": {},
   "outputs": [
    {
     "name": "stdout",
     "output_type": "stream",
     "text": [
      "Input keys: dict_keys(['input_ids', 'token_type_ids', 'attention_mask'])\n",
      "Input ids: tensor([[  101, 10651,  1010,  4339,  2705,  6820,  2007,  2062,  6987,  1024,\n",
      "          3859,  2077,  2002,  2001,  2349,  2000,  3711,  2006, 11858,  1521,\n",
      "          1055,  2204,  2851,  3725,  2651,  1010,  1041,  7447, 23023,  2766,\n",
      "          2041,  1997,  1996,  4357,  1010,  8951,  7928,  2081,  2055,  2023,\n",
      "          5353,  1521,  1055,  2308,  1521,  1055,  2233,  2011,  3677, 16067,\n",
      "          5253,  1012,  1037, 10129,  1997,  2343,  6221,  8398,  1010,  5253,\n",
      "          7483,  2006,  1996,  2565,  2649,  2070,  1997,  1996,  2308,  2040,\n",
      "          9847,  2004,  1523, 10958, 17062, 10469,  2015,  1524,  1998,  2056,\n",
      "          2002,  2134,  1521,  1056,  1523,  2156,  1996,  2391,  1997,  1996,\n",
      "          2233,  1006,  9686,  1007,  1524,  2029,  2002,  2170,  1523, 12391,\n",
      "          1524,  1998,  1523, 12436, 10841,  3560,  1012,  1524,  2006, 10474,\n",
      "          2023,  2851,  1010, 23023,  1010,  2040,  2003,  2041,  7694,  4499,\n",
      "         11008,  3436,  8297,  1056,  2475,  1024,  4499, 11008,  3436,  1010,\n",
      "          2626,  1010,  1523,  2001,  2183,  2006,  2204,  2851,  3725,  1010,\n",
      "          2134,  1521,  1056, 19148, 16067,  5253,  2001,  3677,  1012,  2180,\n",
      "          1521,  1056,  2175,  2006,  2007,  2032,  2044,  2010,  7928,  2055,\n",
      "          1001,  2308, 26212, 11140,  1012,  1524,  2001,  2183,  2006,  2204,\n",
      "          2851,  3725,  1010,  2134,  1521,  1056, 19148,  1030, 16067,  5302,\n",
      "         16998,  2001,  3677,  1012,  2180,  1521,  1056,  2175,  2006,  2007,\n",
      "          2032,  2044,  2010,  7928,  2055,  1001,  2308, 26212, 11140,  1517,\n",
      "          1041,  7447, 23023,  1006,  1030, 23023,  1035,  1041,  7447,  1007,\n",
      "          2254,  2484,  1010,  2418,  2006,  2010, 10474,  4070,  1006,  3005,\n",
      "         17060,  6302,  2003,  1997,  2002,  1998,  8398,  1007,  1010,  5253,\n",
      "          5838,  2011,  3038, 23023,  2003,  1523,  2074,  2019,  3364,  2044,\n",
      "          2035,  1012,  1524,  3374,  2000,  2963,  2008,  1030, 23023,  1035,\n",
      "          1041,  7447,  1516,  2017,  2323,  2022,  2502,  2438,  2000,  3499,\n",
      "          2111,  2367,  2576, 10740,  1012,  2017,  1521,  2128,  2074,  2019,\n",
      "          3364,  2044,  2035,  1012,  1517, 16067,  5253,  1006,  1030, 16067,\n",
      "          5302, 16998,  1007,  2254,  2484,  1010,  2418,  5253,  2036,  1056,\n",
      "         28394,  3064,  2002,  3517, 23023,  2001, 24868,  2000,  2010,  6928,\n",
      "          5930,  1999,  1996,  3679,  5653,  1999,  2029,  2002,  2170,  2370,\n",
      "          1523,  1037, 10469,  1010,  1524,  2021, 11703, 11998,  7928,  2081,\n",
      "          2011, 11284,  2006,  5095,  3038,  1010,  1523,  1045,  2064,  1521,\n",
      "          1056, 11113,  5178,  1996, 10768, 22311,  5831,  2015,  1010,  1996,\n",
      "          7490,  1010,  6034, 10469,  2015,  2066, 11284,  1012,  1524,  2006,\n",
      "          9857,  1010,  5253,  2165,  2000,  1996,  2690,  1011,  3006,  2866,\n",
      "         24173,  2000,  4888,  1037, 13925,  2886,  2006, 23023,  2073,  2002,\n",
      "          3615,  2000,  1996,  3364,  2004,  1523,  4895, 21572,  7959, 28231,\n",
      "          2389,  1524,  1998,  1523,  4487,  7741,  2368,  8918,  1012,  1524,\n",
      "          1523,  2019,  3364,  2040,  2018, 27948,  2135,  3530,  2000,  3711,\n",
      "          2006,  1037,  2694,  2265,  2000,  5326,  2010,  2047,  2143,  8005,\n",
      "          2041,  2012,  1996,  2197,  3371,  2138,  2002,  2987,  1521,  1056,\n",
      "          2066,  1996,  2576,  5448,  1997,  2028,  1997,  1996, 25588,  1010,\n",
      "          1524,  2056,  5253,  1012,  5253,  2056,  2008,  2044, 28903,  2083,\n",
      "         23023,  1521,  1055, 10474,  5438,  1010,  2009,  1523,  3936,  1037,\n",
      "          2158,  7078, 18835,  2011,  2119,  6221,  8398,  1521,  1055, 16354,\n",
      "          2000,  1996,  8798,  1010,  1998,  2011,  3725,  1521,  1055,  3247,\n",
      "          2000,  2681,  1996,  2647,  2586,  1012,  1524,  2002,  2794,  1024,\n",
      "          1523,  2010,  8111,  2012,  1996,  3732,  2089,  4894,  2070,  2004,\n",
      "          3621,  4487,  7741,  2368,  8918,  2445,  2008, 23023,  2370,  8046,\n",
      "          1996,  7327,  2086,  3283,  2000,  2175,  1998,  2444,  1996,  2166,\n",
      "          1997,   102]], device='cuda:0')\n",
      "Attention mask: tensor([[1, 1, 1, 1, 1, 1, 1, 1, 1, 1, 1, 1, 1, 1, 1, 1, 1, 1, 1, 1, 1, 1, 1, 1,\n",
      "         1, 1, 1, 1, 1, 1, 1, 1, 1, 1, 1, 1, 1, 1, 1, 1, 1, 1, 1, 1, 1, 1, 1, 1,\n",
      "         1, 1, 1, 1, 1, 1, 1, 1, 1, 1, 1, 1, 1, 1, 1, 1, 1, 1, 1, 1, 1, 1, 1, 1,\n",
      "         1, 1, 1, 1, 1, 1, 1, 1, 1, 1, 1, 1, 1, 1, 1, 1, 1, 1, 1, 1, 1, 1, 1, 1,\n",
      "         1, 1, 1, 1, 1, 1, 1, 1, 1, 1, 1, 1, 1, 1, 1, 1, 1, 1, 1, 1, 1, 1, 1, 1,\n",
      "         1, 1, 1, 1, 1, 1, 1, 1, 1, 1, 1, 1, 1, 1, 1, 1, 1, 1, 1, 1, 1, 1, 1, 1,\n",
      "         1, 1, 1, 1, 1, 1, 1, 1, 1, 1, 1, 1, 1, 1, 1, 1, 1, 1, 1, 1, 1, 1, 1, 1,\n",
      "         1, 1, 1, 1, 1, 1, 1, 1, 1, 1, 1, 1, 1, 1, 1, 1, 1, 1, 1, 1, 1, 1, 1, 1,\n",
      "         1, 1, 1, 1, 1, 1, 1, 1, 1, 1, 1, 1, 1, 1, 1, 1, 1, 1, 1, 1, 1, 1, 1, 1,\n",
      "         1, 1, 1, 1, 1, 1, 1, 1, 1, 1, 1, 1, 1, 1, 1, 1, 1, 1, 1, 1, 1, 1, 1, 1,\n",
      "         1, 1, 1, 1, 1, 1, 1, 1, 1, 1, 1, 1, 1, 1, 1, 1, 1, 1, 1, 1, 1, 1, 1, 1,\n",
      "         1, 1, 1, 1, 1, 1, 1, 1, 1, 1, 1, 1, 1, 1, 1, 1, 1, 1, 1, 1, 1, 1, 1, 1,\n",
      "         1, 1, 1, 1, 1, 1, 1, 1, 1, 1, 1, 1, 1, 1, 1, 1, 1, 1, 1, 1, 1, 1, 1, 1,\n",
      "         1, 1, 1, 1, 1, 1, 1, 1, 1, 1, 1, 1, 1, 1, 1, 1, 1, 1, 1, 1, 1, 1, 1, 1,\n",
      "         1, 1, 1, 1, 1, 1, 1, 1, 1, 1, 1, 1, 1, 1, 1, 1, 1, 1, 1, 1, 1, 1, 1, 1,\n",
      "         1, 1, 1, 1, 1, 1, 1, 1, 1, 1, 1, 1, 1, 1, 1, 1, 1, 1, 1, 1, 1, 1, 1, 1,\n",
      "         1, 1, 1, 1, 1, 1, 1, 1, 1, 1, 1, 1, 1, 1, 1, 1, 1, 1, 1, 1, 1, 1, 1, 1,\n",
      "         1, 1, 1, 1, 1, 1, 1, 1, 1, 1, 1, 1, 1, 1, 1, 1, 1, 1, 1, 1, 1, 1, 1, 1,\n",
      "         1, 1, 1, 1, 1, 1, 1, 1, 1, 1, 1, 1, 1, 1, 1, 1, 1, 1, 1, 1, 1, 1, 1, 1,\n",
      "         1, 1, 1, 1, 1, 1, 1, 1, 1, 1, 1, 1, 1, 1, 1, 1, 1, 1, 1, 1, 1, 1, 1, 1,\n",
      "         1, 1, 1, 1, 1, 1, 1, 1, 1, 1, 1, 1, 1, 1, 1, 1, 1, 1, 1, 1, 1, 1, 1, 1,\n",
      "         1, 1, 1, 1, 1, 1, 1, 1]], device='cuda:0')\n"
     ]
    }
   ],
   "source": [
    "inputs = tokenizer(train_dataset[0]['text'], return_tensors=\"pt\", padding=True, truncation=True, max_length=512).to(device)\n",
    "print(f\"Input keys: {inputs.keys()}\")\n",
    "print(f\"Input ids: {inputs['input_ids']}\")\n",
    "print(f\"Attention mask: {inputs['attention_mask']}\")"
   ]
  },
  {
   "cell_type": "markdown",
   "metadata": {},
   "source": [
    "## Get the embeddings of the content"
   ]
  },
  {
   "cell_type": "code",
   "execution_count": 9,
   "metadata": {},
   "outputs": [],
   "source": [
    "model.config.output_hidden_states = True\n",
    "\n",
    "# Get model output with hidden states\n",
    "with torch.no_grad():  # Disable gradient calculation for inference\n",
    "    outputs = model(**inputs)\n",
    "\n",
    "# Now, outputs will have the hidden states\n",
    "hidden_states = outputs.hidden_states\n",
    "\n",
    "# The last layer's hidden state can be accessed like this\n",
    "last_hidden_state = outputs.last_hidden_state\n",
    "\n",
    "# take the mean of the last hidden state\n",
    "embeddings = last_hidden_state.mean(dim=1)"
   ]
  },
  {
   "cell_type": "code",
   "execution_count": 10,
   "metadata": {},
   "outputs": [
    {
     "name": "stdout",
     "output_type": "stream",
     "text": [
      "There are 13 hidden states\n",
      "Shape of the last hidden state: torch.Size([1, 512, 768])\n"
     ]
    }
   ],
   "source": [
    "# Let's check the shape of the last hidden state\n",
    "print(f\"There are {len(hidden_states)} hidden states\")\n",
    "print(f\"Shape of the last hidden state: {last_hidden_state.shape}\")"
   ]
  },
  {
   "cell_type": "code",
   "execution_count": 11,
   "metadata": {},
   "outputs": [
    {
     "name": "stdout",
     "output_type": "stream",
     "text": [
      "Embeddings shape: torch.Size([1, 768])\n",
      "Embeddings: \n",
      "tensor([[-2.5972e-02, -1.0488e-01,  3.3386e-01, -1.6336e-01,  8.4529e-02,\n",
      "         -4.0408e-02,  1.7998e-01,  3.9875e-01,  1.0262e-01,  1.0095e-01,\n",
      "         -1.0618e-02, -3.5125e-01, -2.3232e-01,  2.3050e-01, -8.4879e-02,\n",
      "          4.8300e-01,  6.0474e-02,  6.9526e-02, -2.3808e-01,  2.1106e-01,\n",
      "          4.4448e-01,  3.0798e-02,  1.2963e-01,  3.8113e-01,  5.4776e-01,\n",
      "          1.5527e-02,  6.9571e-02, -2.3551e-01, -3.5181e-01, -3.1960e-02,\n",
      "          4.5161e-01,  6.6489e-03, -9.4695e-02, -1.6000e-01, -4.8676e-02,\n",
      "         -1.4999e-01, -5.0338e-02, -1.4458e-01,  3.4407e-02,  1.4660e-01,\n",
      "         -6.2394e-01, -2.9785e-01, -2.6332e-02,  1.7596e-01, -2.5245e-01,\n",
      "         -1.2941e-01,  5.2772e-01,  2.0939e-01,  4.4239e-02, -3.5518e-02,\n",
      "         -2.0509e-01,  5.1960e-01,  1.9304e-01, -7.7366e-02,  1.2713e-01,\n",
      "          3.9100e-01, -1.7471e-01, -5.9035e-01, -4.1179e-01, -3.2222e-01,\n",
      "          1.8764e-01,  1.3571e-01,  4.9532e-02, -3.7943e-01,  1.3452e-01,\n",
      "          1.8092e-01, -1.5976e-01,  3.4142e-01, -6.2635e-01, -3.3731e-02,\n",
      "         -1.9140e-01, -9.5417e-02, -1.2595e-01, -1.2401e-01,  1.5024e-02,\n",
      "         -1.7687e-02,  4.3816e-02,  4.9126e-01,  9.0650e-02,  1.3806e-01,\n",
      "         -1.2815e-02,  2.0069e-01, -1.6511e-01,  5.9211e-01, -2.0033e-02,\n",
      "          3.7812e-02,  1.8438e-01,  1.3598e-01, -2.1971e-01,  3.9578e-01,\n",
      "         -1.4586e-01, -1.8796e-01,  1.2827e-01,  9.6866e-02,  1.8067e-01,\n",
      "         -5.8314e-02,  2.5020e-01, -1.0964e-01, -2.5078e-01,  1.2475e-01,\n",
      "         -1.3220e-02, -2.9204e-01,  2.4745e-01, -1.3851e-01, -1.1007e-01,\n",
      "         -1.3245e-01,  1.2064e-01,  8.0051e-02,  3.1968e-02,  3.0130e-01,\n",
      "          5.9413e-02,  1.1441e-02, -6.6047e-02, -3.6461e-01,  7.4125e-02,\n",
      "          8.9097e-02,  8.4543e-02, -2.8431e-01, -1.0939e-01,  1.4676e-01,\n",
      "          6.2831e-02, -5.1756e-02, -5.7078e-02,  5.3102e-01, -1.0079e-01,\n",
      "         -9.2844e-02, -3.8738e-02,  1.3333e-01, -1.5439e-01, -1.0514e-01,\n",
      "          2.8676e-01,  3.2447e-01,  7.2890e-02, -2.2506e-01, -3.1866e-01,\n",
      "          7.9787e-02, -1.7434e-02, -3.8604e-01, -1.2069e-01,  3.1957e-01,\n",
      "          3.9698e-02, -1.2292e-01,  7.1543e-02,  2.1590e-01,  9.4610e-02,\n",
      "         -2.9644e-02, -2.8826e-02, -1.5016e-01, -2.5925e-02, -3.7802e-02,\n",
      "          5.4699e-03, -1.2489e-01, -2.5098e-02, -1.3283e-01, -7.6279e-02,\n",
      "         -2.0392e-01, -1.8085e-01, -7.7941e-02, -2.5123e-02, -9.2786e-02,\n",
      "          4.1283e-01, -8.7279e-02, -8.1327e-02,  1.8891e-01,  3.4942e-01,\n",
      "          7.0066e-02,  8.0899e-02,  2.4840e-01, -1.2535e-01, -6.6154e-03,\n",
      "          6.3099e-02, -3.9385e-01,  6.5212e-01, -2.6907e-02,  1.9084e-01,\n",
      "          1.9808e-01,  1.1307e-01,  7.1034e-03,  2.7148e-01,  2.2506e-01,\n",
      "         -6.1829e-01,  2.1384e-01,  1.9885e-01,  2.7313e-02,  2.6516e-01,\n",
      "         -2.2572e-01, -5.1045e-03, -1.7398e-01,  1.0595e-01,  9.1983e-02,\n",
      "         -3.4412e-01, -3.0915e-01, -2.5089e-01, -2.3686e-02,  8.5658e-02,\n",
      "         -1.6229e-01, -1.0902e-01,  1.1800e-01, -1.2046e-01,  7.3996e-02,\n",
      "         -6.6482e-02, -3.6249e-02,  3.5861e-02,  1.0798e-01, -2.4592e-02,\n",
      "         -5.4354e-02,  1.5373e-01, -2.5485e-01, -1.2444e-02,  2.8365e-01,\n",
      "         -1.6819e-01,  1.6050e-01,  9.9007e-02,  1.1692e-01, -1.6206e-01,\n",
      "          7.7303e-02,  1.3907e-01, -2.3021e-01, -8.4127e-02,  5.8748e-02,\n",
      "         -1.6128e-01,  3.8111e-01, -2.8391e-01,  2.1162e-01,  1.7459e-02,\n",
      "          7.3360e-01, -2.8210e-03, -7.3597e-01, -2.7265e-02,  2.7547e-01,\n",
      "         -1.8282e-01, -4.1129e-02,  2.7727e-01, -1.3006e-01,  2.3611e-02,\n",
      "         -1.2721e-01, -2.1252e-01, -1.5875e-01,  7.8108e-02, -4.9675e-01,\n",
      "         -1.3077e-01,  4.0475e-01,  1.2259e-01,  1.6482e-01, -1.7203e-01,\n",
      "         -8.4056e-02, -1.2267e-01,  7.4460e-02, -3.2344e-01, -2.2508e-01,\n",
      "         -3.1769e-01, -2.3463e-01, -8.4217e-02, -2.8404e-01,  6.7242e-02,\n",
      "         -1.2470e-01, -1.8483e-01, -1.6021e-01,  8.8318e-02,  2.0199e-01,\n",
      "          2.4244e-01,  7.8137e-02, -1.2555e-01,  1.5239e-01, -2.2583e-01,\n",
      "         -3.0397e-01, -6.9886e-02,  1.1439e-01,  1.9693e-01,  1.2471e-01,\n",
      "          8.8839e-02,  1.3610e-01, -6.3043e-02,  6.2424e-01, -5.5256e-02,\n",
      "         -1.8900e-02,  1.2616e-01, -1.1150e-02, -1.8389e-02, -1.3931e-01,\n",
      "          1.0204e-01,  3.2508e-01, -1.8418e-01,  5.0204e-02, -9.0203e-03,\n",
      "         -2.3801e-01,  1.3354e-01, -4.1901e-02, -1.8747e-01, -1.2528e-01,\n",
      "          1.1078e-01,  3.0875e-01, -9.3294e-02, -9.1834e-02,  2.8099e-01,\n",
      "          6.5940e-02,  3.5453e-01, -2.7068e-02,  2.7290e-01, -1.9852e-02,\n",
      "         -1.5932e-01, -1.8555e-02,  3.5220e-01,  5.5981e-02,  3.2751e-01,\n",
      "         -1.1257e-01,  6.4545e-02, -2.9208e-01, -3.8481e+00,  4.6581e-02,\n",
      "          2.6192e-01, -2.8648e-01,  3.3595e-01, -2.1109e-01, -1.0517e-01,\n",
      "         -1.3436e-01, -2.9679e-01,  9.0851e-02, -1.3720e-01, -2.4825e-01,\n",
      "          6.5363e-02,  1.1042e-01,  9.1206e-02, -1.6876e-01,  4.7813e-02,\n",
      "         -2.2088e-01, -6.9083e-02,  5.2043e-01, -2.7345e-01, -3.1742e-01,\n",
      "          4.7956e-02, -6.0009e-02,  4.5060e-01,  3.6586e-01, -1.8182e-01,\n",
      "         -1.3003e-01,  5.1284e-02, -9.6207e-02, -8.9693e-02, -4.2532e-02,\n",
      "         -4.3053e-03,  3.2679e-01, -1.0607e-02, -1.1374e-02,  1.1947e-01,\n",
      "         -5.1052e-01, -2.4273e-01, -3.5570e-01, -6.7373e-02, -5.4830e-01,\n",
      "         -1.9021e-01, -1.2192e-01,  7.2623e-01, -1.2392e-01, -1.3676e-01,\n",
      "         -1.5554e-01,  1.4178e-01, -2.7504e-01,  9.6830e-02,  6.9075e-02,\n",
      "         -3.5057e-01,  1.5166e-02,  3.9514e-02,  9.4138e-03,  1.6807e-01,\n",
      "          3.4234e-02, -2.1756e-01, -3.6937e-01, -1.4423e-01, -1.3275e-01,\n",
      "         -3.6564e-01,  3.7864e-02, -1.0478e-02, -3.6712e-01, -2.6392e-01,\n",
      "         -5.8915e-03,  8.0938e-02, -2.2919e-01, -2.5024e-01,  3.2773e-01,\n",
      "         -1.9176e-01, -2.5486e-01,  9.5102e-02, -2.1359e-01,  1.4201e-01,\n",
      "          4.6043e-02, -9.5252e-03, -1.5034e-01, -2.0367e-01, -2.4615e-01,\n",
      "         -1.3054e-01, -1.6330e-01, -1.7074e-01, -4.4803e-01,  1.9425e-01,\n",
      "         -6.0446e-02, -2.0080e-01, -2.8547e-01,  8.0315e-02,  6.4571e-02,\n",
      "         -8.8944e-02,  1.0866e-01,  5.2965e-02,  3.9478e-02, -6.3911e-03,\n",
      "          2.8497e-02,  8.2046e-02, -1.0438e-01,  2.9358e-02, -9.0374e-02,\n",
      "          6.0180e-01, -2.3139e-01,  2.4335e-01,  3.1366e-02, -1.4627e-01,\n",
      "          4.2830e-02, -9.5619e-02,  7.2840e-02,  2.4165e-01, -2.3767e-01,\n",
      "          1.0099e-01, -2.5738e-01, -1.0768e-01, -8.6059e-02,  1.9419e-01,\n",
      "          2.7679e-01, -2.4939e-02, -9.3642e-02, -1.9772e-01,  3.2262e-01,\n",
      "         -3.2310e-01, -3.0479e-01, -2.3548e-01, -6.0291e-02, -2.5505e-01,\n",
      "          7.0330e-02,  1.3543e-01,  4.8336e-02, -1.1673e-01, -2.4321e-01,\n",
      "         -1.5612e-01,  1.5689e-01,  4.3246e-01, -1.4019e-01,  1.5796e-02,\n",
      "         -5.5459e-01, -5.4504e-02,  2.0269e-01, -8.2442e-03,  1.4348e-01,\n",
      "          5.4572e-02, -5.5514e-02,  1.6058e-01,  3.1076e-01,  2.0922e-01,\n",
      "          1.8787e-01, -3.9586e-02,  1.7241e-01, -3.6634e-01, -1.9661e-01,\n",
      "         -7.2798e-02, -2.9068e-01,  1.5603e-01,  4.0341e-01,  7.9837e-02,\n",
      "         -1.1004e-02,  1.3287e-02, -4.6952e-01,  1.1590e-01, -4.2763e-02,\n",
      "          1.8432e-01,  1.5208e-01,  2.0154e-02,  3.9621e-01, -9.1625e-04,\n",
      "         -1.1229e-01, -9.4187e-02,  4.0894e-03, -1.8538e-01, -4.6793e-03,\n",
      "         -5.2165e-02, -1.5645e-01, -1.2381e-01,  3.8375e-01,  1.9982e-02,\n",
      "         -1.5758e-01, -5.1960e-02,  3.4956e-01, -1.4829e-01,  1.1964e-01,\n",
      "         -1.1407e-01,  1.0483e-01,  4.0424e-01,  6.7193e-02,  1.8242e-01,\n",
      "         -3.0414e-02, -1.1090e-01,  1.4444e-01, -1.1607e-01,  3.3250e-01,\n",
      "          1.0870e-01,  3.5475e-02, -1.9182e-01, -1.0563e-01,  3.7361e-01,\n",
      "         -2.2213e-01, -2.0964e-02,  2.0752e-01,  3.2723e-03, -7.9994e-02,\n",
      "         -3.1739e-01,  3.1529e-01,  1.2009e-01, -1.8507e-01, -8.4962e-02,\n",
      "          1.1822e-01,  1.0304e-01,  9.4650e-02, -4.0359e-01, -1.0883e-01,\n",
      "         -1.7108e-01, -1.3770e-01,  1.4504e-01, -5.0999e-01, -2.2435e-01,\n",
      "         -1.0861e-01, -1.9475e-01,  1.1809e-01, -1.8660e-01, -2.2449e-01,\n",
      "          4.1404e-04,  6.8181e-02, -2.8002e-01, -4.8243e-02, -1.7857e-02,\n",
      "          1.0883e-01, -4.8158e-02, -3.0966e-01,  2.0274e-01, -8.0898e-01,\n",
      "          2.6651e-01,  5.9619e-01, -1.1736e-01,  2.9912e-02,  7.3498e-02,\n",
      "         -3.6387e-01, -8.4668e-03, -7.7307e-02,  1.7230e-01, -1.3720e-02,\n",
      "         -1.7054e-01, -2.5485e-01,  1.6987e-01,  2.1706e-02, -8.9592e-02,\n",
      "          4.3249e-01, -1.9848e-01,  2.3557e-01,  9.3965e-03,  3.1939e-02,\n",
      "         -1.2273e-01, -1.2906e-01, -1.5507e-01, -4.7428e-01, -2.1787e-01,\n",
      "         -1.2787e-02, -2.4644e-01, -2.9594e-02, -7.8524e-02, -2.2190e-02,\n",
      "         -1.5625e-01,  9.2724e-02,  1.6944e-01,  9.1423e-03,  1.7510e-01,\n",
      "          1.0739e-01, -1.1260e-01, -3.0625e-01,  7.2252e-02, -2.3451e-01,\n",
      "         -2.9192e-01, -1.0607e-01,  2.0950e-02,  1.5857e-01, -1.4895e-01,\n",
      "         -3.8256e-01,  2.4252e-01, -4.4062e-01, -2.3770e-01, -1.1766e-03,\n",
      "         -7.8478e-02, -2.2390e-01,  2.9655e-01, -4.7400e-01,  2.1499e-01,\n",
      "          3.6582e-01, -5.6169e-02, -1.2110e-01,  3.0042e-01,  7.9238e-02,\n",
      "          7.5362e-02, -1.1969e-01, -1.7065e-01, -5.2110e-02,  4.7037e-01,\n",
      "          7.0967e-02, -1.6580e-02, -1.1469e-01, -2.0162e-01, -2.5496e-01,\n",
      "          1.7460e-01,  2.0119e-01, -2.5572e-01, -4.6398e-02,  1.6798e-01,\n",
      "         -5.5820e-01,  1.2803e-01,  2.9084e-02, -1.9809e-01, -1.7325e-01,\n",
      "          5.3295e-01,  1.8942e-01, -2.9699e-01, -1.6367e-01,  1.0281e-01,\n",
      "         -1.1026e-01, -1.9898e-01, -4.8882e-02,  1.3890e-01, -1.9016e-01,\n",
      "          3.9719e-01, -7.8136e-02,  3.5642e-01,  2.0500e-01, -1.0845e-01,\n",
      "         -1.6756e-02, -3.6966e-02,  3.2225e-01, -1.5496e-01,  3.8416e-01,\n",
      "         -3.2472e-01,  3.5618e-01, -1.3504e-01, -1.9071e-01,  1.5405e-01,\n",
      "          5.3575e-02,  3.8446e-02,  3.3879e-02,  2.1635e-02, -2.6536e-02,\n",
      "          3.4801e-02,  3.8677e-01,  3.2744e-01,  1.4410e-01,  2.5776e-01,\n",
      "         -1.0141e-01,  5.7249e-01,  3.7442e-01,  5.5984e-02,  3.1654e-01,\n",
      "         -8.5763e-02, -1.4409e-01,  1.1885e-01,  1.1743e-01,  7.4610e-02,\n",
      "          3.3857e-01,  1.9266e-03,  5.0372e-01,  1.3520e-01,  3.1205e-01,\n",
      "          3.0975e-01, -4.1600e-01, -6.9478e-02, -1.5417e-03,  1.4006e-01,\n",
      "         -2.7961e-01,  8.9338e-02,  1.0814e-01,  2.9677e-01, -2.3290e-02,\n",
      "         -2.2243e-01, -3.1903e-01, -1.4878e-01,  4.4330e-02,  3.0297e-02,\n",
      "         -1.8441e-01, -1.2454e-01,  2.1375e-01, -8.1298e-02, -6.1455e-02,\n",
      "         -3.0433e-01, -1.5776e-02, -1.8138e-01, -1.8377e-01, -2.3281e-01,\n",
      "         -9.1293e-03, -2.7566e-01, -2.7512e-01,  1.2271e-02, -1.9589e-02,\n",
      "          1.4301e-01, -9.2824e-02, -3.3553e-01, -3.8526e-01,  2.6097e-01,\n",
      "          2.1711e-01,  5.2301e-01,  1.9814e-01,  6.6293e-02, -4.3068e-02,\n",
      "         -2.3468e-01,  9.3786e-02,  1.8789e-01, -3.9173e-02, -1.6375e-02,\n",
      "          8.3849e-02, -2.7263e-01,  1.4217e-01, -5.8829e-02,  1.6177e-01,\n",
      "         -4.4451e-01,  4.6691e-02, -1.5332e-01, -3.5970e-02,  1.5558e-01,\n",
      "         -5.2588e-02, -1.2961e-01, -7.4013e-02, -2.3028e-01, -2.5556e-01,\n",
      "         -5.2560e-02,  2.2094e-01, -2.0101e-01,  1.5126e-01,  1.4275e-01,\n",
      "          1.6756e-01, -5.2455e-02, -5.3282e-02, -5.7881e-02,  9.6978e-02,\n",
      "          6.9348e-02,  1.6830e-01, -1.3497e-01, -3.2246e-01,  5.3973e-02,\n",
      "          1.6693e-01, -3.1788e-01,  1.3532e-01,  1.0271e-01,  1.8089e-01,\n",
      "         -4.5830e-02, -2.0964e-01,  4.3505e-01, -4.5496e-02,  7.6409e-02,\n",
      "         -9.6752e-02, -1.5195e-01, -1.7572e-01,  2.3406e-02,  1.6984e-01,\n",
      "          4.2121e-02, -1.7982e-01,  1.1510e-01, -3.9421e-01, -9.2034e-02,\n",
      "         -6.0230e-02,  4.0187e-02, -2.1022e-02]], device='cuda:0')\n"
     ]
    }
   ],
   "source": [
    "print(f\"Embeddings shape: {embeddings.shape}\")\n",
    "print(f\"Embeddings: \\n{embeddings}\")"
   ]
  },
  {
   "cell_type": "markdown",
   "metadata": {},
   "source": [
    "# Create Class Model\n",
    "\n",
    "Now that we know how to get the embeddings of the content, \n",
    "\n",
    "we can create a class model that will take the dataset and get the embeddings of the content."
   ]
  },
  {
   "cell_type": "code",
   "execution_count": 12,
   "metadata": {},
   "outputs": [
    {
     "name": "stdout",
     "output_type": "stream",
     "text": [
      "<class 'datasets.arrow_dataset.Dataset'>\n"
     ]
    }
   ],
   "source": [
    "print(type(train_dataset))"
   ]
  },
  {
   "cell_type": "code",
   "execution_count": 13,
   "metadata": {},
   "outputs": [],
   "source": [
    "import torch\n",
    "from torch.utils.data import Dataset\n",
    "from transformers import AutoTokenizer, AutoModelForSequenceClassification\n",
    "\n",
    "class CustomDataset(Dataset):\n",
    "    def __init__(self, texts, labels, model_name='bert-base-uncased', max_length=512):\n",
    "        self.texts = texts\n",
    "        self.labels = labels\n",
    "        self.tokenizer = AutoTokenizer.from_pretrained(model_name, clean_up_tokenization_spaces=True)\n",
    "        self.model = AutoModel.from_pretrained(model_name).to(device)\n",
    "        self.max_length = max_length\n",
    "\n",
    "    def __len__(self):\n",
    "        return len(self.texts)\n",
    "\n",
    "    def __getitem__(self, idx):\n",
    "        text = self.texts[idx]\n",
    "        label = self.labels[idx]\n",
    "\n",
    "        # Tokenize the text\n",
    "        inputs = self.tokenizer(text, padding=True, truncation=True, max_length=self.max_length, return_tensors='pt')\n",
    "        # Move inputs to CUDA\n",
    "        inputs = {k: v.to(self.model.device) for k, v in inputs.items()}\n",
    "\n",
    "        # Get the BERT embeddings\n",
    "        with torch.no_grad():\n",
    "            outputs = self.model(**inputs)\n",
    "            last_hidden_state = outputs.last_hidden_state\n",
    "            embeddings = last_hidden_state.mean(dim=1)  # [1, 768]\n",
    "            # flatten the embeddings\n",
    "            embeddings = embeddings.flatten()  # [768]\n",
    "            # print(f\"Embeddings shape: {embeddings.shape}\")\n",
    "\n",
    "        # put the embeddings into cpu\n",
    "        embeddings = embeddings.cpu()\n",
    "\n",
    "        return embeddings, label\n"
   ]
  },
  {
   "cell_type": "code",
   "execution_count": 14,
   "metadata": {},
   "outputs": [],
   "source": [
    "new_dataset = CustomDataset(texts=train_dataset['text'], labels=train_dataset['label'])"
   ]
  },
  {
   "cell_type": "code",
   "execution_count": 15,
   "metadata": {},
   "outputs": [
    {
     "name": "stdout",
     "output_type": "stream",
     "text": [
      "Dataset length: 3490\n",
      "Dataset first element: (tensor([-2.5972e-02, -1.0488e-01,  3.3386e-01, -1.6336e-01,  8.4529e-02,\n",
      "        -4.0408e-02,  1.7998e-01,  3.9875e-01,  1.0262e-01,  1.0095e-01,\n",
      "        -1.0618e-02, -3.5125e-01, -2.3232e-01,  2.3050e-01, -8.4879e-02,\n",
      "         4.8300e-01,  6.0474e-02,  6.9526e-02, -2.3808e-01,  2.1106e-01,\n",
      "         4.4448e-01,  3.0798e-02,  1.2963e-01,  3.8113e-01,  5.4776e-01,\n",
      "         1.5527e-02,  6.9571e-02, -2.3551e-01, -3.5181e-01, -3.1960e-02,\n",
      "         4.5161e-01,  6.6489e-03, -9.4695e-02, -1.6000e-01, -4.8676e-02,\n",
      "        -1.4999e-01, -5.0338e-02, -1.4458e-01,  3.4407e-02,  1.4660e-01,\n",
      "        -6.2394e-01, -2.9785e-01, -2.6332e-02,  1.7596e-01, -2.5245e-01,\n",
      "        -1.2941e-01,  5.2772e-01,  2.0939e-01,  4.4239e-02, -3.5518e-02,\n",
      "        -2.0509e-01,  5.1960e-01,  1.9304e-01, -7.7366e-02,  1.2713e-01,\n",
      "         3.9100e-01, -1.7471e-01, -5.9035e-01, -4.1179e-01, -3.2222e-01,\n",
      "         1.8764e-01,  1.3571e-01,  4.9532e-02, -3.7943e-01,  1.3452e-01,\n",
      "         1.8092e-01, -1.5976e-01,  3.4142e-01, -6.2635e-01, -3.3731e-02,\n",
      "        -1.9140e-01, -9.5417e-02, -1.2595e-01, -1.2401e-01,  1.5024e-02,\n",
      "        -1.7687e-02,  4.3816e-02,  4.9126e-01,  9.0650e-02,  1.3806e-01,\n",
      "        -1.2815e-02,  2.0069e-01, -1.6511e-01,  5.9211e-01, -2.0033e-02,\n",
      "         3.7812e-02,  1.8438e-01,  1.3598e-01, -2.1971e-01,  3.9578e-01,\n",
      "        -1.4586e-01, -1.8796e-01,  1.2827e-01,  9.6866e-02,  1.8067e-01,\n",
      "        -5.8314e-02,  2.5020e-01, -1.0964e-01, -2.5078e-01,  1.2475e-01,\n",
      "        -1.3220e-02, -2.9204e-01,  2.4745e-01, -1.3851e-01, -1.1007e-01,\n",
      "        -1.3245e-01,  1.2064e-01,  8.0051e-02,  3.1968e-02,  3.0130e-01,\n",
      "         5.9413e-02,  1.1441e-02, -6.6047e-02, -3.6461e-01,  7.4125e-02,\n",
      "         8.9097e-02,  8.4543e-02, -2.8431e-01, -1.0939e-01,  1.4676e-01,\n",
      "         6.2831e-02, -5.1756e-02, -5.7078e-02,  5.3102e-01, -1.0079e-01,\n",
      "        -9.2844e-02, -3.8738e-02,  1.3333e-01, -1.5439e-01, -1.0514e-01,\n",
      "         2.8676e-01,  3.2447e-01,  7.2890e-02, -2.2506e-01, -3.1866e-01,\n",
      "         7.9787e-02, -1.7434e-02, -3.8604e-01, -1.2069e-01,  3.1957e-01,\n",
      "         3.9698e-02, -1.2292e-01,  7.1543e-02,  2.1590e-01,  9.4610e-02,\n",
      "        -2.9644e-02, -2.8826e-02, -1.5016e-01, -2.5925e-02, -3.7802e-02,\n",
      "         5.4699e-03, -1.2489e-01, -2.5098e-02, -1.3283e-01, -7.6279e-02,\n",
      "        -2.0392e-01, -1.8085e-01, -7.7941e-02, -2.5123e-02, -9.2786e-02,\n",
      "         4.1283e-01, -8.7279e-02, -8.1327e-02,  1.8891e-01,  3.4942e-01,\n",
      "         7.0066e-02,  8.0899e-02,  2.4840e-01, -1.2535e-01, -6.6154e-03,\n",
      "         6.3099e-02, -3.9385e-01,  6.5212e-01, -2.6907e-02,  1.9084e-01,\n",
      "         1.9808e-01,  1.1307e-01,  7.1034e-03,  2.7148e-01,  2.2506e-01,\n",
      "        -6.1829e-01,  2.1384e-01,  1.9885e-01,  2.7313e-02,  2.6516e-01,\n",
      "        -2.2572e-01, -5.1045e-03, -1.7398e-01,  1.0595e-01,  9.1983e-02,\n",
      "        -3.4412e-01, -3.0915e-01, -2.5089e-01, -2.3686e-02,  8.5658e-02,\n",
      "        -1.6229e-01, -1.0902e-01,  1.1800e-01, -1.2046e-01,  7.3996e-02,\n",
      "        -6.6482e-02, -3.6249e-02,  3.5861e-02,  1.0798e-01, -2.4592e-02,\n",
      "        -5.4354e-02,  1.5373e-01, -2.5485e-01, -1.2444e-02,  2.8365e-01,\n",
      "        -1.6819e-01,  1.6050e-01,  9.9007e-02,  1.1692e-01, -1.6206e-01,\n",
      "         7.7303e-02,  1.3907e-01, -2.3021e-01, -8.4127e-02,  5.8748e-02,\n",
      "        -1.6128e-01,  3.8111e-01, -2.8391e-01,  2.1162e-01,  1.7459e-02,\n",
      "         7.3360e-01, -2.8210e-03, -7.3597e-01, -2.7265e-02,  2.7547e-01,\n",
      "        -1.8282e-01, -4.1129e-02,  2.7727e-01, -1.3006e-01,  2.3611e-02,\n",
      "        -1.2721e-01, -2.1252e-01, -1.5875e-01,  7.8108e-02, -4.9675e-01,\n",
      "        -1.3077e-01,  4.0475e-01,  1.2259e-01,  1.6482e-01, -1.7203e-01,\n",
      "        -8.4056e-02, -1.2267e-01,  7.4460e-02, -3.2344e-01, -2.2508e-01,\n",
      "        -3.1769e-01, -2.3463e-01, -8.4217e-02, -2.8404e-01,  6.7242e-02,\n",
      "        -1.2470e-01, -1.8483e-01, -1.6021e-01,  8.8318e-02,  2.0199e-01,\n",
      "         2.4244e-01,  7.8137e-02, -1.2555e-01,  1.5239e-01, -2.2583e-01,\n",
      "        -3.0397e-01, -6.9886e-02,  1.1439e-01,  1.9693e-01,  1.2471e-01,\n",
      "         8.8839e-02,  1.3610e-01, -6.3043e-02,  6.2424e-01, -5.5256e-02,\n",
      "        -1.8900e-02,  1.2616e-01, -1.1150e-02, -1.8389e-02, -1.3931e-01,\n",
      "         1.0204e-01,  3.2508e-01, -1.8418e-01,  5.0204e-02, -9.0203e-03,\n",
      "        -2.3801e-01,  1.3354e-01, -4.1901e-02, -1.8747e-01, -1.2528e-01,\n",
      "         1.1078e-01,  3.0875e-01, -9.3294e-02, -9.1834e-02,  2.8099e-01,\n",
      "         6.5940e-02,  3.5453e-01, -2.7068e-02,  2.7290e-01, -1.9852e-02,\n",
      "        -1.5932e-01, -1.8555e-02,  3.5220e-01,  5.5981e-02,  3.2751e-01,\n",
      "        -1.1257e-01,  6.4545e-02, -2.9208e-01, -3.8481e+00,  4.6581e-02,\n",
      "         2.6192e-01, -2.8648e-01,  3.3595e-01, -2.1109e-01, -1.0517e-01,\n",
      "        -1.3436e-01, -2.9679e-01,  9.0851e-02, -1.3720e-01, -2.4825e-01,\n",
      "         6.5363e-02,  1.1042e-01,  9.1206e-02, -1.6876e-01,  4.7813e-02,\n",
      "        -2.2088e-01, -6.9083e-02,  5.2043e-01, -2.7345e-01, -3.1742e-01,\n",
      "         4.7956e-02, -6.0009e-02,  4.5060e-01,  3.6586e-01, -1.8182e-01,\n",
      "        -1.3003e-01,  5.1284e-02, -9.6207e-02, -8.9693e-02, -4.2532e-02,\n",
      "        -4.3053e-03,  3.2679e-01, -1.0607e-02, -1.1374e-02,  1.1947e-01,\n",
      "        -5.1052e-01, -2.4273e-01, -3.5570e-01, -6.7373e-02, -5.4830e-01,\n",
      "        -1.9021e-01, -1.2192e-01,  7.2623e-01, -1.2392e-01, -1.3676e-01,\n",
      "        -1.5554e-01,  1.4178e-01, -2.7504e-01,  9.6830e-02,  6.9075e-02,\n",
      "        -3.5057e-01,  1.5166e-02,  3.9514e-02,  9.4138e-03,  1.6807e-01,\n",
      "         3.4234e-02, -2.1756e-01, -3.6937e-01, -1.4423e-01, -1.3275e-01,\n",
      "        -3.6564e-01,  3.7864e-02, -1.0478e-02, -3.6712e-01, -2.6392e-01,\n",
      "        -5.8915e-03,  8.0938e-02, -2.2919e-01, -2.5024e-01,  3.2773e-01,\n",
      "        -1.9176e-01, -2.5486e-01,  9.5102e-02, -2.1359e-01,  1.4201e-01,\n",
      "         4.6043e-02, -9.5252e-03, -1.5034e-01, -2.0367e-01, -2.4615e-01,\n",
      "        -1.3054e-01, -1.6330e-01, -1.7074e-01, -4.4803e-01,  1.9425e-01,\n",
      "        -6.0446e-02, -2.0080e-01, -2.8547e-01,  8.0315e-02,  6.4571e-02,\n",
      "        -8.8944e-02,  1.0866e-01,  5.2965e-02,  3.9478e-02, -6.3911e-03,\n",
      "         2.8497e-02,  8.2046e-02, -1.0438e-01,  2.9358e-02, -9.0374e-02,\n",
      "         6.0180e-01, -2.3139e-01,  2.4335e-01,  3.1366e-02, -1.4627e-01,\n",
      "         4.2830e-02, -9.5619e-02,  7.2840e-02,  2.4165e-01, -2.3767e-01,\n",
      "         1.0099e-01, -2.5738e-01, -1.0768e-01, -8.6059e-02,  1.9419e-01,\n",
      "         2.7679e-01, -2.4939e-02, -9.3642e-02, -1.9772e-01,  3.2262e-01,\n",
      "        -3.2310e-01, -3.0479e-01, -2.3548e-01, -6.0291e-02, -2.5505e-01,\n",
      "         7.0330e-02,  1.3543e-01,  4.8336e-02, -1.1673e-01, -2.4321e-01,\n",
      "        -1.5612e-01,  1.5689e-01,  4.3246e-01, -1.4019e-01,  1.5796e-02,\n",
      "        -5.5459e-01, -5.4504e-02,  2.0269e-01, -8.2442e-03,  1.4348e-01,\n",
      "         5.4572e-02, -5.5514e-02,  1.6058e-01,  3.1076e-01,  2.0922e-01,\n",
      "         1.8787e-01, -3.9586e-02,  1.7241e-01, -3.6634e-01, -1.9661e-01,\n",
      "        -7.2798e-02, -2.9068e-01,  1.5603e-01,  4.0341e-01,  7.9837e-02,\n",
      "        -1.1004e-02,  1.3287e-02, -4.6952e-01,  1.1590e-01, -4.2763e-02,\n",
      "         1.8432e-01,  1.5208e-01,  2.0154e-02,  3.9621e-01, -9.1625e-04,\n",
      "        -1.1229e-01, -9.4187e-02,  4.0894e-03, -1.8538e-01, -4.6793e-03,\n",
      "        -5.2165e-02, -1.5645e-01, -1.2381e-01,  3.8375e-01,  1.9982e-02,\n",
      "        -1.5758e-01, -5.1960e-02,  3.4956e-01, -1.4829e-01,  1.1964e-01,\n",
      "        -1.1407e-01,  1.0483e-01,  4.0424e-01,  6.7193e-02,  1.8242e-01,\n",
      "        -3.0414e-02, -1.1090e-01,  1.4444e-01, -1.1607e-01,  3.3250e-01,\n",
      "         1.0870e-01,  3.5475e-02, -1.9182e-01, -1.0563e-01,  3.7361e-01,\n",
      "        -2.2213e-01, -2.0964e-02,  2.0752e-01,  3.2723e-03, -7.9994e-02,\n",
      "        -3.1739e-01,  3.1529e-01,  1.2009e-01, -1.8507e-01, -8.4962e-02,\n",
      "         1.1822e-01,  1.0304e-01,  9.4650e-02, -4.0359e-01, -1.0883e-01,\n",
      "        -1.7108e-01, -1.3770e-01,  1.4504e-01, -5.0999e-01, -2.2435e-01,\n",
      "        -1.0861e-01, -1.9475e-01,  1.1809e-01, -1.8660e-01, -2.2449e-01,\n",
      "         4.1404e-04,  6.8181e-02, -2.8002e-01, -4.8243e-02, -1.7857e-02,\n",
      "         1.0883e-01, -4.8158e-02, -3.0966e-01,  2.0274e-01, -8.0898e-01,\n",
      "         2.6651e-01,  5.9619e-01, -1.1736e-01,  2.9912e-02,  7.3498e-02,\n",
      "        -3.6387e-01, -8.4668e-03, -7.7307e-02,  1.7230e-01, -1.3720e-02,\n",
      "        -1.7054e-01, -2.5485e-01,  1.6987e-01,  2.1706e-02, -8.9592e-02,\n",
      "         4.3249e-01, -1.9848e-01,  2.3557e-01,  9.3965e-03,  3.1939e-02,\n",
      "        -1.2273e-01, -1.2906e-01, -1.5507e-01, -4.7428e-01, -2.1787e-01,\n",
      "        -1.2787e-02, -2.4644e-01, -2.9594e-02, -7.8524e-02, -2.2190e-02,\n",
      "        -1.5625e-01,  9.2724e-02,  1.6944e-01,  9.1423e-03,  1.7510e-01,\n",
      "         1.0739e-01, -1.1260e-01, -3.0625e-01,  7.2252e-02, -2.3451e-01,\n",
      "        -2.9192e-01, -1.0607e-01,  2.0950e-02,  1.5857e-01, -1.4895e-01,\n",
      "        -3.8256e-01,  2.4252e-01, -4.4062e-01, -2.3770e-01, -1.1766e-03,\n",
      "        -7.8478e-02, -2.2390e-01,  2.9655e-01, -4.7400e-01,  2.1499e-01,\n",
      "         3.6582e-01, -5.6169e-02, -1.2110e-01,  3.0042e-01,  7.9238e-02,\n",
      "         7.5362e-02, -1.1969e-01, -1.7065e-01, -5.2110e-02,  4.7037e-01,\n",
      "         7.0967e-02, -1.6580e-02, -1.1469e-01, -2.0162e-01, -2.5496e-01,\n",
      "         1.7460e-01,  2.0119e-01, -2.5572e-01, -4.6398e-02,  1.6798e-01,\n",
      "        -5.5820e-01,  1.2803e-01,  2.9084e-02, -1.9809e-01, -1.7325e-01,\n",
      "         5.3295e-01,  1.8942e-01, -2.9699e-01, -1.6367e-01,  1.0281e-01,\n",
      "        -1.1026e-01, -1.9898e-01, -4.8882e-02,  1.3890e-01, -1.9016e-01,\n",
      "         3.9719e-01, -7.8136e-02,  3.5642e-01,  2.0500e-01, -1.0845e-01,\n",
      "        -1.6756e-02, -3.6966e-02,  3.2225e-01, -1.5496e-01,  3.8416e-01,\n",
      "        -3.2472e-01,  3.5618e-01, -1.3504e-01, -1.9071e-01,  1.5405e-01,\n",
      "         5.3575e-02,  3.8446e-02,  3.3879e-02,  2.1635e-02, -2.6536e-02,\n",
      "         3.4801e-02,  3.8677e-01,  3.2744e-01,  1.4410e-01,  2.5776e-01,\n",
      "        -1.0141e-01,  5.7249e-01,  3.7442e-01,  5.5984e-02,  3.1654e-01,\n",
      "        -8.5763e-02, -1.4409e-01,  1.1885e-01,  1.1743e-01,  7.4610e-02,\n",
      "         3.3857e-01,  1.9266e-03,  5.0372e-01,  1.3520e-01,  3.1205e-01,\n",
      "         3.0975e-01, -4.1600e-01, -6.9478e-02, -1.5417e-03,  1.4006e-01,\n",
      "        -2.7961e-01,  8.9338e-02,  1.0814e-01,  2.9677e-01, -2.3290e-02,\n",
      "        -2.2243e-01, -3.1903e-01, -1.4878e-01,  4.4330e-02,  3.0297e-02,\n",
      "        -1.8441e-01, -1.2454e-01,  2.1375e-01, -8.1298e-02, -6.1455e-02,\n",
      "        -3.0433e-01, -1.5776e-02, -1.8138e-01, -1.8377e-01, -2.3281e-01,\n",
      "        -9.1293e-03, -2.7566e-01, -2.7512e-01,  1.2271e-02, -1.9589e-02,\n",
      "         1.4301e-01, -9.2824e-02, -3.3553e-01, -3.8526e-01,  2.6097e-01,\n",
      "         2.1711e-01,  5.2301e-01,  1.9814e-01,  6.6293e-02, -4.3068e-02,\n",
      "        -2.3468e-01,  9.3786e-02,  1.8789e-01, -3.9173e-02, -1.6375e-02,\n",
      "         8.3849e-02, -2.7263e-01,  1.4217e-01, -5.8829e-02,  1.6177e-01,\n",
      "        -4.4451e-01,  4.6691e-02, -1.5332e-01, -3.5970e-02,  1.5558e-01,\n",
      "        -5.2588e-02, -1.2961e-01, -7.4013e-02, -2.3028e-01, -2.5556e-01,\n",
      "        -5.2560e-02,  2.2094e-01, -2.0101e-01,  1.5126e-01,  1.4275e-01,\n",
      "         1.6756e-01, -5.2455e-02, -5.3282e-02, -5.7881e-02,  9.6978e-02,\n",
      "         6.9348e-02,  1.6830e-01, -1.3497e-01, -3.2246e-01,  5.3973e-02,\n",
      "         1.6693e-01, -3.1788e-01,  1.3532e-01,  1.0271e-01,  1.8089e-01,\n",
      "        -4.5830e-02, -2.0964e-01,  4.3505e-01, -4.5496e-02,  7.6409e-02,\n",
      "        -9.6752e-02, -1.5195e-01, -1.7572e-01,  2.3406e-02,  1.6984e-01,\n",
      "         4.2121e-02, -1.7982e-01,  1.1510e-01, -3.9421e-01, -9.2034e-02,\n",
      "        -6.0230e-02,  4.0187e-02, -2.1022e-02]), 1)\n"
     ]
    }
   ],
   "source": [
    "# show the first element\n",
    "print(f\"Dataset length: {len(new_dataset)}\")\n",
    "print(f\"Dataset first element: {new_dataset[0]}\")"
   ]
  },
  {
   "cell_type": "markdown",
   "metadata": {},
   "source": [
    "# Build Graph\n",
    "\n",
    "Use KNN to build the graph\n",
    "- node: the embeddings\n",
    "- edge: the similarity between the nodes (k=3)"
   ]
  },
  {
   "cell_type": "code",
   "execution_count": 16,
   "metadata": {},
   "outputs": [
    {
     "name": "stdout",
     "output_type": "stream",
     "text": [
      "Distances matrix: [array([[0.        , 0.05849975, 0.05945569, 0.05960065],\n",
      "       [0.        , 0.061845  , 0.06728303, 0.06776905],\n",
      "       [0.        , 0.09875286, 0.10185146, 0.10220969],\n",
      "       ...,\n",
      "       [0.        , 0.07318211, 0.07780695, 0.08173597],\n",
      "       [0.        , 0.03800333, 0.04375291, 0.04597676],\n",
      "       [0.        , 0.03597343, 0.03757739, 0.03757739]], dtype=float32)]\n",
      "Indices matrix: [array([[   0, 1143, 1560, 2178],\n",
      "       [   1, 1555,  552, 2695],\n",
      "       [   2,   92,  255, 3158],\n",
      "       ...,\n",
      "       [3487, 2760, 3301, 1690],\n",
      "       [3488,  112, 2407,  336],\n",
      "       [3489, 3035, 1630,  817]])]\n",
      "Graph has 3490 nodes and 7655 edges\n",
      "Labels of first 5 nodes:\n",
      "Node 0: Label 1\n",
      "Node 1: Label 0\n",
      "Node 2: Label 1\n",
      "Node 3: Label 1\n",
      "Node 4: Label 0\n"
     ]
    }
   ],
   "source": [
    "import torch\n",
    "import numpy as np\n",
    "from sklearn.neighbors import NearestNeighbors\n",
    "import networkx as nx\n",
    "from torch.utils.data import DataLoader\n",
    "\n",
    "distances_matrix = []\n",
    "indices_matrix = []\n",
    "\n",
    "def build_knn_graph(dataset, k=5, batch_size=128):\n",
    "    # Create a DataLoader to efficiently process the dataset\n",
    "    dataloader = DataLoader(dataset, batch_size=batch_size, shuffle=False)\n",
    "    \n",
    "    all_embeddings = []\n",
    "    all_labels = []\n",
    "    \n",
    "    # Collect all embeddings and labels\n",
    "    for embeddings, labels in dataloader:\n",
    "        all_embeddings.append(embeddings.cpu().numpy())\n",
    "        all_labels.extend(labels.tolist())\n",
    "    \n",
    "    # Concatenate all embeddings\n",
    "    all_embeddings = np.concatenate(all_embeddings, axis=0)\n",
    "    \n",
    "    # Fit the NearestNeighbors model\n",
    "    nn = NearestNeighbors(n_neighbors=k+1, metric='cosine')\n",
    "    nn.fit(all_embeddings)\n",
    "\n",
    "    # clear the distances_matrix\n",
    "    global distances_matrix\n",
    "    global indices_matrix\n",
    "    distances_matrix = []\n",
    "    indices_matrix = []\n",
    "    # Find k nearest neighbors for each point\n",
    "    distances, indices = nn.kneighbors(all_embeddings)\n",
    "\n",
    "    # threshold = np.percentile(distances, 70)\n",
    "\n",
    "    # store the distances and indices\n",
    "    distances_matrix.append(distances)\n",
    "    indices_matrix.append(indices)\n",
    "    \n",
    "    # Create a graph\n",
    "    G = nx.Graph()\n",
    "    \n",
    "    # Add nodes with labels\n",
    "    for i, label in enumerate(all_labels):\n",
    "        G.add_node(i, label=label)\n",
    "    \n",
    "    # Add edges to the graph\n",
    "    for i in range(len(all_embeddings)):\n",
    "        for j in range(1, k+1):  # Start from 1 to skip self\n",
    "            neighbor_idx = indices[i, j]\n",
    "            distance = distances[i, j]\n",
    "            if distance < 0.1:\n",
    "                G.add_edge(i, neighbor_idx, weight=1-distance)  # Convert distance to similarity\n",
    "            # G.add_edge(i, neighbor_idx, weight=1-distance)  # Convert distance to similarity\n",
    "    \n",
    "    return G\n",
    "\n",
    "# Build the graph \n",
    "graph = build_knn_graph(new_dataset, k=3, batch_size=128)\n",
    "\n",
    "print(f\"Distances matrix: {distances_matrix}\")\n",
    "print(f\"Indices matrix: {indices_matrix}\")\n",
    "\n",
    "print(f\"Graph has {graph.number_of_nodes()} nodes and {graph.number_of_edges()} edges\")\n",
    "\n",
    "# Example of accessing node labels\n",
    "print(\"Labels of first 5 nodes:\")\n",
    "for i in range(5):\n",
    "    print(f\"Node {i}: Label {graph.nodes[i]['label']}\")"
   ]
  },
  {
   "cell_type": "code",
   "execution_count": 17,
   "metadata": {},
   "outputs": [
    {
     "name": "stdout",
     "output_type": "stream",
     "text": [
      "Number of nodes: 3490\n",
      "Number of edges: 7655\n",
      "Label distribution:\n",
      "Label 0: 2079\n",
      "Label 1: 1411\n",
      "Ratio (1:0): 0.68\n"
     ]
    }
   ],
   "source": [
    "# number of nodes\n",
    "print(f\"Number of nodes: {graph.number_of_nodes()}\")\n",
    "# number of edges\n",
    "print(f\"Number of edges: {graph.number_of_edges()}\")\n",
    "# Get label distribution\n",
    "label_distribution = nx.get_node_attributes(graph, 'label')\n",
    "label_counts = {0: 0, 1: 0}\n",
    "for label in label_distribution.values():\n",
    "    label_counts[label] += 1\n",
    "\n",
    "# Calculate ratio\n",
    "total = sum(label_counts.values())\n",
    "ratio = label_counts[1] / label_counts[0] if label_counts[0] != 0 else float('inf')\n",
    "\n",
    "print(f\"Label distribution:\")\n",
    "print(f\"Label 0: {label_counts[0]}\")\n",
    "print(f\"Label 1: {label_counts[1]}\")\n",
    "print(f\"Ratio (1:0): {ratio:.2f}\")"
   ]
  },
  {
   "cell_type": "markdown",
   "metadata": {},
   "source": [
    "## Visualize the graph"
   ]
  },
  {
   "cell_type": "code",
   "execution_count": 19,
   "metadata": {},
   "outputs": [
    {
     "name": "stderr",
     "output_type": "stream",
     "text": [
      "/tmp/ipykernel_3850803/2002131127.py:13: MatplotlibDeprecationWarning: The get_cmap function was deprecated in Matplotlib 3.7 and will be removed in 3.11. Use ``matplotlib.colormaps[name]`` or ``matplotlib.colormaps.get_cmap()`` or ``pyplot.get_cmap()`` instead.\n",
      "  color_map = plt.cm.get_cmap('Set1')(np.linspace(0, 1, len(unique_labels)))\n",
      "/tmp/ipykernel_3850803/2002131127.py:32: UserWarning: This figure includes Axes that are not compatible with tight_layout, so results might be incorrect.\n",
      "  plt.tight_layout()\n"
     ]
    },
    {
     "data": {
      "image/png": "[encoded data removed]",
      "text/plain": [
       "<Figure size 1200x800 with 1 Axes>"
      ]
     },
     "metadata": {},
     "output_type": "display_data"
    }
   ],
   "source": [
    "import networkx as nx\n",
    "import matplotlib.pyplot as plt\n",
    "\n",
    "def visualize_graph(G, max_nodes=100):\n",
    "    # If the graph is too large, take a subgraph\n",
    "    if G.number_of_nodes() > max_nodes:\n",
    "        nodes = list(G.nodes())[:max_nodes]\n",
    "        G = G.subgraph(nodes)\n",
    "    \n",
    "    # Get node colors based on labels\n",
    "    labels = nx.get_node_attributes(G, 'label')\n",
    "    unique_labels = set(labels.values())\n",
    "    color_map = plt.cm.get_cmap('Set1')(np.linspace(0, 1, len(unique_labels)))\n",
    "    color_dict = dict(zip(unique_labels, color_map))\n",
    "    node_colors = [color_dict[labels[node]] for node in G.nodes()]\n",
    "    \n",
    "    # Set up the plot\n",
    "    plt.figure(figsize=(12, 8))\n",
    "    \n",
    "    # Draw the graph\n",
    "    pos = nx.spring_layout(G)\n",
    "    nx.draw(G, pos, node_color=node_colors, with_labels=False, node_size=50, alpha=0.8)\n",
    "    \n",
    "    # Add a legend\n",
    "    legend_elements = [plt.Line2D([0], [0], marker='o', color='w', label=label, \n",
    "                       markerfacecolor=color_dict[label], markersize=10)\n",
    "                       for label in unique_labels]\n",
    "    plt.legend(handles=legend_elements, title=\"Labels\")\n",
    "    \n",
    "    plt.title(f\"Graph Visualization (showing {G.number_of_nodes()} nodes)\")\n",
    "    plt.axis('off')\n",
    "    plt.tight_layout()\n",
    "    plt.show()\n",
    "\n",
    "# Assuming you've already created your graph\n",
    "# graph = build_knn_graph(custom_dataset, k=5, batch_size=128)\n",
    "\n",
    "visualize_graph(graph)"
   ]
  }
 ],
 "metadata": {
  "kernelspec": {
   "display_name": "base",
   "language": "python",
   "name": "python3"
  },
  "language_info": {
   "codemirror_mode": {
    "name": "ipython",
    "version": 3
   },
   "file_extension": ".py",
   "mimetype": "text/x-python",
   "name": "python",
   "nbconvert_exporter": "python",
   "pygments_lexer": "ipython3",
   "version": "3.12.5"
  }
 },
 "nbformat": 4,
 "nbformat_minor": 2
}

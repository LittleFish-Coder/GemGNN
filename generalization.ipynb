{
 "cells": [
  {
   "cell_type": "markdown",
   "metadata": {},
   "source": [
    "# Model Generalization\n",
    "\n",
    "Cross-dataset validation\n",
    "\n",
    "Here, we train the model on dataset A and test it on dataset B. \n",
    "- Dataset A: [GonzaloA/fake_news](https://huggingface.co/datasets/GonzaloA/fake_news)\n",
    "- Dataset B: [Fake News Detection Challenge KDD 2020](https://huggingface.co/datasets/LittleFish-Coder/Fake-News-Detection-Challenge-KDD-2020)"
   ]
  },
  {
   "cell_type": "code",
   "execution_count": 1,
   "metadata": {},
   "outputs": [
    {
     "name": "stdout",
     "output_type": "stream",
     "text": [
      "Using cuda device\n"
     ]
    }
   ],
   "source": [
    "import torch\n",
    "\n",
    "device = \"cuda\" if torch.cuda.is_available() else \"cpu\"\n",
    "print(f\"Using {device} device\")"
   ]
  },
  {
   "cell_type": "markdown",
   "metadata": {},
   "source": [
    "# Load Finetuned BERT Model and Tokenizer"
   ]
  },
  {
   "cell_type": "markdown",
   "metadata": {},
   "source": [
    "Load the finetuned BERT model and tokenizer (trained on the fake-news-tfg dataset)"
   ]
  },
  {
   "cell_type": "code",
   "execution_count": 2,
   "metadata": {},
   "outputs": [],
   "source": [
    "# We have provided a pre-trained model for you to use:\n",
    "# - bert-base-uncased-fake-news-tfg\n",
    "# - distilbert-base-uncased-fake-news-tfg\n",
    "# - roberta-base-fake-news-tfg\n",
    "\n",
    "model_name = 'roberta-base-fake-news-tfg'"
   ]
  },
  {
   "cell_type": "code",
   "execution_count": 3,
   "metadata": {},
   "outputs": [
    {
     "name": "stderr",
     "output_type": "stream",
     "text": [
      "/home/littlefish/miniconda3/lib/python3.12/site-packages/tqdm/auto.py:21: TqdmWarning: IProgress not found. Please update jupyter and ipywidgets. See https://ipywidgets.readthedocs.io/en/stable/user_install.html\n",
      "  from .autonotebook import tqdm as notebook_tqdm\n"
     ]
    }
   ],
   "source": [
    "# Load model directly\n",
    "from transformers import AutoTokenizer, AutoModelForSequenceClassification\n",
    "\n",
    "tokenizer = AutoTokenizer.from_pretrained(f\"LittleFish-Coder/{model_name}\")\n",
    "model = AutoModelForSequenceClassification.from_pretrained(f\"LittleFish-Coder/{model_name}\").to(device)"
   ]
  },
  {
   "cell_type": "markdown",
   "metadata": {},
   "source": [
    "# Load Different Dataset"
   ]
  },
  {
   "cell_type": "markdown",
   "metadata": {},
   "source": [
    "Load a different dataset (Kaggle Fake News Dataset) to test the generalization of the model"
   ]
  },
  {
   "cell_type": "code",
   "execution_count": 4,
   "metadata": {},
   "outputs": [
    {
     "name": "stderr",
     "output_type": "stream",
     "text": [
      "Generating train split: 100%|██████████| 3490/3490 [00:00<00:00, 25101.42 examples/s]\n",
      "Generating validation split: 100%|██████████| 997/997 [00:00<00:00, 23357.53 examples/s]\n",
      "Generating test split: 100%|██████████| 499/499 [00:00<00:00, 21184.43 examples/s]\n"
     ]
    }
   ],
   "source": [
    "from datasets import load_dataset\n",
    "\n",
    "# load and download the dataset from huggingface\n",
    "dataset = load_dataset(\"LittleFish-Coder/Fake-News-Detection-Challenge-KDD-2020\", download_mode=\"reuse_cache_if_exists\", cache_dir=\"dataset\")"
   ]
  },
  {
   "cell_type": "code",
   "execution_count": 5,
   "metadata": {},
   "outputs": [
    {
     "name": "stdout",
     "output_type": "stream",
     "text": [
      "Dataset({\n",
      "    features: ['text', 'label', '__index_level_0__'],\n",
      "    num_rows: 499\n",
      "})\n"
     ]
    }
   ],
   "source": [
    "test_dataset = dataset['test']\n",
    "print(test_dataset)"
   ]
  },
  {
   "cell_type": "markdown",
   "metadata": {},
   "source": [
    "## Predict via tokenizer & model"
   ]
  },
  {
   "cell_type": "markdown",
   "metadata": {},
   "source": [
    "### Tokenize the text and get the class"
   ]
  },
  {
   "cell_type": "code",
   "execution_count": 6,
   "metadata": {},
   "outputs": [],
   "source": [
    "tokenized_test = tokenizer(test_dataset['text'], padding=True, truncation=True, return_tensors=\"pt\")"
   ]
  },
  {
   "cell_type": "code",
   "execution_count": 7,
   "metadata": {},
   "outputs": [
    {
     "name": "stdout",
     "output_type": "stream",
     "text": [
      "dict_keys(['input_ids', 'attention_mask'])\n"
     ]
    }
   ],
   "source": [
    "print(tokenized_test.keys())"
   ]
  },
  {
   "cell_type": "code",
   "execution_count": 8,
   "metadata": {},
   "outputs": [],
   "source": [
    "input_ids_list = tokenized_test['input_ids'].tolist()\n",
    "attention_mask_list = tokenized_test['attention_mask'].tolist()"
   ]
  },
  {
   "cell_type": "code",
   "execution_count": 9,
   "metadata": {},
   "outputs": [],
   "source": [
    "predicted_labels = []\n",
    "\n",
    "# iterate over the dataset\n",
    "for input_ids, attention_mask in zip(input_ids_list, attention_mask_list):\n",
    "    inputs = {\n",
    "        'input_ids': torch.tensor([input_ids]).to(device),\n",
    "        'attention_mask': torch.tensor([attention_mask]).to(device)\n",
    "    }\n",
    "    with torch.no_grad():\n",
    "        outputs = model(**inputs)\n",
    "        logits = outputs.logits\n",
    "\n",
    "    predicted_class_id = logits.argmax().item()\n",
    "    prediction = model.config.id2label[predicted_class_id]\n",
    "    predicted_labels.append(prediction)\n",
    "    # print(f\"Output: {outputs}\")\n",
    "    # print(f\"Logits: {logits}\")\n",
    "    # print(f\"Prediction: {prediction}\")"
   ]
  },
  {
   "cell_type": "markdown",
   "metadata": {},
   "source": [
    "## Compare Real and Predicted Class\n",
    "\n",
    "- In KDD2020,\n",
    "    - 0: real\n",
    "    - 1: fake\n",
    "\n",
    "- In fake-news-tfg,\n",
    "    - 0: fake\n",
    "    - 1: real"
   ]
  },
  {
   "cell_type": "code",
   "execution_count": 10,
   "metadata": {},
   "outputs": [],
   "source": [
    "id2label = {\n",
    "    0: 'real',\n",
    "    1: 'fake'\n",
    "}\n",
    "\n",
    "kdd_labels = [id2label[id] for id in test_dataset['label']]"
   ]
  },
  {
   "cell_type": "code",
   "execution_count": 11,
   "metadata": {},
   "outputs": [],
   "source": [
    "# now we can calculate the accuracy\n",
    "correct_predictions = 0\n",
    "\n",
    "for real_label, predicted_label in zip(kdd_labels, predicted_labels):\n",
    "    if real_label == predicted_label:\n",
    "        correct_predictions += 1\n",
    "\n",
    "accuracy = correct_predictions / len(kdd_labels)"
   ]
  },
  {
   "cell_type": "code",
   "execution_count": 12,
   "metadata": {},
   "outputs": [
    {
     "name": "stdout",
     "output_type": "stream",
     "text": [
      "Using model: roberta-base-fake-news-tfg\n",
      "Train on: GonzaloA/fake-news-detection-challenge-kdd-2020\n",
      "Test on: Fake-News-Detection-Challenge-KDD-2020\n",
      "Accuracy: 0.503006012024048\n"
     ]
    }
   ],
   "source": [
    "# Results\n",
    "print(f\"Using model: {model_name}\")\n",
    "print(f\"Train on: GonzaloA/fake-news-detection-challenge-kdd-2020\")\n",
    "print(f\"Test on: Fake-News-Detection-Challenge-KDD-2020\")\n",
    "print(f\"Accuracy: {accuracy}\")"
   ]
  }
 ],
 "metadata": {
  "kernelspec": {
   "display_name": "fakenews",
   "language": "python",
   "name": "python3"
  },
  "language_info": {
   "codemirror_mode": {
    "name": "ipython",
    "version": 3
   },
   "file_extension": ".py",
   "mimetype": "text/x-python",
   "name": "python",
   "nbconvert_exporter": "python",
   "pygments_lexer": "ipython3",
   "version": "3.12.4"
  }
 },
 "nbformat": 4,
 "nbformat_minor": 2
}

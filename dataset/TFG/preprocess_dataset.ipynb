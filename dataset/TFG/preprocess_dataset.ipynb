{
 "cells": [
  {
   "cell_type": "markdown",
   "metadata": {},
   "source": [
    "# GonzaloA/fake_news\n",
    "\n",
    "https://huggingface.co/datasets/GonzaloA/fake_news\n",
    "\n",
    "Columns:\n",
    "- `id`: int\n",
    "- `title`: str\n",
    "- `text`: str\n",
    "- `label`: boolean \n",
    "    - `0`: fake\n",
    "    - `1`: true"
   ]
  },
  {
   "cell_type": "code",
   "execution_count": null,
   "metadata": {},
   "outputs": [],
   "source": [
    "# import package\n",
    "from datasets import DatasetDict, load_dataset"
   ]
  },
  {
   "cell_type": "code",
   "execution_count": 2,
   "metadata": {},
   "outputs": [
    {
     "name": "stderr",
     "output_type": "stream",
     "text": [
      "Repo card metadata block was not found. Setting CardData to empty.\n",
      "Generating train split: 100%|██████████| 24353/24353 [00:00<00:00, 77580.21 examples/s]\n",
      "Generating validation split: 100%|██████████| 8117/8117 [00:00<00:00, 84721.50 examples/s]\n",
      "Generating test split: 100%|██████████| 8117/8117 [00:00<00:00, 91056.64 examples/s]\n"
     ]
    }
   ],
   "source": [
    "# load and download the dataset from huggingface\n",
    "dataset = load_dataset(\"GonzaloA/fake_news\")"
   ]
  },
  {
   "cell_type": "markdown",
   "metadata": {},
   "source": [
    "# Add BERT Embeddings"
   ]
  },
  {
   "cell_type": "code",
   "execution_count": 3,
   "metadata": {},
   "outputs": [],
   "source": [
    "import torch\n",
    "\n",
    "device = 'cuda' if torch.cuda.is_available() else 'cpu'"
   ]
  },
  {
   "cell_type": "code",
   "execution_count": 4,
   "metadata": {},
   "outputs": [],
   "source": [
    "from transformers import AutoTokenizer, AutoModel\n",
    "\n",
    "bert_tokenizer = AutoTokenizer.from_pretrained(\"google-bert/bert-base-uncased\", clean_up_tokenization_spaces=True)\n",
    "bert_model = AutoModel.from_pretrained(\"google-bert/bert-base-uncased\").to(device)"
   ]
  },
  {
   "cell_type": "code",
   "execution_count": 5,
   "metadata": {},
   "outputs": [],
   "source": [
    "def generate_bert_embeddings(text):\n",
    "    # Tokenize the input text\n",
    "    inputs = bert_tokenizer(text, return_tensors='pt', padding=True, truncation=True, max_length=512).to(device)\n",
    "    \n",
    "    # Get the BERT embeddings\n",
    "    with torch.no_grad():\n",
    "        outputs = bert_model(**inputs)\n",
    "    \n",
    "    # get the cls token embedding\n",
    "    embeddings = outputs.last_hidden_state[:, 0, :].cpu().numpy()   # (1, 768)\n",
    "\n",
    "    # flatten the embeddings\n",
    "    embeddings = embeddings.flatten()   # (768,)\n",
    "    \n",
    "    return embeddings"
   ]
  },
  {
   "cell_type": "code",
   "execution_count": 6,
   "metadata": {},
   "outputs": [
    {
     "name": "stderr",
     "output_type": "stream",
     "text": [
      "Map: 100%|██████████| 24353/24353 [03:57<00:00, 102.41 examples/s]\n",
      "Map: 100%|██████████| 8117/8117 [01:19<00:00, 102.60 examples/s]\n",
      "Map: 100%|██████████| 8117/8117 [01:19<00:00, 101.90 examples/s]\n"
     ]
    }
   ],
   "source": [
    "# Generate BERT embeddings\n",
    "def add_bert_embeddings(batch):\n",
    "    batch['bert_embeddings'] = [generate_bert_embeddings(text) for text in batch['text']]\n",
    "    return batch\n",
    "\n",
    "# Apply the function to all splits\n",
    "dataset = dataset.map(add_bert_embeddings, batched=True)"
   ]
  },
  {
   "cell_type": "markdown",
   "metadata": {},
   "source": [
    "# Add RoBERTa Embeddings"
   ]
  },
  {
   "cell_type": "code",
   "execution_count": 7,
   "metadata": {},
   "outputs": [],
   "source": [
    "import torch\n",
    "\n",
    "device = 'cuda' if torch.cuda.is_available() else 'cpu'"
   ]
  },
  {
   "cell_type": "code",
   "execution_count": null,
   "metadata": {},
   "outputs": [],
   "source": [
    "from transformers import AutoTokenizer, AutoModel\n",
    "\n",
    "roberta_tokenizer = AutoTokenizer.from_pretrained(\"roberta-base\", clean_up_tokenization_spaces=True)\n",
    "roberta_model = AutoModel.from_pretrained(\"roberta-base\").to(device)"
   ]
  },
  {
   "cell_type": "code",
   "execution_count": 9,
   "metadata": {},
   "outputs": [],
   "source": [
    "def generate_roberta_embeddings(text):\n",
    "    # Tokenize the input text\n",
    "    inputs = roberta_tokenizer(text, return_tensors='pt', padding=True, truncation=True, max_length=512).to(device)\n",
    "    \n",
    "    # Get the RoBERTa embeddings\n",
    "    with torch.no_grad():\n",
    "        outputs = roberta_model(**inputs)\n",
    "    \n",
    "    # get the cls token embedding\n",
    "    embeddings = outputs.last_hidden_state[:, 0, :].cpu().numpy()   # (1, 768)\n",
    "\n",
    "    # flatten the embeddings\n",
    "    embeddings = embeddings.flatten()   # (768,)\n",
    "    \n",
    "    return embeddings"
   ]
  },
  {
   "cell_type": "code",
   "execution_count": 10,
   "metadata": {},
   "outputs": [
    {
     "name": "stderr",
     "output_type": "stream",
     "text": [
      "Map: 100%|██████████| 24353/24353 [03:55<00:00, 103.44 examples/s]\n",
      "Map: 100%|██████████| 8117/8117 [01:18<00:00, 102.90 examples/s]\n",
      "Map: 100%|██████████| 8117/8117 [01:18<00:00, 103.24 examples/s]\n"
     ]
    }
   ],
   "source": [
    "# Generate RoBERTa embeddings\n",
    "def add_roberta_embeddings(batch):\n",
    "    batch['roberta_embeddings'] = [generate_roberta_embeddings(text) for text in batch['text']]\n",
    "    return batch\n",
    "\n",
    "# Apply the function to all splits\n",
    "dataset = dataset.map(add_roberta_embeddings, batched=True)"
   ]
  },
  {
   "cell_type": "markdown",
   "metadata": {},
   "source": [
    "# Reformat the dataset\n",
    "\n",
    "In original dataset, the `label` are designed as `0` for fake news and `1` for real news.\n",
    "\n",
    "In our research, we will change the `label` to `0` as real news and `1` as fake news for better usage."
   ]
  },
  {
   "cell_type": "code",
   "execution_count": 11,
   "metadata": {},
   "outputs": [
    {
     "name": "stderr",
     "output_type": "stream",
     "text": [
      "Map: 100%|██████████| 24353/24353 [00:00<00:00, 97807.12 examples/s] \n",
      "Map: 100%|██████████| 8117/8117 [00:00<00:00, 87633.02 examples/s]\n",
      "Map: 100%|██████████| 8117/8117 [00:00<00:00, 97575.50 examples/s]\n"
     ]
    }
   ],
   "source": [
    "# reformat the `label` column\n",
    "# 0: real, 1: fake\n",
    "def format_label(batch):\n",
    "    batch['label'] = [1 if label == 0 else 0 for label in batch['label']]\n",
    "    return batch\n",
    "\n",
    "dataset = dataset.map(format_label, batched=True)"
   ]
  },
  {
   "cell_type": "code",
   "execution_count": 12,
   "metadata": {},
   "outputs": [],
   "source": [
    "# remove the `unnamed: 0` column\n",
    "dataset = dataset.remove_columns(['Unnamed: 0'])"
   ]
  },
  {
   "cell_type": "markdown",
   "metadata": {},
   "source": [
    "# Upload to HuggingFace Hub"
   ]
  },
  {
   "cell_type": "code",
   "execution_count": 13,
   "metadata": {},
   "outputs": [
    {
     "name": "stderr",
     "output_type": "stream",
     "text": [
      "Creating parquet from Arrow format: 100%|██████████| 25/25 [00:01<00:00, 12.83ba/s]\n",
      "Uploading the dataset shards: 100%|██████████| 1/1 [00:16<00:00, 16.82s/it]\n",
      "Creating parquet from Arrow format: 100%|██████████| 9/9 [00:00<00:00, 13.66ba/s]\n",
      "Uploading the dataset shards: 100%|██████████| 1/1 [00:04<00:00,  4.75s/it]\n",
      "Creating parquet from Arrow format: 100%|██████████| 9/9 [00:00<00:00, 13.97ba/s]\n",
      "Uploading the dataset shards: 100%|██████████| 1/1 [00:05<00:00,  5.30s/it]\n"
     ]
    },
    {
     "data": {
      "text/plain": [
       "CommitInfo(commit_url='https://huggingface.co/datasets/LittleFish-Coder/Fake_News_TFG/commit/2403efdc5db94f87eb92904238befb7fb5b5291e', commit_message='Upload dataset', commit_description='', oid='2403efdc5db94f87eb92904238befb7fb5b5291e', pr_url=None, repo_url=RepoUrl('https://huggingface.co/datasets/LittleFish-Coder/Fake_News_TFG', endpoint='https://huggingface.co', repo_type='dataset', repo_id='LittleFish-Coder/Fake_News_TFG'), pr_revision=None, pr_num=None)"
      ]
     },
     "execution_count": 13,
     "metadata": {},
     "output_type": "execute_result"
    }
   ],
   "source": [
    "# push the dataset to the hub \n",
    "dataset.push_to_hub('LittleFish-Coder/Fake_News_TFG')   # type:ignore"
   ]
  }
 ],
 "metadata": {
  "kernelspec": {
   "display_name": "fakenews",
   "language": "python",
   "name": "python3"
  },
  "language_info": {
   "codemirror_mode": {
    "name": "ipython",
    "version": 3
   },
   "file_extension": ".py",
   "mimetype": "text/x-python",
   "name": "python",
   "nbconvert_exporter": "python",
   "pygments_lexer": "ipython3",
   "version": "3.12.7"
  }
 },
 "nbformat": 4,
 "nbformat_minor": 2
}

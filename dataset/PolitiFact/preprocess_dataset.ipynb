{
 "cells": [
  {
   "cell_type": "markdown",
   "metadata": {},
   "source": [
    "# Ahren09/MMSoc_PolitiFact\n",
    "\n",
    "https://huggingface.co/datasets/Ahren09/MMSoc_PolitiFact\n",
    "\n",
    "Split:\n",
    "- `train`: 381\n",
    "- `test`: 102\n",
    "\n",
    "Columns:\n",
    "- `image`\n",
    "- `text`: str\n",
    "- `label`: int\n",
    "    - `0`: real\n",
    "    - `1`: fake"
   ]
  },
  {
   "cell_type": "code",
   "execution_count": 2,
   "metadata": {},
   "outputs": [],
   "source": [
    "# import package\n",
    "from datasets import DatasetDict, load_dataset"
   ]
  },
  {
   "cell_type": "code",
   "execution_count": 3,
   "metadata": {},
   "outputs": [
    {
     "name": "stderr",
     "output_type": "stream",
     "text": [
      "Generating train split: 100%|██████████| 381/381 [00:00<00:00, 2176.06 examples/s]\n",
      "Generating test split: 100%|██████████| 102/102 [00:00<00:00, 4930.61 examples/s]\n"
     ]
    }
   ],
   "source": [
    "# load and download the dataset from huggingface\n",
    "dataset = load_dataset(\"Ahren09/MMSoc_PolitiFact\")"
   ]
  },
  {
   "cell_type": "code",
   "execution_count": 4,
   "metadata": {},
   "outputs": [
    {
     "name": "stdout",
     "output_type": "stream",
     "text": [
      "DatasetDict({\n",
      "    train: Dataset({\n",
      "        features: ['image', 'text', 'label', 'split'],\n",
      "        num_rows: 381\n",
      "    })\n",
      "    test: Dataset({\n",
      "        features: ['image', 'text', 'label', 'split'],\n",
      "        num_rows: 102\n",
      "    })\n",
      "})\n"
     ]
    }
   ],
   "source": [
    "print(dataset)"
   ]
  },
  {
   "cell_type": "code",
   "execution_count": 5,
   "metadata": {},
   "outputs": [
    {
     "name": "stdout",
     "output_type": "stream",
     "text": [
      "train size: 381\n",
      "test size: 102\n"
     ]
    }
   ],
   "source": [
    "print(f'train size: {len(dataset[\"train\"])}')   # type: ignore\n",
    "print(f'test size: {len(dataset[\"test\"])}') # type: ignore"
   ]
  },
  {
   "cell_type": "markdown",
   "metadata": {},
   "source": [
    "# Add BERT Embeddings"
   ]
  },
  {
   "cell_type": "code",
   "execution_count": 6,
   "metadata": {},
   "outputs": [],
   "source": [
    "import torch\n",
    "\n",
    "device = 'cuda' if torch.cuda.is_available() else 'cpu'"
   ]
  },
  {
   "cell_type": "code",
   "execution_count": 7,
   "metadata": {},
   "outputs": [],
   "source": [
    "from transformers import AutoTokenizer, AutoModel\n",
    "\n",
    "tokenizer = AutoTokenizer.from_pretrained(f\"google-bert/bert-base-uncased\", clean_up_tokenization_spaces=True)\n",
    "model = AutoModel.from_pretrained(f\"google-bert/bert-base-uncased\").to(device)"
   ]
  },
  {
   "cell_type": "code",
   "execution_count": 8,
   "metadata": {},
   "outputs": [],
   "source": [
    "def generate_bert_embeddings(text):\n",
    "    # Tokenize the input text\n",
    "    inputs = tokenizer(text, return_tensors='pt', padding=True, truncation=True, max_length=512).to(device)\n",
    "    \n",
    "    # Get the BERT embeddings\n",
    "    with torch.no_grad():\n",
    "        outputs = model(**inputs)\n",
    "    \n",
    "    # get the cls token embedding\n",
    "    embeddings = outputs.last_hidden_state[:, 0, :].cpu().numpy()   # (1, 768)\n",
    "\n",
    "    # flatten the embeddings\n",
    "    embeddings = embeddings.flatten()   # (768,)\n",
    "    \n",
    "    return embeddings"
   ]
  },
  {
   "cell_type": "code",
   "execution_count": 9,
   "metadata": {},
   "outputs": [
    {
     "name": "stderr",
     "output_type": "stream",
     "text": [
      "Map: 100%|██████████| 381/381 [00:05<00:00, 64.98 examples/s]\n",
      "Map: 100%|██████████| 102/102 [00:01<00:00, 74.04 examples/s]\n"
     ]
    }
   ],
   "source": [
    "# Generate BERT embeddings\n",
    "def add_embeddings(batch):\n",
    "    batch['embeddings'] = [generate_bert_embeddings(text) for text in batch['text']]\n",
    "    return batch\n",
    "\n",
    "# Apply the function to all splits\n",
    "dataset = dataset.map(add_embeddings, batched=True)"
   ]
  },
  {
   "cell_type": "markdown",
   "metadata": {},
   "source": [
    "# Reformat the dataset"
   ]
  },
  {
   "cell_type": "code",
   "execution_count": 10,
   "metadata": {},
   "outputs": [],
   "source": [
    "# remove the redundant text column: ['image', 'split']\n",
    "dataset = dataset.remove_columns(['image', 'split'])"
   ]
  },
  {
   "cell_type": "markdown",
   "metadata": {},
   "source": [
    "# Upload to HuggingFace Hub"
   ]
  },
  {
   "cell_type": "code",
   "execution_count": 12,
   "metadata": {},
   "outputs": [
    {
     "name": "stderr",
     "output_type": "stream",
     "text": [
      "Creating parquet from Arrow format: 100%|██████████| 1/1 [00:00<00:00, 20.60ba/s]\n",
      "Uploading the dataset shards: 100%|██████████| 1/1 [00:02<00:00,  2.28s/it]\n",
      "Creating parquet from Arrow format: 100%|██████████| 1/1 [00:00<00:00, 98.70ba/s]\n",
      "Uploading the dataset shards: 100%|██████████| 1/1 [00:01<00:00,  1.74s/it]\n"
     ]
    },
    {
     "data": {
      "text/plain": [
       "CommitInfo(commit_url='https://huggingface.co/datasets/LittleFish-Coder/Fake_News_PolitiFact/commit/c0109ec67b4d6f078a0d601753384c5b6671cd4f', commit_message='Upload dataset', commit_description='', oid='c0109ec67b4d6f078a0d601753384c5b6671cd4f', pr_url=None, repo_url=RepoUrl('https://huggingface.co/datasets/LittleFish-Coder/Fake_News_PolitiFact', endpoint='https://huggingface.co', repo_type='dataset', repo_id='LittleFish-Coder/Fake_News_PolitiFact'), pr_revision=None, pr_num=None)"
      ]
     },
     "execution_count": 12,
     "metadata": {},
     "output_type": "execute_result"
    }
   ],
   "source": [
    "# push the dataset to the hub \n",
    "dataset.push_to_hub('LittleFish-Coder/Fake_News_PolitiFact')   # type:ignore"
   ]
  }
 ],
 "metadata": {
  "kernelspec": {
   "display_name": "fakenews",
   "language": "python",
   "name": "python3"
  },
  "language_info": {
   "codemirror_mode": {
    "name": "ipython",
    "version": 3
   },
   "file_extension": ".py",
   "mimetype": "text/x-python",
   "name": "python",
   "nbconvert_exporter": "python",
   "pygments_lexer": "ipython3",
   "version": "3.12.7"
  }
 },
 "nbformat": 4,
 "nbformat_minor": 2
}

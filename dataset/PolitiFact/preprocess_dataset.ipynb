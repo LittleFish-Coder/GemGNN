{
 "cells": [
  {
   "cell_type": "markdown",
   "metadata": {},
   "source": [
    "# Ahren09/MMSoc_PolitiFact\n",
    "\n",
    "https://huggingface.co/datasets/Ahren09/MMSoc_PolitiFact\n",
    "\n",
    "Split:\n",
    "- `train`: 381\n",
    "- `test`: 102\n",
    "\n",
    "Columns:\n",
    "- `image`\n",
    "- `text`: str\n",
    "- `label`: int\n",
    "    - `0`: real\n",
    "    - `1`: fake"
   ]
  },
  {
   "cell_type": "code",
   "execution_count": 13,
   "metadata": {},
   "outputs": [],
   "source": [
    "# import package\n",
    "from datasets import DatasetDict, load_dataset\n",
    "import numpy as np"
   ]
  },
  {
   "cell_type": "code",
   "execution_count": 14,
   "metadata": {},
   "outputs": [
    {
     "name": "stderr",
     "output_type": "stream",
     "text": [
      "Generating train split: 100%|██████████| 381/381 [00:00<00:00, 1166.83 examples/s]\n",
      "Generating test split: 100%|██████████| 102/102 [00:00<00:00, 1133.88 examples/s]\n"
     ]
    }
   ],
   "source": [
    "# load and download the dataset from huggingface\n",
    "# dataset = load_dataset(\"Ahren09/MMSoc_PolitiFact\", cache_dir=\"./dataset\")\n",
    "\n",
    "dataset = load_dataset(\"LittleFish-Coder/Fake_News_PolitiFact\", cache_dir=\"./dataset\")"
   ]
  },
  {
   "cell_type": "code",
   "execution_count": 15,
   "metadata": {},
   "outputs": [],
   "source": [
    "# rename interaction_tones to interaction_tones_list\n",
    "# dataset = dataset.rename_column(\"interaction_tones\", \"interaction_tones_list\")"
   ]
  },
  {
   "cell_type": "code",
   "execution_count": 16,
   "metadata": {},
   "outputs": [
    {
     "name": "stdout",
     "output_type": "stream",
     "text": [
      "DatasetDict({\n",
      "    train: Dataset({\n",
      "        features: ['text', 'label', 'bert_embeddings', 'roberta_embeddings', 'user_interactions', 'interaction_embeddings_list', 'interaction_tones_list', 'combined_embeddings', 'distilbert_embeddings', 'bigbird_embeddings', 'deberta_embeddings'],\n",
      "        num_rows: 381\n",
      "    })\n",
      "    test: Dataset({\n",
      "        features: ['text', 'label', 'bert_embeddings', 'roberta_embeddings', 'user_interactions', 'interaction_embeddings_list', 'interaction_tones_list', 'combined_embeddings', 'distilbert_embeddings', 'bigbird_embeddings', 'deberta_embeddings'],\n",
      "        num_rows: 102\n",
      "    })\n",
      "})\n"
     ]
    }
   ],
   "source": [
    "print(dataset)"
   ]
  },
  {
   "cell_type": "code",
   "execution_count": 4,
   "metadata": {},
   "outputs": [],
   "source": [
    "# remove the redundant text column: ['image', 'split']\n",
    "try:\n",
    "    dataset = dataset.remove_columns(['image', 'split'])\n",
    "except:\n",
    "    pass"
   ]
  },
  {
   "cell_type": "code",
   "execution_count": 5,
   "metadata": {},
   "outputs": [
    {
     "name": "stdout",
     "output_type": "stream",
     "text": [
      "train size: 381\n",
      "test size: 102\n"
     ]
    }
   ],
   "source": [
    "print(f'train size: {len(dataset[\"train\"])}')   # type: ignore\n",
    "print(f'test size: {len(dataset[\"test\"])}') # type: ignore"
   ]
  },
  {
   "cell_type": "markdown",
   "metadata": {},
   "source": [
    "# Add BERT Embeddings"
   ]
  },
  {
   "cell_type": "code",
   "execution_count": 5,
   "metadata": {},
   "outputs": [],
   "source": [
    "import torch\n",
    "\n",
    "device = 'cuda' if torch.cuda.is_available() else 'cpu'"
   ]
  },
  {
   "cell_type": "code",
   "execution_count": 6,
   "metadata": {},
   "outputs": [],
   "source": [
    "from transformers import AutoTokenizer, AutoModel\n",
    "\n",
    "bert_tokenizer = AutoTokenizer.from_pretrained(\"google-bert/bert-base-uncased\", clean_up_tokenization_spaces=True)\n",
    "bert_model = AutoModel.from_pretrained(\"google-bert/bert-base-uncased\").to(device)"
   ]
  },
  {
   "cell_type": "code",
   "execution_count": 7,
   "metadata": {},
   "outputs": [],
   "source": [
    "def generate_bert_embeddings(text):\n",
    "    # Tokenize the input text\n",
    "    inputs = bert_tokenizer(text, return_tensors='pt', padding=True, truncation=True, max_length=512).to(device)\n",
    "    \n",
    "    # Get the BERT embeddings\n",
    "    with torch.no_grad():\n",
    "        outputs = bert_model(**inputs)\n",
    "    \n",
    "    # get the cls token embedding\n",
    "    embeddings = outputs.last_hidden_state[:, 0, :].cpu().numpy()   # (1, 768)\n",
    "\n",
    "    # flatten the embeddings\n",
    "    embeddings = embeddings.flatten()   # (768,)\n",
    "    \n",
    "    return embeddings"
   ]
  },
  {
   "cell_type": "code",
   "execution_count": 8,
   "metadata": {},
   "outputs": [],
   "source": [
    "import numpy as np\n",
    "\n",
    "def generate_bert_embeddings_sliding_window(text, window_size=512, stride=256):\n",
    "    \"\"\"\n",
    "    Generate BERT embeddings using a sliding window approach for longer texts.\n",
    "    \n",
    "    Args:\n",
    "        text (str): The input text\n",
    "        window_size (int): Maximum sequence length for BERT\n",
    "        stride (int): Number of tokens to slide the window by\n",
    "    \n",
    "    Returns:\n",
    "        numpy.ndarray: Aggregated BERT embeddings\n",
    "    \"\"\"\n",
    "    # Tokenize the entire text\n",
    "    tokens = bert_tokenizer.tokenize(text)\n",
    "    \n",
    "    # If text is shorter than window_size, just use standard approach\n",
    "    if len(tokens) <= window_size - 2:  # -2 for [CLS] and [SEP] tokens\n",
    "        return generate_bert_embeddings(text)\n",
    "    \n",
    "    # For longer texts, use sliding window\n",
    "    embeddings_list = []\n",
    "    \n",
    "    # Process text in overlapping windows\n",
    "    for i in range(0, len(tokens), stride):\n",
    "        # Extract window of tokens\n",
    "        window_tokens = tokens[i:i + window_size - 2]\n",
    "        \n",
    "        # Convert tokens back to text (this is an approximation)\n",
    "        window_text = bert_tokenizer.convert_tokens_to_string(window_tokens)\n",
    "        \n",
    "        # Get embeddings for this window\n",
    "        inputs = bert_tokenizer(window_text, return_tensors='pt', padding=True, truncation=False, \n",
    "                               max_length=window_size).to(device)\n",
    "        \n",
    "        with torch.no_grad():\n",
    "            outputs = bert_model(**inputs)\n",
    "        \n",
    "        # Get the CLS token embedding for this window\n",
    "        window_embedding = outputs.last_hidden_state[:, 0, :].cpu().numpy().flatten()\n",
    "        embeddings_list.append(window_embedding)\n",
    "    \n",
    "    # Aggregate embeddings from all windows (several options available)\n",
    "    # Option 1: Average all window embeddings\n",
    "    final_embedding = np.mean(embeddings_list, axis=0)\n",
    "    \n",
    "    # Option 2: Max pooling across all windows\n",
    "    # final_embedding = np.max(embeddings_list, axis=0)\n",
    "    \n",
    "    # Option 3: Weighted average, giving more weight to earlier parts of the text\n",
    "    # weights = np.linspace(1.0, 0.5, len(embeddings_list))\n",
    "    # final_embedding = np.average(embeddings_list, axis=0, weights=weights)\n",
    "    \n",
    "    return final_embedding"
   ]
  },
  {
   "cell_type": "code",
   "execution_count": 9,
   "metadata": {},
   "outputs": [
    {
     "name": "stderr",
     "output_type": "stream",
     "text": [
      "Map:   0%|          | 0/381 [00:00<?, ? examples/s]Token indices sequence length is longer than the specified maximum sequence length for this model (574 > 512). Running this sequence through the model will result in indexing errors\n",
      "Map: 100%|██████████| 381/381 [00:28<00:00, 13.15 examples/s]\n",
      "Map: 100%|██████████| 102/102 [00:07<00:00, 14.03 examples/s]\n"
     ]
    }
   ],
   "source": [
    "# Generate BERT embeddings\n",
    "def add_bert_embeddings(batch):\n",
    "    batch['bert_embeddings'] = [generate_bert_embeddings_sliding_window(text) for text in batch['text']]\n",
    "    return batch\n",
    "\n",
    "# Apply the function to all splits\n",
    "dataset = dataset.map(add_bert_embeddings, batched=True)"
   ]
  },
  {
   "cell_type": "markdown",
   "metadata": {},
   "source": [
    "# Add RoBERTa Embeddings"
   ]
  },
  {
   "cell_type": "code",
   "execution_count": 10,
   "metadata": {},
   "outputs": [],
   "source": [
    "import torch\n",
    "\n",
    "device = 'cuda' if torch.cuda.is_available() else 'cpu'"
   ]
  },
  {
   "cell_type": "code",
   "execution_count": 11,
   "metadata": {},
   "outputs": [
    {
     "name": "stderr",
     "output_type": "stream",
     "text": [
      "Some weights of RobertaModel were not initialized from the model checkpoint at roberta-base and are newly initialized: ['roberta.pooler.dense.bias', 'roberta.pooler.dense.weight']\n",
      "You should probably TRAIN this model on a down-stream task to be able to use it for predictions and inference.\n"
     ]
    }
   ],
   "source": [
    "from transformers import AutoTokenizer, AutoModel\n",
    "\n",
    "roberta_tokenizer = AutoTokenizer.from_pretrained(\"roberta-base\", clean_up_tokenization_spaces=True)\n",
    "roberta_model = AutoModel.from_pretrained(\"roberta-base\").to(device)"
   ]
  },
  {
   "cell_type": "code",
   "execution_count": 12,
   "metadata": {},
   "outputs": [],
   "source": [
    "def generate_roberta_embeddings(text):\n",
    "    # Tokenize the input text\n",
    "    inputs = roberta_tokenizer(text, return_tensors='pt', padding=True, truncation=True, max_length=512).to(device)\n",
    "    \n",
    "    # Get the RoBERTa embeddings\n",
    "    with torch.no_grad():\n",
    "        outputs = roberta_model(**inputs)\n",
    "    \n",
    "    # get the cls token embedding\n",
    "    embeddings = outputs.last_hidden_state[:, 0, :].cpu().numpy()   # (1, 768)\n",
    "\n",
    "    # flatten the embeddings\n",
    "    embeddings = embeddings.flatten()   # (768,)\n",
    "    \n",
    "    return embeddings"
   ]
  },
  {
   "cell_type": "code",
   "execution_count": 13,
   "metadata": {},
   "outputs": [],
   "source": [
    "import numpy as np\n",
    "\n",
    "def generate_roberta_embeddings_sliding_window(text, window_size=512, stride=256):\n",
    "    \"\"\"\n",
    "    Generate RoBERTa embeddings using a sliding window approach for longer texts.\n",
    "    \n",
    "    Args:\n",
    "        text (str): The input text\n",
    "        window_size (int): Maximum sequence length for RoBERTa\n",
    "        stride (int): Number of tokens to slide the window by\n",
    "    \n",
    "    Returns:\n",
    "        numpy.ndarray: Aggregated RoBERTa embeddings\n",
    "    \"\"\"\n",
    "    # Tokenize the entire text\n",
    "    tokens = roberta_tokenizer.tokenize(text)\n",
    "    \n",
    "    # If text is shorter than window_size, just use standard approach\n",
    "    if len(tokens) <= window_size - 2:  # -2 for <s> and </s> tokens in RoBERTa\n",
    "        return generate_roberta_embeddings(text)\n",
    "    \n",
    "    # For longer texts, use sliding window\n",
    "    embeddings_list = []\n",
    "    \n",
    "    # Process text in overlapping windows\n",
    "    for i in range(0, len(tokens), stride):\n",
    "        # Extract window of tokens\n",
    "        window_tokens = tokens[i:i + window_size - 2]\n",
    "        \n",
    "        # Convert tokens back to text (this is an approximation)\n",
    "        window_text = roberta_tokenizer.convert_tokens_to_string(window_tokens)\n",
    "        \n",
    "        # Get embeddings for this window\n",
    "        inputs = roberta_tokenizer(window_text, return_tensors='pt', padding=True, truncation=True, \n",
    "                                  max_length=window_size).to(device)\n",
    "        \n",
    "        with torch.no_grad():\n",
    "            outputs = roberta_model(**inputs)\n",
    "        \n",
    "        # Get the CLS token embedding for this window\n",
    "        window_embedding = outputs.last_hidden_state[:, 0, :].cpu().numpy().flatten()\n",
    "        embeddings_list.append(window_embedding)\n",
    "    \n",
    "    # Aggregate embeddings from all windows (several options available)\n",
    "    # Option 1: Average all window embeddings\n",
    "    final_embedding = np.mean(embeddings_list, axis=0)\n",
    "    \n",
    "    # Option 2: Max pooling across all windows (alternative approach)\n",
    "    # final_embedding = np.max(embeddings_list, axis=0)\n",
    "    \n",
    "    # Option 3: Weighted average, giving more weight to earlier parts of the text\n",
    "    # weights = np.linspace(1.0, 0.5, len(embeddings_list))\n",
    "    # final_embedding = np.average(embeddings_list, axis=0, weights=weights)\n",
    "    \n",
    "    return final_embedding"
   ]
  },
  {
   "cell_type": "code",
   "execution_count": 14,
   "metadata": {},
   "outputs": [
    {
     "name": "stderr",
     "output_type": "stream",
     "text": [
      "Map:   0%|          | 0/381 [00:00<?, ? examples/s]Token indices sequence length is longer than the specified maximum sequence length for this model (605 > 512). Running this sequence through the model will result in indexing errors\n",
      "Map: 100%|██████████| 381/381 [00:28<00:00, 13.31 examples/s]\n",
      "Map: 100%|██████████| 102/102 [00:11<00:00,  9.11 examples/s]\n"
     ]
    }
   ],
   "source": [
    "# Generate RoBERTa embeddings\n",
    "def add_roberta_embeddings(batch):\n",
    "    batch['roberta_embeddings'] = [generate_roberta_embeddings_sliding_window(text) for text in batch['text']]\n",
    "    return batch\n",
    "\n",
    "# Apply the function to all splits\n",
    "dataset = dataset.map(add_roberta_embeddings, batched=True)"
   ]
  },
  {
   "cell_type": "markdown",
   "metadata": {},
   "source": [
    "# Add DistilBERT Embeddings"
   ]
  },
  {
   "cell_type": "code",
   "execution_count": 23,
   "metadata": {},
   "outputs": [],
   "source": [
    "import torch\n",
    "\n",
    "device = 'cuda' if torch.cuda.is_available() else 'cpu'"
   ]
  },
  {
   "cell_type": "code",
   "execution_count": 24,
   "metadata": {},
   "outputs": [],
   "source": [
    "from transformers import AutoTokenizer, AutoModel\n",
    "\n",
    "distilbert_tokenizer = AutoTokenizer.from_pretrained(\"distilbert-base-uncased\", clean_up_tokenization_spaces=True)\n",
    "distilbert_model = AutoModel.from_pretrained(\"distilbert-base-uncased\").to(device)"
   ]
  },
  {
   "cell_type": "code",
   "execution_count": 25,
   "metadata": {},
   "outputs": [],
   "source": [
    "def generate_distilbert_embeddings(text):\n",
    "    # Tokenize the input text\n",
    "    inputs = distilbert_tokenizer(text, return_tensors='pt', padding=True, truncation=True, max_length=512).to(device)\n",
    "    \n",
    "    # Get the DistilBERT embeddings\n",
    "    with torch.no_grad():\n",
    "        outputs = distilbert_model(**inputs)\n",
    "    \n",
    "    # get the cls token embedding\n",
    "    embeddings = outputs.last_hidden_state[:, 0, :].cpu().numpy()   # (1, 768)\n",
    "\n",
    "    # flatten the embeddings\n",
    "    embeddings = embeddings.flatten()   # (768,)\n",
    "\n",
    "    return embeddings"
   ]
  },
  {
   "cell_type": "code",
   "execution_count": 26,
   "metadata": {},
   "outputs": [],
   "source": [
    "import numpy as np\n",
    "\n",
    "def generate_distilbert_embeddings_sliding_window(text, window_size=512, stride=256):\n",
    "    \"\"\"\n",
    "    Generate DistilBERT embeddings using a sliding window approach for longer texts.\n",
    "    \n",
    "    Args:\n",
    "        text (str): The input text\n",
    "        window_size (int): Maximum sequence length for DistilBERT\n",
    "        stride (int): Number of tokens to slide the window by\n",
    "    \n",
    "    Returns:\n",
    "        numpy.ndarray: Aggregated DistilBERT embeddings\n",
    "    \"\"\"\n",
    "    # Tokenize the entire text\n",
    "    tokens = distilbert_tokenizer.tokenize(text)\n",
    "    \n",
    "    # If text is shorter than window_size, just use standard approach\n",
    "    if len(tokens) <= window_size - 2:  # -2 for <s> and </s> tokens in DistilBERT\n",
    "        return generate_distilbert_embeddings(text)\n",
    "    \n",
    "    # For longer texts, use sliding window\n",
    "    embeddings_list = []\n",
    "    \n",
    "    # Process text in overlapping windows\n",
    "    for i in range(0, len(tokens), stride):\n",
    "        # Extract window of tokens\n",
    "        window_tokens = tokens[i:i + window_size - 2]\n",
    "        \n",
    "        # Convert tokens back to text (this is an approximation)\n",
    "        window_text = distilbert_tokenizer.convert_tokens_to_string(window_tokens)\n",
    "        \n",
    "        # Get embeddings for this window\n",
    "        inputs = distilbert_tokenizer(window_text, return_tensors='pt', padding=True, truncation=True, \n",
    "                                     max_length=window_size).to(device)\n",
    "        \n",
    "        with torch.no_grad():\n",
    "            outputs = distilbert_model(**inputs)\n",
    "        \n",
    "        # Get the CLS token embedding for this window\n",
    "        window_embedding = outputs.last_hidden_state[:, 0, :].cpu().numpy().flatten()\n",
    "        embeddings_list.append(window_embedding)\n",
    "    \n",
    "    # Aggregate embeddings from all windows (several options available)\n",
    "    # Option 1: Average all window embeddings\n",
    "    final_embedding = np.mean(embeddings_list, axis=0)\n",
    "    \n",
    "    # Option 2: Max pooling across all windows\n",
    "    # final_embedding = np.max(embeddings_list, axis=0)\n",
    "    \n",
    "    return final_embedding"
   ]
  },
  {
   "cell_type": "code",
   "execution_count": 27,
   "metadata": {},
   "outputs": [
    {
     "name": "stderr",
     "output_type": "stream",
     "text": [
      "Map:   0%|          | 0/381 [00:00<?, ? examples/s]Token indices sequence length is longer than the specified maximum sequence length for this model (574 > 512). Running this sequence through the model will result in indexing errors\n",
      "Map: 100%|██████████| 381/381 [00:38<00:00,  9.87 examples/s]\n",
      "Map: 100%|██████████| 102/102 [00:11<00:00,  8.85 examples/s]\n"
     ]
    }
   ],
   "source": [
    "def add_distilbert_embeddings(batch):\n",
    "    batch['distilbert_embeddings'] = [generate_distilbert_embeddings_sliding_window(text) for text in batch['text']]\n",
    "    return batch\n",
    "\n",
    "# Apply the function to all splits\n",
    "dataset = dataset.map(add_distilbert_embeddings, batched=True)"
   ]
  },
  {
   "cell_type": "markdown",
   "metadata": {},
   "source": [
    "# Add BigBird Embeddings"
   ]
  },
  {
   "cell_type": "code",
   "execution_count": 28,
   "metadata": {},
   "outputs": [],
   "source": [
    "import torch\n",
    "\n",
    "device = 'cuda' if torch.cuda.is_available() else 'cpu'"
   ]
  },
  {
   "cell_type": "code",
   "execution_count": 29,
   "metadata": {},
   "outputs": [],
   "source": [
    "from transformers import AutoTokenizer, AutoModel\n",
    "\n",
    "bigbird_tokenizer = AutoTokenizer.from_pretrained(\"google/bigbird-roberta-base\")\n",
    "bigbird_model = AutoModel.from_pretrained(\"google/bigbird-roberta-base\").to(device)"
   ]
  },
  {
   "cell_type": "code",
   "execution_count": 30,
   "metadata": {},
   "outputs": [],
   "source": [
    "def generate_bigbird_embeddings(text):\n",
    "    # Tokenize the input text\n",
    "    inputs = bigbird_tokenizer(text, return_tensors='pt', truncation=True, max_length=4096).to(device)\n",
    "    with torch.no_grad():\n",
    "        outputs = bigbird_model(**inputs)\n",
    "    embedding = outputs.last_hidden_state[:, 0, :].cpu().numpy().flatten()\n",
    "    \n",
    "    return embedding"
   ]
  },
  {
   "cell_type": "code",
   "execution_count": 31,
   "metadata": {},
   "outputs": [
    {
     "name": "stderr",
     "output_type": "stream",
     "text": [
      "Map:   0%|          | 0/381 [00:00<?, ? examples/s]Attention type 'block_sparse' is not possible if sequence_length: 580 <= num global tokens: 2 * config.block_size + min. num sliding tokens: 3 * config.block_size + config.num_random_blocks * config.block_size + additional buffer: config.num_random_blocks * config.block_size = 704 with config.block_size = 64, config.num_random_blocks = 3. Changing attention type to 'original_full'...\n",
      "Map: 100%|██████████| 381/381 [00:34<00:00, 11.17 examples/s]\n",
      "Map: 100%|██████████| 102/102 [00:08<00:00, 12.01 examples/s]\n"
     ]
    }
   ],
   "source": [
    "def add_bigbird_embeddings(batch):\n",
    "    batch['bigbird_embeddings'] = [generate_bigbird_embeddings(text) for text in batch['text']]\n",
    "    return batch\n",
    "\n",
    "# Apply the function to all splits\n",
    "dataset = dataset.map(add_bigbird_embeddings, batched=True)"
   ]
  },
  {
   "cell_type": "markdown",
   "metadata": {},
   "source": [
    "# Add DeBERTa Embeddings"
   ]
  },
  {
   "cell_type": "code",
   "execution_count": 6,
   "metadata": {},
   "outputs": [],
   "source": [
    "import torch\n",
    "\n",
    "device = 'cuda' if torch.cuda.is_available() else 'cpu'"
   ]
  },
  {
   "cell_type": "code",
   "execution_count": 7,
   "metadata": {},
   "outputs": [],
   "source": [
    "from transformers import AutoTokenizer, AutoModel\n",
    "\n",
    "deberta_tokenizer = AutoTokenizer.from_pretrained(\"microsoft/deberta-base\")\n",
    "deberta_model = AutoModel.from_pretrained(\"microsoft/deberta-base\").to(device)"
   ]
  },
  {
   "cell_type": "code",
   "execution_count": 9,
   "metadata": {},
   "outputs": [],
   "source": [
    "def generate_deberta_embeddings(text):\n",
    "    # Tokenize the input text\n",
    "    inputs = deberta_tokenizer(text, return_tensors='pt', truncation=True, max_length=512).to(device)\n",
    "    with torch.no_grad():\n",
    "        outputs = deberta_model(**inputs)\n",
    "    embedding = outputs.last_hidden_state[:, 0, :].cpu().numpy().flatten()\n",
    "    \n",
    "    return embedding"
   ]
  },
  {
   "cell_type": "code",
   "execution_count": 10,
   "metadata": {},
   "outputs": [],
   "source": [
    "import numpy as np\n",
    "\n",
    "def generate_deberta_embeddings_sliding_window(text, window_size=512, stride=256):\n",
    "    \"\"\"\n",
    "    Generate DeBERTa embeddings using a sliding window approach for longer texts.\n",
    "    \"\"\"\n",
    "    tokens = deberta_tokenizer.tokenize(text)\n",
    "\n",
    "    if len(tokens) <= window_size - 2:\n",
    "        return generate_deberta_embeddings(text)\n",
    "    \n",
    "    embeddings_list = []\n",
    "\n",
    "    for i in range(0, len(tokens), stride):\n",
    "        window_tokens = tokens[i:i + window_size - 2]\n",
    "        window_text = deberta_tokenizer.convert_tokens_to_string(window_tokens)\n",
    "        inputs = deberta_tokenizer(window_text, return_tensors='pt', padding=True, truncation=True, max_length=window_size).to(device)\n",
    "        with torch.no_grad():\n",
    "            outputs = deberta_model(**inputs)\n",
    "        \n",
    "        window_embedding = outputs.last_hidden_state[:, 0, :].cpu().numpy().flatten()\n",
    "        \n",
    "        embeddings_list.append(window_embedding)\n",
    "\n",
    "    final_embedding = np.mean(embeddings_list, axis=0)\n",
    "    \n",
    "    return final_embedding"
   ]
  },
  {
   "cell_type": "code",
   "execution_count": 11,
   "metadata": {},
   "outputs": [
    {
     "name": "stderr",
     "output_type": "stream",
     "text": [
      "Map: 100%|██████████| 381/381 [01:01<00:00,  6.18 examples/s]\n",
      "Map: 100%|██████████| 102/102 [00:16<00:00,  6.37 examples/s]\n"
     ]
    }
   ],
   "source": [
    "def add_deberta_embeddings(batch):\n",
    "    batch['deberta_embeddings'] = [generate_deberta_embeddings_sliding_window(text) for text in batch['text']]\n",
    "    return batch\n",
    "\n",
    "# Apply the function to all splits\n",
    "dataset = dataset.map(add_deberta_embeddings, batched=True)"
   ]
  },
  {
   "cell_type": "markdown",
   "metadata": {},
   "source": [
    "# Upload to HuggingFace Hub"
   ]
  },
  {
   "cell_type": "code",
   "execution_count": 17,
   "metadata": {},
   "outputs": [
    {
     "name": "stderr",
     "output_type": "stream",
     "text": [
      "Creating parquet from Arrow format: 100%|██████████| 1/1 [00:00<00:00,  2.29ba/s]\n",
      "Uploading the dataset shards: 100%|██████████| 1/1 [00:09<00:00,  9.32s/it]\n",
      "Creating parquet from Arrow format: 100%|██████████| 1/1 [00:00<00:00,  7.38ba/s]\n",
      "Uploading the dataset shards: 100%|██████████| 1/1 [00:03<00:00,  3.15s/it]\n"
     ]
    },
    {
     "data": {
      "text/plain": [
       "CommitInfo(commit_url='https://huggingface.co/datasets/LittleFish-Coder/Fake_News_PolitiFact/commit/5df7768d6aca464147d7f7b98eccf068fd8c5d8e', commit_message='rename interaction_tones to interaction_tones_list', commit_description='', oid='5df7768d6aca464147d7f7b98eccf068fd8c5d8e', pr_url=None, repo_url=RepoUrl('https://huggingface.co/datasets/LittleFish-Coder/Fake_News_PolitiFact', endpoint='https://huggingface.co', repo_type='dataset', repo_id='LittleFish-Coder/Fake_News_PolitiFact'), pr_revision=None, pr_num=None)"
      ]
     },
     "execution_count": 17,
     "metadata": {},
     "output_type": "execute_result"
    }
   ],
   "source": [
    "# push the dataset to the hub \n",
    "dataset.push_to_hub('LittleFish-Coder/Fake_News_PolitiFact', commit_message=\"rename interaction_tones to interaction_tones_list\")"
   ]
  }
 ],
 "metadata": {
  "kernelspec": {
   "display_name": "fakenews",
   "language": "python",
   "name": "python3"
  },
  "language_info": {
   "codemirror_mode": {
    "name": "ipython",
    "version": 3
   },
   "file_extension": ".py",
   "mimetype": "text/x-python",
   "name": "python",
   "nbconvert_exporter": "python",
   "pygments_lexer": "ipython3",
   "version": "3.12.7"
  }
 },
 "nbformat": 4,
 "nbformat_minor": 2
}

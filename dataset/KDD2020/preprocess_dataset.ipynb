{
 "cells": [
  {
   "cell_type": "markdown",
   "metadata": {},
   "source": [
    "# Fake News Detection Challenge KDD 2020\n",
    "\n",
    "https://www.kaggle.com/competitions/fakenewskdd2020\n",
    "\n",
    "- `text`: text of the article\n",
    "\n",
    "- `label`: a label that marks the article as potentially unreliable\n",
    "    - `0`: real\n",
    "    - `1`: fake"
   ]
  },
  {
   "cell_type": "code",
   "execution_count": 2,
   "metadata": {},
   "outputs": [],
   "source": [
    "# import package\n",
    "import pandas as pd"
   ]
  },
  {
   "cell_type": "markdown",
   "metadata": {},
   "source": [
    "# Dataset\n",
    "Read the KDD_raw.csv and delete the rows with missing values."
   ]
  },
  {
   "cell_type": "code",
   "execution_count": 3,
   "metadata": {},
   "outputs": [
    {
     "name": "stdout",
     "output_type": "stream",
     "text": [
      "Data shape: (4987, 2)\n",
      "                                                text label\n",
      "0  Get the latest from TODAY Sign up for our news...     1\n",
      "1  2d  Conan On The Funeral Trump Will Be Invited...     1\n",
      "2  It’s safe to say that Instagram Stories has fa...     0\n",
      "3  Much like a certain Amazon goddess with a lass...     0\n",
      "4  At a time when the perfect outfit is just one ...     0\n"
     ]
    }
   ],
   "source": [
    "# load data\n",
    "df = pd.read_csv('KDD_raw.csv', sep='\\t', encoding='utf-8')\n",
    "print(f\"Data shape: {df.shape}\")\n",
    "print(df.head())"
   ]
  },
  {
   "cell_type": "markdown",
   "metadata": {},
   "source": [
    "# Data Cleaning"
   ]
  },
  {
   "cell_type": "code",
   "execution_count": 4,
   "metadata": {},
   "outputs": [
    {
     "name": "stdout",
     "output_type": "stream",
     "text": [
      "Null values in data:\n",
      "text     0\n",
      "label    0\n",
      "dtype: int64\n"
     ]
    }
   ],
   "source": [
    "# check NaN values\n",
    "print(f\"Null values in data:\")\n",
    "print(df.isnull().sum())"
   ]
  },
  {
   "cell_type": "code",
   "execution_count": 5,
   "metadata": {},
   "outputs": [
    {
     "name": "stdout",
     "output_type": "stream",
     "text": [
      "Unique labels in data:\n",
      "['1' '0' 'label']\n"
     ]
    }
   ],
   "source": [
    "# print unique labels\n",
    "print(f\"Unique labels in data:\")\n",
    "print(df['label'].unique())"
   ]
  },
  {
   "cell_type": "markdown",
   "metadata": {},
   "source": [
    "## Delete the data whose label is not ['0', '1']\n",
    "\n",
    "since our label can only contains:\n",
    "- `0`: real\n",
    "- `1`: fake"
   ]
  },
  {
   "cell_type": "code",
   "execution_count": 6,
   "metadata": {},
   "outputs": [
    {
     "name": "stdout",
     "output_type": "stream",
     "text": [
      "Rows with label 'label': \n",
      "         text  label\n",
      "1615  content  label\n"
     ]
    }
   ],
   "source": [
    "# find the row that label == 'label'\n",
    "print(f\"Rows with label 'label': \")\n",
    "print(df[df['label'] == 'label'])"
   ]
  },
  {
   "cell_type": "code",
   "execution_count": 7,
   "metadata": {},
   "outputs": [],
   "source": [
    "# remove the row that label == 'label'\n",
    "df = df[df['label'] != 'label']"
   ]
  },
  {
   "cell_type": "code",
   "execution_count": 8,
   "metadata": {},
   "outputs": [],
   "source": [
    "# save labels as int type\n",
    "df['label'] = df['label'].astype(int)"
   ]
  },
  {
   "cell_type": "code",
   "execution_count": 9,
   "metadata": {},
   "outputs": [
    {
     "name": "stdout",
     "output_type": "stream",
     "text": [
      "<class 'pandas.core.frame.DataFrame'>\n",
      "RangeIndex: 4986 entries, 0 to 4985\n",
      "Data columns (total 2 columns):\n",
      " #   Column  Non-Null Count  Dtype \n",
      "---  ------  --------------  ----- \n",
      " 0   text    4986 non-null   object\n",
      " 1   label   4986 non-null   int64 \n",
      "dtypes: int64(1), object(1)\n",
      "memory usage: 78.0+ KB\n",
      "None\n",
      "                                                text  label\n",
      "0  Get the latest from TODAY Sign up for our news...      1\n",
      "1  2d  Conan On The Funeral Trump Will Be Invited...      1\n",
      "2  It’s safe to say that Instagram Stories has fa...      0\n",
      "3  Much like a certain Amazon goddess with a lass...      0\n",
      "4  At a time when the perfect outfit is just one ...      0\n",
      "(4986, 2)\n"
     ]
    }
   ],
   "source": [
    "# reset the index\n",
    "df.reset_index(drop=True, inplace=True)\n",
    "\n",
    "# info\n",
    "print(df.info())\n",
    "print(df.head())\n",
    "print(df.shape)"
   ]
  },
  {
   "cell_type": "markdown",
   "metadata": {},
   "source": [
    "# Train Test Split"
   ]
  },
  {
   "cell_type": "code",
   "execution_count": 10,
   "metadata": {},
   "outputs": [],
   "source": [
    "from sklearn.model_selection import train_test_split"
   ]
  },
  {
   "cell_type": "code",
   "execution_count": 11,
   "metadata": {},
   "outputs": [],
   "source": [
    "# Define the split sizes\n",
    "train_size = 0.90\n",
    "test_size = 0.10\n",
    "\n",
    "# split into train and test\n",
    "train_df, test_df = train_test_split(df, train_size=train_size, test_size=test_size, stratify=df['label'])"
   ]
  },
  {
   "cell_type": "code",
   "execution_count": 12,
   "metadata": {},
   "outputs": [
    {
     "name": "stdout",
     "output_type": "stream",
     "text": [
      "Raw data set size: 4986\n",
      "Training set size: 4487\n",
      "Test set size: 499\n"
     ]
    }
   ],
   "source": [
    "print(f'Raw data set size: {len(df)}')\n",
    "print(f'Training set size: {len(train_df)}')\n",
    "print(f'Test set size: {len(test_df)}')"
   ]
  },
  {
   "cell_type": "markdown",
   "metadata": {},
   "source": [
    "## Output"
   ]
  },
  {
   "cell_type": "code",
   "execution_count": 13,
   "metadata": {},
   "outputs": [
    {
     "name": "stdout",
     "output_type": "stream",
     "text": [
      "Training data saved as train.csv\n",
      "Test data saved as test.csv\n"
     ]
    }
   ],
   "source": [
    "train_df.to_csv('train.csv', sep='\\t', index=False, encoding='utf-8')\n",
    "print(f\"Training data saved as train.csv\")\n",
    "test_df.to_csv('test.csv', sep='\\t', index=False, encoding='utf-8')\n",
    "print(f\"Test data saved as test.csv\")"
   ]
  },
  {
   "cell_type": "markdown",
   "metadata": {},
   "source": [
    "# EDA"
   ]
  },
  {
   "cell_type": "code",
   "execution_count": 14,
   "metadata": {},
   "outputs": [],
   "source": [
    "import matplotlib.pyplot as plt\n",
    "import numpy as np"
   ]
  },
  {
   "cell_type": "code",
   "execution_count": 15,
   "metadata": {},
   "outputs": [
    {
     "data": {
      "image/png": "[encoded data removed]",
      "text/plain": [
       "<Figure size 640x480 with 1 Axes>"
      ]
     },
     "metadata": {},
     "output_type": "display_data"
    }
   ],
   "source": [
    "# Count the occurrences of 'fake' and 'real' in each split\n",
    "train_counts = train_df['label'].value_counts()\n",
    "test_counts = test_df['label'].value_counts()\n",
    "\n",
    "# Combine the counts into a single DataFrame for plotting\n",
    "counts_df = pd.DataFrame({\n",
    "    'train': train_counts,\n",
    "    'test': test_counts\n",
    "}).T\n",
    "\n",
    "# Plotting\n",
    "fig, ax = plt.subplots()\n",
    "\n",
    "# Define the bar width\n",
    "bar_width = 0.25\n",
    "\n",
    "# Set position of bar on X axis\n",
    "r1 = range(len(counts_df))\n",
    "r2 = [x + bar_width for x in r1]\n",
    "\n",
    "# Make the plot\n",
    "ax.bar(r2, counts_df[0], color='b', width=bar_width, label='Real')\n",
    "ax.bar(r1, counts_df[1], color='r', width=bar_width, label='Fake')\n",
    "\n",
    "# Add labels\n",
    "ax.set_xlabel('Data Split')\n",
    "ax.set_ylabel('Count')\n",
    "ax.set_title('Label Distribution in Train, Val, and Test Sets')\n",
    "ax.set_xticks([r + bar_width/2 for r in range(len(counts_df))])\n",
    "ax.set_xticklabels(counts_df.index)\n",
    "\n",
    "# Add legend\n",
    "ax.legend()\n",
    "\n",
    "# Show the plot\n",
    "plt.show()"
   ]
  },
  {
   "cell_type": "markdown",
   "metadata": {},
   "source": [
    "# Add BERT Embeddings"
   ]
  },
  {
   "cell_type": "code",
   "execution_count": 16,
   "metadata": {},
   "outputs": [],
   "source": [
    "import torch\n",
    "\n",
    "device = 'cuda' if torch.cuda.is_available() else 'cpu'"
   ]
  },
  {
   "cell_type": "code",
   "execution_count": null,
   "metadata": {},
   "outputs": [],
   "source": [
    "from transformers import AutoTokenizer, AutoModel\n",
    "\n",
    "bert_tokenizer = AutoTokenizer.from_pretrained(\"google-bert/bert-base-uncased\", clean_up_tokenization_spaces=True)\n",
    "bert_model = AutoModel.from_pretrained(\"google-bert/bert-base-uncased\").to(device)"
   ]
  },
  {
   "cell_type": "code",
   "execution_count": 18,
   "metadata": {},
   "outputs": [],
   "source": [
    "def generate_bert_embeddings(text):\n",
    "    # Tokenize the input text\n",
    "    inputs = bert_tokenizer(text, return_tensors='pt', padding=True, truncation=True, max_length=512).to(device)\n",
    "    \n",
    "    # Get the BERT embeddings\n",
    "    with torch.no_grad():\n",
    "        outputs = bert_model(**inputs)\n",
    "    \n",
    "    # get the cls token embedding\n",
    "    embeddings = outputs.last_hidden_state[:, 0, :].cpu().numpy()   # (1, 768)\n",
    "\n",
    "    # flatten the embeddings\n",
    "    embeddings = embeddings.flatten()   # (768,)\n",
    "    \n",
    "    return embeddings"
   ]
  },
  {
   "cell_type": "code",
   "execution_count": 19,
   "metadata": {},
   "outputs": [
    {
     "name": "stdout",
     "output_type": "stream",
     "text": [
      "625     [-0.58505154, -0.23033476, 0.08503331, -0.6579...\n",
      "3034    [-0.46412155, -0.8269299, 0.15971911, -0.01749...\n",
      "2752    [-0.22449817, -0.519732, -0.37834272, -0.22955...\n",
      "4925    [-0.538204, -0.093839385, 0.3541537, 0.0189483...\n",
      "4780    [-0.031492554, -0.3493325, 0.70149493, 0.06709...\n",
      "Name: bert_embeddings, dtype: object\n",
      "1465    [-0.38056096, -0.7548965, -0.5671339, 0.100669...\n",
      "3733    [-0.22100897, 0.1336792, 0.446061, -0.18849379...\n",
      "3547    [-0.43542513, -1.3586173, -0.15633087, -0.0795...\n",
      "2461    [-0.041253213, -0.7142504, -0.2685204, -0.0068...\n",
      "3395    [-0.6043445, -0.53224844, -0.42417797, -0.5617...\n",
      "Name: bert_embeddings, dtype: object\n"
     ]
    }
   ],
   "source": [
    "# Generate BERT embeddings for each row of text in the DataFrame\n",
    "train_df['bert_embeddings'] = train_df['text'].apply(generate_bert_embeddings)\n",
    "test_df['bert_embeddings'] = test_df['text'].apply(generate_bert_embeddings)\n",
    "\n",
    "# display the embeddings\n",
    "print(train_df['bert_embeddings'].head())\n",
    "print(test_df['bert_embeddings'].head())"
   ]
  },
  {
   "cell_type": "markdown",
   "metadata": {},
   "source": [
    "# Add RoBERTa Embeddings"
   ]
  },
  {
   "cell_type": "code",
   "execution_count": 20,
   "metadata": {},
   "outputs": [],
   "source": [
    "import torch\n",
    "\n",
    "device = 'cuda' if torch.cuda.is_available() else 'cpu'"
   ]
  },
  {
   "cell_type": "code",
   "execution_count": null,
   "metadata": {},
   "outputs": [],
   "source": [
    "from transformers import AutoTokenizer, AutoModel\n",
    "\n",
    "roberta_tokenizer = AutoTokenizer.from_pretrained(\"roberta-base\", clean_up_tokenization_spaces=True)\n",
    "roberta_model = AutoModel.from_pretrained(\"roberta-base\").to(device)"
   ]
  },
  {
   "cell_type": "code",
   "execution_count": 22,
   "metadata": {},
   "outputs": [],
   "source": [
    "def generate_roberta_embeddings(text):\n",
    "    # Tokenize the input text\n",
    "    inputs = roberta_tokenizer(text, return_tensors='pt', padding=True, truncation=True, max_length=512).to(device)\n",
    "    \n",
    "    # Get the RoBERTa embeddings\n",
    "    with torch.no_grad():\n",
    "        outputs = roberta_model(**inputs)\n",
    "    \n",
    "    # get the cls token embedding\n",
    "    embeddings = outputs.last_hidden_state[:, 0, :].cpu().numpy()   # (1, 768)\n",
    "\n",
    "    # flatten the embeddings\n",
    "    embeddings = embeddings.flatten()   # (768,)\n",
    "    \n",
    "    return embeddings"
   ]
  },
  {
   "cell_type": "code",
   "execution_count": 23,
   "metadata": {},
   "outputs": [
    {
     "name": "stdout",
     "output_type": "stream",
     "text": [
      "625     [-0.07220477, 0.08664565, -0.0051694377, -0.16...\n",
      "3034    [-0.054015182, 0.06155525, 0.020496445, -0.175...\n",
      "2752    [-0.05114577, 0.055954624, -0.006528543, -0.14...\n",
      "4925    [-0.038301665, 0.05653024, 0.02677432, -0.1539...\n",
      "4780    [-0.05443966, 0.070664205, 0.0025050312, -0.16...\n",
      "Name: roberta_embeddings, dtype: object\n",
      "1465    [-0.04004512, 0.088101245, 0.01712712, -0.1299...\n",
      "3733    [-0.0648468, 0.08484085, -0.000743352, -0.1419...\n",
      "3547    [-0.06510144, 0.08425536, -0.007948116, -0.121...\n",
      "2461    [-0.02930983, 0.09134884, 0.020709824, -0.1537...\n",
      "3395    [-0.036446996, 0.08447648, 0.023451367, -0.141...\n",
      "Name: roberta_embeddings, dtype: object\n"
     ]
    }
   ],
   "source": [
    "# Generate RoBERTa embeddings for each row of text in the DataFrame\n",
    "train_df['roberta_embeddings'] = train_df['text'].apply(generate_roberta_embeddings)\n",
    "test_df['roberta_embeddings'] = test_df['text'].apply(generate_roberta_embeddings)\n",
    "\n",
    "# display the embeddings\n",
    "print(train_df['roberta_embeddings'].head())\n",
    "print(test_df['roberta_embeddings'].head())"
   ]
  },
  {
   "cell_type": "code",
   "execution_count": 28,
   "metadata": {},
   "outputs": [
    {
     "data": {
      "text/html": [
       "<div>\n",
       "<style scoped>\n",
       "    .dataframe tbody tr th:only-of-type {\n",
       "        vertical-align: middle;\n",
       "    }\n",
       "\n",
       "    .dataframe tbody tr th {\n",
       "        vertical-align: top;\n",
       "    }\n",
       "\n",
       "    .dataframe thead th {\n",
       "        text-align: right;\n",
       "    }\n",
       "</style>\n",
       "<table border=\"1\" class=\"dataframe\">\n",
       "  <thead>\n",
       "    <tr style=\"text-align: right;\">\n",
       "      <th></th>\n",
       "      <th>text</th>\n",
       "      <th>label</th>\n",
       "      <th>bert_embeddings</th>\n",
       "      <th>roberta_embeddings</th>\n",
       "    </tr>\n",
       "  </thead>\n",
       "  <tbody>\n",
       "    <tr>\n",
       "      <th>625</th>\n",
       "      <td>As the couple deny fresh cheating and divorce ...</td>\n",
       "      <td>0</td>\n",
       "      <td>[-0.58505154, -0.23033476, 0.08503331, -0.6579...</td>\n",
       "      <td>[-0.07220477, 0.08664565, -0.0051694377, -0.16...</td>\n",
       "    </tr>\n",
       "    <tr>\n",
       "      <th>3034</th>\n",
       "      <td>[This story contains spoilers from Grey's Anat...</td>\n",
       "      <td>0</td>\n",
       "      <td>[-0.46412155, -0.8269299, 0.15971911, -0.01749...</td>\n",
       "      <td>[-0.054015182, 0.06155525, 0.020496445, -0.175...</td>\n",
       "    </tr>\n",
       "    <tr>\n",
       "      <th>2752</th>\n",
       "      <td>CHERRY Seaborn is the fiancée and childhood sw...</td>\n",
       "      <td>0</td>\n",
       "      <td>[-0.22449817, -0.519732, -0.37834272, -0.22955...</td>\n",
       "      <td>[-0.05114577, 0.055954624, -0.006528543, -0.14...</td>\n",
       "    </tr>\n",
       "    <tr>\n",
       "      <th>4925</th>\n",
       "      <td>The 2018 Golden Globes, hosted by Seth Meyers,...</td>\n",
       "      <td>1</td>\n",
       "      <td>[-0.538204, -0.093839385, 0.3541537, 0.0189483...</td>\n",
       "      <td>[-0.038301665, 0.05653024, 0.02677432, -0.1539...</td>\n",
       "    </tr>\n",
       "    <tr>\n",
       "      <th>4780</th>\n",
       "      <td>The gang’s all here!  With just days to go bef...</td>\n",
       "      <td>0</td>\n",
       "      <td>[-0.031492554, -0.3493325, 0.70149493, 0.06709...</td>\n",
       "      <td>[-0.05443966, 0.070664205, 0.0025050312, -0.16...</td>\n",
       "    </tr>\n",
       "  </tbody>\n",
       "</table>\n",
       "</div>"
      ],
      "text/plain": [
       "                                                   text  label  \\\n",
       "625   As the couple deny fresh cheating and divorce ...      0   \n",
       "3034  [This story contains spoilers from Grey's Anat...      0   \n",
       "2752  CHERRY Seaborn is the fiancée and childhood sw...      0   \n",
       "4925  The 2018 Golden Globes, hosted by Seth Meyers,...      1   \n",
       "4780  The gang’s all here!  With just days to go bef...      0   \n",
       "\n",
       "                                        bert_embeddings  \\\n",
       "625   [-0.58505154, -0.23033476, 0.08503331, -0.6579...   \n",
       "3034  [-0.46412155, -0.8269299, 0.15971911, -0.01749...   \n",
       "2752  [-0.22449817, -0.519732, -0.37834272, -0.22955...   \n",
       "4925  [-0.538204, -0.093839385, 0.3541537, 0.0189483...   \n",
       "4780  [-0.031492554, -0.3493325, 0.70149493, 0.06709...   \n",
       "\n",
       "                                     roberta_embeddings  \n",
       "625   [-0.07220477, 0.08664565, -0.0051694377, -0.16...  \n",
       "3034  [-0.054015182, 0.06155525, 0.020496445, -0.175...  \n",
       "2752  [-0.05114577, 0.055954624, -0.006528543, -0.14...  \n",
       "4925  [-0.038301665, 0.05653024, 0.02677432, -0.1539...  \n",
       "4780  [-0.05443966, 0.070664205, 0.0025050312, -0.16...  "
      ]
     },
     "metadata": {},
     "output_type": "display_data"
    },
    {
     "data": {
      "text/html": [
       "<div>\n",
       "<style scoped>\n",
       "    .dataframe tbody tr th:only-of-type {\n",
       "        vertical-align: middle;\n",
       "    }\n",
       "\n",
       "    .dataframe tbody tr th {\n",
       "        vertical-align: top;\n",
       "    }\n",
       "\n",
       "    .dataframe thead th {\n",
       "        text-align: right;\n",
       "    }\n",
       "</style>\n",
       "<table border=\"1\" class=\"dataframe\">\n",
       "  <thead>\n",
       "    <tr style=\"text-align: right;\">\n",
       "      <th></th>\n",
       "      <th>text</th>\n",
       "      <th>label</th>\n",
       "      <th>bert_embeddings</th>\n",
       "      <th>roberta_embeddings</th>\n",
       "    </tr>\n",
       "  </thead>\n",
       "  <tbody>\n",
       "    <tr>\n",
       "      <th>1465</th>\n",
       "      <td>Chris Evans and Jenny Slate's relationship was...</td>\n",
       "      <td>0</td>\n",
       "      <td>[-0.38056096, -0.7548965, -0.5671339, 0.100669...</td>\n",
       "      <td>[-0.04004512, 0.088101245, 0.01712712, -0.1299...</td>\n",
       "    </tr>\n",
       "    <tr>\n",
       "      <th>3733</th>\n",
       "      <td>Click to email this to a friend (Opens in new ...</td>\n",
       "      <td>0</td>\n",
       "      <td>[-0.22100897, 0.1336792, 0.446061, -0.18849379...</td>\n",
       "      <td>[-0.0648468, 0.08484085, -0.000743352, -0.1419...</td>\n",
       "    </tr>\n",
       "    <tr>\n",
       "      <th>3547</th>\n",
       "      <td>That '70s Show is an American television perio...</td>\n",
       "      <td>1</td>\n",
       "      <td>[-0.43542513, -1.3586173, -0.15633087, -0.0795...</td>\n",
       "      <td>[-0.06510144, 0.08425536, -0.007948116, -0.121...</td>\n",
       "    </tr>\n",
       "    <tr>\n",
       "      <th>2461</th>\n",
       "      <td>Lindsay Lohan says she was “racially profiled”...</td>\n",
       "      <td>1</td>\n",
       "      <td>[-0.041253213, -0.7142504, -0.2685204, -0.0068...</td>\n",
       "      <td>[-0.02930983, 0.09134884, 0.020709824, -0.1537...</td>\n",
       "    </tr>\n",
       "    <tr>\n",
       "      <th>3395</th>\n",
       "      <td>Image Source: Getty / ullstein bild Dtl.  The ...</td>\n",
       "      <td>0</td>\n",
       "      <td>[-0.6043445, -0.53224844, -0.42417797, -0.5617...</td>\n",
       "      <td>[-0.036446996, 0.08447648, 0.023451367, -0.141...</td>\n",
       "    </tr>\n",
       "  </tbody>\n",
       "</table>\n",
       "</div>"
      ],
      "text/plain": [
       "                                                   text  label  \\\n",
       "1465  Chris Evans and Jenny Slate's relationship was...      0   \n",
       "3733  Click to email this to a friend (Opens in new ...      0   \n",
       "3547  That '70s Show is an American television perio...      1   \n",
       "2461  Lindsay Lohan says she was “racially profiled”...      1   \n",
       "3395  Image Source: Getty / ullstein bild Dtl.  The ...      0   \n",
       "\n",
       "                                        bert_embeddings  \\\n",
       "1465  [-0.38056096, -0.7548965, -0.5671339, 0.100669...   \n",
       "3733  [-0.22100897, 0.1336792, 0.446061, -0.18849379...   \n",
       "3547  [-0.43542513, -1.3586173, -0.15633087, -0.0795...   \n",
       "2461  [-0.041253213, -0.7142504, -0.2685204, -0.0068...   \n",
       "3395  [-0.6043445, -0.53224844, -0.42417797, -0.5617...   \n",
       "\n",
       "                                     roberta_embeddings  \n",
       "1465  [-0.04004512, 0.088101245, 0.01712712, -0.1299...  \n",
       "3733  [-0.0648468, 0.08484085, -0.000743352, -0.1419...  \n",
       "3547  [-0.06510144, 0.08425536, -0.007948116, -0.121...  \n",
       "2461  [-0.02930983, 0.09134884, 0.020709824, -0.1537...  \n",
       "3395  [-0.036446996, 0.08447648, 0.023451367, -0.141...  "
      ]
     },
     "metadata": {},
     "output_type": "display_data"
    }
   ],
   "source": [
    "display(train_df.head())\n",
    "display(test_df.head())"
   ]
  },
  {
   "cell_type": "markdown",
   "metadata": {},
   "source": [
    "# Create HugginFace Dataset"
   ]
  },
  {
   "cell_type": "code",
   "execution_count": 29,
   "metadata": {},
   "outputs": [],
   "source": [
    "from datasets import Dataset, DatasetDict"
   ]
  },
  {
   "cell_type": "code",
   "execution_count": 30,
   "metadata": {},
   "outputs": [],
   "source": [
    "# Step 1: Create datasets from pandas\n",
    "train_dataset = Dataset.from_pandas(train_df).remove_columns(['__index_level_0__'])\n",
    "test_dataset = Dataset.from_pandas(test_df).remove_columns(['__index_level_0__'])\n",
    "\n",
    "# Step 2: Combine into a DatasetDict\n",
    "dataset_dict = DatasetDict({\n",
    "    'train': train_dataset,\n",
    "    'test': test_dataset\n",
    "})"
   ]
  },
  {
   "cell_type": "markdown",
   "metadata": {},
   "source": [
    "# Upload to HuggingFace Hub"
   ]
  },
  {
   "cell_type": "code",
   "execution_count": 31,
   "metadata": {},
   "outputs": [
    {
     "name": "stderr",
     "output_type": "stream",
     "text": [
      "Creating parquet from Arrow format: 100%|██████████| 5/5 [00:00<00:00, 11.79ba/s]\n",
      "Uploading the dataset shards: 100%|██████████| 1/1 [00:09<00:00,  9.79s/it]\n",
      "Creating parquet from Arrow format: 100%|██████████| 1/1 [00:00<00:00, 12.31ba/s]\n",
      "Uploading the dataset shards: 100%|██████████| 1/1 [00:01<00:00,  1.15s/it]\n"
     ]
    },
    {
     "data": {
      "text/plain": [
       "CommitInfo(commit_url='https://huggingface.co/datasets/LittleFish-Coder/Fake_News_KDD2020/commit/f9d1fe153915ec9536f92a5db17eea06ded8df43', commit_message='Upload dataset', commit_description='', oid='f9d1fe153915ec9536f92a5db17eea06ded8df43', pr_url=None, repo_url=RepoUrl('https://huggingface.co/datasets/LittleFish-Coder/Fake_News_KDD2020', endpoint='https://huggingface.co', repo_type='dataset', repo_id='LittleFish-Coder/Fake_News_KDD2020'), pr_revision=None, pr_num=None)"
      ]
     },
     "execution_count": 31,
     "metadata": {},
     "output_type": "execute_result"
    }
   ],
   "source": [
    "dataset_dict.push_to_hub('LittleFish-Coder/Fake_News_KDD2020')"
   ]
  }
 ],
 "metadata": {
  "kernelspec": {
   "display_name": "fakenews",
   "language": "python",
   "name": "python3"
  },
  "language_info": {
   "codemirror_mode": {
    "name": "ipython",
    "version": 3
   },
   "file_extension": ".py",
   "mimetype": "text/x-python",
   "name": "python",
   "nbconvert_exporter": "python",
   "pygments_lexer": "ipython3",
   "version": "3.12.7"
  }
 },
 "nbformat": 4,
 "nbformat_minor": 2
}

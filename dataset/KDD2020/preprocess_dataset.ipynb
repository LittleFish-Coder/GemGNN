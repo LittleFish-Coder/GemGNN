{
 "cells": [
  {
   "cell_type": "markdown",
   "metadata": {},
   "source": [
    "# Preprocess Dataset"
   ]
  },
  {
   "cell_type": "code",
   "execution_count": 16,
   "metadata": {},
   "outputs": [],
   "source": [
    "# import package\n",
    "import pandas as pd"
   ]
  },
  {
   "cell_type": "markdown",
   "metadata": {},
   "source": [
    "# Dataset\n",
    "Read the train.csv and delete the rows with missing values."
   ]
  },
  {
   "cell_type": "code",
   "execution_count": 17,
   "metadata": {},
   "outputs": [
    {
     "name": "stdout",
     "output_type": "stream",
     "text": [
      "Training data shape: (4987, 2)\n",
      "                                                text label\n",
      "0  Get the latest from TODAY Sign up for our news...     1\n",
      "1  2d  Conan On The Funeral Trump Will Be Invited...     1\n",
      "2  It’s safe to say that Instagram Stories has fa...     0\n",
      "3  Much like a certain Amazon goddess with a lass...     0\n",
      "4  At a time when the perfect outfit is just one ...     0\n"
     ]
    }
   ],
   "source": [
    "# load data\n",
    "train_df = pd.read_csv('train_raw.csv', sep='\\t', encoding='utf-8')\n",
    "print(f\"Training data shape: {train_df.shape}\")\n",
    "print(train_df.head())"
   ]
  },
  {
   "cell_type": "markdown",
   "metadata": {},
   "source": [
    "# Data Cleaning"
   ]
  },
  {
   "cell_type": "code",
   "execution_count": 18,
   "metadata": {},
   "outputs": [
    {
     "name": "stdout",
     "output_type": "stream",
     "text": [
      "Null values in training data:\n",
      "text     0\n",
      "label    0\n",
      "dtype: int64\n"
     ]
    }
   ],
   "source": [
    "# check NaN values\n",
    "print(f\"Null values in training data:\")\n",
    "print(train_df.isnull().sum())"
   ]
  },
  {
   "cell_type": "code",
   "execution_count": 19,
   "metadata": {},
   "outputs": [
    {
     "name": "stdout",
     "output_type": "stream",
     "text": [
      "Unique labels in training data:\n",
      "['1' '0' 'label']\n"
     ]
    }
   ],
   "source": [
    "# print unique labels\n",
    "print(f\"Unique labels in training data:\")\n",
    "print(train_df['label'].unique())"
   ]
  },
  {
   "cell_type": "markdown",
   "metadata": {},
   "source": [
    "Delete the data whose label is not ['0', '1']"
   ]
  },
  {
   "cell_type": "code",
   "execution_count": 20,
   "metadata": {},
   "outputs": [
    {
     "name": "stdout",
     "output_type": "stream",
     "text": [
      "Rows with label 'label':\n",
      "         text  label\n",
      "1615  content  label\n"
     ]
    }
   ],
   "source": [
    "# find the row that label == 'label'\n",
    "print(f\"Rows with label 'label':\")\n",
    "print(train_df[train_df['label'] == 'label'])"
   ]
  },
  {
   "cell_type": "code",
   "execution_count": 21,
   "metadata": {},
   "outputs": [],
   "source": [
    "# remove the row that label == 'label'\n",
    "train_df = train_df[train_df['label'] != 'label']\n",
    "\n",
    "# save labels as int type\n",
    "train_df['label'] = train_df['label'].astype(int)"
   ]
  },
  {
   "cell_type": "code",
   "execution_count": 22,
   "metadata": {},
   "outputs": [
    {
     "name": "stdout",
     "output_type": "stream",
     "text": [
      "train info:\n",
      "<class 'pandas.core.frame.DataFrame'>\n",
      "RangeIndex: 4986 entries, 0 to 4985\n",
      "Data columns (total 2 columns):\n",
      " #   Column  Non-Null Count  Dtype \n",
      "---  ------  --------------  ----- \n",
      " 0   text    4986 non-null   object\n",
      " 1   label   4986 non-null   int64 \n",
      "dtypes: int64(1), object(1)\n",
      "memory usage: 78.0+ KB\n",
      "None\n",
      "                                                text  label\n",
      "0  Get the latest from TODAY Sign up for our news...      1\n",
      "1  2d  Conan On The Funeral Trump Will Be Invited...      1\n",
      "2  It’s safe to say that Instagram Stories has fa...      0\n",
      "3  Much like a certain Amazon goddess with a lass...      0\n",
      "4  At a time when the perfect outfit is just one ...      0\n",
      "(4986, 2)\n"
     ]
    }
   ],
   "source": [
    "# reset the index\n",
    "train_df.reset_index(drop=True, inplace=True)\n",
    "\n",
    "# info\n",
    "print(f\"train info:\")\n",
    "print(train_df.info())\n",
    "print(train_df.head())\n",
    "print(train_df.shape)"
   ]
  },
  {
   "cell_type": "markdown",
   "metadata": {},
   "source": [
    "## Output"
   ]
  },
  {
   "cell_type": "code",
   "execution_count": 23,
   "metadata": {},
   "outputs": [
    {
     "name": "stdout",
     "output_type": "stream",
     "text": [
      "Training data saved as train.csv\n"
     ]
    }
   ],
   "source": [
    "train_df.to_csv('train.csv', sep='\\t', index=False, encoding='utf-8')\n",
    "print(f\"Training data saved as train.csv\")"
   ]
  },
  {
   "cell_type": "markdown",
   "metadata": {},
   "source": [
    "# EDA"
   ]
  },
  {
   "cell_type": "code",
   "execution_count": 34,
   "metadata": {},
   "outputs": [],
   "source": [
    "import matplotlib.pyplot as plt\n",
    "import numpy as np"
   ]
  },
  {
   "cell_type": "code",
   "execution_count": 42,
   "metadata": {},
   "outputs": [
    {
     "name": "stdout",
     "output_type": "stream",
     "text": [
      "Label distribution:\n",
      "Label 0: 2972 samples\n",
      "Label 1: 2014 samples\n"
     ]
    },
    {
     "data": {
      "image/png": "[encoded data removed]",
      "text/plain": [
       "<Figure size 640x480 with 1 Axes>"
      ]
     },
     "metadata": {},
     "output_type": "display_data"
    }
   ],
   "source": [
    "# plot label distribution\n",
    "labels, counts = np.unique(train_df['label'], return_counts=True)\n",
    "print(f\"Label distribution:\")\n",
    "for label, count in zip(labels, counts):\n",
    "    print(f\"Label {label}: {count} samples\")\n",
    "\n",
    "# plt.figure(figsize=(10, 5))\n",
    "plt.bar(labels, counts)\n",
    "plt.xlabel('Label')\n",
    "plt.ylabel('Count')\n",
    "plt.xticks(labels)\n",
    "plt.title('Label Distribution')\n",
    "plt.show()"
   ]
  }
 ],
 "metadata": {
  "kernelspec": {
   "display_name": "forgery-detection",
   "language": "python",
   "name": "python3"
  },
  "language_info": {
   "codemirror_mode": {
    "name": "ipython",
    "version": 3
   },
   "file_extension": ".py",
   "mimetype": "text/x-python",
   "name": "python",
   "nbconvert_exporter": "python",
   "pygments_lexer": "ipython3",
   "version": "3.10.12"
  }
 },
 "nbformat": 4,
 "nbformat_minor": 2
}

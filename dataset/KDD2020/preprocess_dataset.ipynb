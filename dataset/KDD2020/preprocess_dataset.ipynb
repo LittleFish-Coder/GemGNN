{
 "cells": [
  {
   "cell_type": "markdown",
   "metadata": {},
   "source": [
    "# Fake News Detection Challenge KDD 2020\n",
    "\n",
    "https://www.kaggle.com/competitions/fakenewskdd2020\n",
    "\n",
    "- text: text of the article\n",
    "\n",
    "- Label: a label that marks the article as potentially unreliable\n",
    "    - 1: fake\n",
    "    - 0: real"
   ]
  },
  {
   "cell_type": "code",
   "execution_count": 1,
   "metadata": {},
   "outputs": [],
   "source": [
    "# import package\n",
    "import pandas as pd"
   ]
  },
  {
   "cell_type": "markdown",
   "metadata": {},
   "source": [
    "# Dataset\n",
    "Read the KDD_raw.csv and delete the rows with missing values."
   ]
  },
  {
   "cell_type": "code",
   "execution_count": 2,
   "metadata": {},
   "outputs": [
    {
     "name": "stdout",
     "output_type": "stream",
     "text": [
      "Data shape: (4987, 2)\n",
      "                                                text label\n",
      "0  Get the latest from TODAY Sign up for our news...     1\n",
      "1  2d  Conan On The Funeral Trump Will Be Invited...     1\n",
      "2  It’s safe to say that Instagram Stories has fa...     0\n",
      "3  Much like a certain Amazon goddess with a lass...     0\n",
      "4  At a time when the perfect outfit is just one ...     0\n"
     ]
    }
   ],
   "source": [
    "# load data\n",
    "df = pd.read_csv('KDD_raw.csv', sep='\\t', encoding='utf-8')\n",
    "print(f\"Data shape: {df.shape}\")\n",
    "print(df.head())"
   ]
  },
  {
   "cell_type": "markdown",
   "metadata": {},
   "source": [
    "# Data Cleaning"
   ]
  },
  {
   "cell_type": "code",
   "execution_count": 3,
   "metadata": {},
   "outputs": [
    {
     "name": "stdout",
     "output_type": "stream",
     "text": [
      "Null values in data:\n",
      "text     0\n",
      "label    0\n",
      "dtype: int64\n"
     ]
    }
   ],
   "source": [
    "# check NaN values\n",
    "print(f\"Null values in data:\")\n",
    "print(df.isnull().sum())"
   ]
  },
  {
   "cell_type": "code",
   "execution_count": 4,
   "metadata": {},
   "outputs": [
    {
     "name": "stdout",
     "output_type": "stream",
     "text": [
      "Unique labels in data:\n",
      "['1' '0' 'label']\n"
     ]
    }
   ],
   "source": [
    "# print unique labels\n",
    "print(f\"Unique labels in data:\")\n",
    "print(df['label'].unique())"
   ]
  },
  {
   "cell_type": "markdown",
   "metadata": {},
   "source": [
    "## Delete the data whose label is not ['0', '1']\n",
    "\n",
    "since our label can only contains:\n",
    "- 1: fake\n",
    "- 0: true"
   ]
  },
  {
   "cell_type": "code",
   "execution_count": 5,
   "metadata": {},
   "outputs": [
    {
     "name": "stdout",
     "output_type": "stream",
     "text": [
      "Rows with label 'label': \n",
      "         text  label\n",
      "1615  content  label\n"
     ]
    }
   ],
   "source": [
    "# find the row that label == 'label'\n",
    "print(f\"Rows with label 'label': \")\n",
    "print(df[df['label'] == 'label'])"
   ]
  },
  {
   "cell_type": "code",
   "execution_count": 6,
   "metadata": {},
   "outputs": [],
   "source": [
    "# remove the row that label == 'label'\n",
    "df = df[df['label'] != 'label']"
   ]
  },
  {
   "cell_type": "code",
   "execution_count": 7,
   "metadata": {},
   "outputs": [],
   "source": [
    "# save labels as int type\n",
    "df['label'] = df['label'].astype(int)"
   ]
  },
  {
   "cell_type": "code",
   "execution_count": 9,
   "metadata": {},
   "outputs": [
    {
     "name": "stdout",
     "output_type": "stream",
     "text": [
      "<class 'pandas.core.frame.DataFrame'>\n",
      "RangeIndex: 4986 entries, 0 to 4985\n",
      "Data columns (total 2 columns):\n",
      " #   Column  Non-Null Count  Dtype \n",
      "---  ------  --------------  ----- \n",
      " 0   text    4986 non-null   object\n",
      " 1   label   4986 non-null   int64 \n",
      "dtypes: int64(1), object(1)\n",
      "memory usage: 78.0+ KB\n",
      "None\n",
      "                                                text  label\n",
      "0  Get the latest from TODAY Sign up for our news...      1\n",
      "1  2d  Conan On The Funeral Trump Will Be Invited...      1\n",
      "2  It’s safe to say that Instagram Stories has fa...      0\n",
      "3  Much like a certain Amazon goddess with a lass...      0\n",
      "4  At a time when the perfect outfit is just one ...      0\n",
      "(4986, 2)\n"
     ]
    }
   ],
   "source": [
    "# reset the index\n",
    "df.reset_index(drop=True, inplace=True)\n",
    "\n",
    "# info\n",
    "print(df.info())\n",
    "print(df.head())\n",
    "print(df.shape)"
   ]
  },
  {
   "cell_type": "markdown",
   "metadata": {},
   "source": [
    "# Train Val Test Split"
   ]
  },
  {
   "cell_type": "code",
   "execution_count": 11,
   "metadata": {},
   "outputs": [],
   "source": [
    "from sklearn.model_selection import train_test_split"
   ]
  },
  {
   "cell_type": "code",
   "execution_count": 12,
   "metadata": {},
   "outputs": [],
   "source": [
    "# Define the split sizes\n",
    "train_size = 0.7\n",
    "val_size = 0.20\n",
    "test_size = 0.10\n",
    "\n",
    "# First, split into train and temp (val + test)\n",
    "train_df, temp_df = train_test_split(df, test_size=(val_size + test_size))\n",
    "\n",
    "# Now split temp into validation and test\n",
    "val_df, test_df = train_test_split(temp_df, test_size=(test_size / (val_size + test_size)))"
   ]
  },
  {
   "cell_type": "code",
   "execution_count": 13,
   "metadata": {},
   "outputs": [
    {
     "name": "stdout",
     "output_type": "stream",
     "text": [
      "Raw data set size: 4986\n",
      "Training set size: 3490\n",
      "Validation set size: 997\n",
      "Test set size: 499\n"
     ]
    }
   ],
   "source": [
    "print(f'Raw data set size: {len(df)}')\n",
    "print(f'Training set size: {len(train_df)}')\n",
    "print(f'Validation set size: {len(val_df)}')\n",
    "print(f'Test set size: {len(test_df)}')"
   ]
  },
  {
   "cell_type": "markdown",
   "metadata": {},
   "source": [
    "## Output"
   ]
  },
  {
   "cell_type": "code",
   "execution_count": 13,
   "metadata": {},
   "outputs": [
    {
     "name": "stdout",
     "output_type": "stream",
     "text": [
      "Training data saved as train.csv\n",
      "Validation data saved as val.csv\n",
      "Test data saved as test.csv\n"
     ]
    }
   ],
   "source": [
    "train_df.to_csv('train.csv', sep='\\t', index=False, encoding='utf-8')\n",
    "print(f\"Training data saved as train.csv\")\n",
    "val_df.to_csv('val.csv', sep='\\t', index=False, encoding='utf-8')\n",
    "print(f\"Validation data saved as val.csv\")\n",
    "test_df.to_csv('test.csv', sep='\\t', index=False, encoding='utf-8')\n",
    "print(f\"Test data saved as test.csv\")"
   ]
  },
  {
   "cell_type": "markdown",
   "metadata": {},
   "source": [
    "# EDA"
   ]
  },
  {
   "cell_type": "code",
   "execution_count": 14,
   "metadata": {},
   "outputs": [],
   "source": [
    "import matplotlib.pyplot as plt\n",
    "import numpy as np"
   ]
  },
  {
   "cell_type": "code",
   "execution_count": 15,
   "metadata": {},
   "outputs": [
    {
     "data": {
      "image/png": "[encoded data removed]",
      "text/plain": [
       "<Figure size 640x480 with 1 Axes>"
      ]
     },
     "metadata": {},
     "output_type": "display_data"
    }
   ],
   "source": [
    "# Count the occurrences of 'fake' and 'real' in each split\n",
    "train_counts = train_df['label'].value_counts()\n",
    "val_counts = val_df['label'].value_counts()\n",
    "test_counts = test_df['label'].value_counts()\n",
    "\n",
    "# Combine the counts into a single DataFrame for plotting\n",
    "counts_df = pd.DataFrame({\n",
    "    'train': train_counts,\n",
    "    'val': val_counts,\n",
    "    'test': test_counts\n",
    "}).T\n",
    "\n",
    "# Plotting\n",
    "fig, ax = plt.subplots()\n",
    "\n",
    "# Define the bar width\n",
    "bar_width = 0.25\n",
    "\n",
    "# Set position of bar on X axis\n",
    "r1 = range(len(counts_df))\n",
    "r2 = [x + bar_width for x in r1]\n",
    "\n",
    "# Make the plot\n",
    "ax.bar(r2, counts_df[0], color='b', width=bar_width, label='Real')\n",
    "ax.bar(r1, counts_df[1], color='r', width=bar_width, label='Fake')\n",
    "\n",
    "# Add labels\n",
    "ax.set_xlabel('Data Split')\n",
    "ax.set_ylabel('Count')\n",
    "ax.set_title('Label Distribution in Train, Val, and Test Sets')\n",
    "ax.set_xticks([r + bar_width/2 for r in range(len(counts_df))])\n",
    "ax.set_xticklabels(counts_df.index)\n",
    "\n",
    "# Add legend\n",
    "ax.legend()\n",
    "\n",
    "# Show the plot\n",
    "plt.show()"
   ]
  },
  {
   "cell_type": "markdown",
   "metadata": {},
   "source": [
    "# Create HugginFace Dataset"
   ]
  },
  {
   "cell_type": "code",
   "execution_count": 17,
   "metadata": {},
   "outputs": [
    {
     "name": "stderr",
     "output_type": "stream",
     "text": [
      "/home/littlefish/miniconda3/envs/fakenews/lib/python3.12/site-packages/tqdm/auto.py:21: TqdmWarning: IProgress not found. Please update jupyter and ipywidgets. See https://ipywidgets.readthedocs.io/en/stable/user_install.html\n",
      "  from .autonotebook import tqdm as notebook_tqdm\n"
     ]
    }
   ],
   "source": [
    "from datasets import Dataset, DatasetDict"
   ]
  },
  {
   "cell_type": "code",
   "execution_count": 36,
   "metadata": {},
   "outputs": [],
   "source": [
    "# Step 1: Create datasets from pandas\n",
    "train_dataset = Dataset.from_pandas(train_df).remove_columns(['__index_level_0__'])\n",
    "val_dataset = Dataset.from_pandas(val_df).remove_columns(['__index_level_0__'])\n",
    "test_dataset = Dataset.from_pandas(test_df).remove_columns(['__index_level_0__'])\n",
    "\n",
    "# Step 2: Combine into a DatasetDict\n",
    "dataset_dict = DatasetDict({\n",
    "    'train': train_dataset,\n",
    "    'validation': val_dataset,\n",
    "    'test': test_dataset\n",
    "})"
   ]
  },
  {
   "cell_type": "markdown",
   "metadata": {},
   "source": [
    "# Add Bert Embedding"
   ]
  },
  {
   "cell_type": "code",
   "execution_count": 38,
   "metadata": {},
   "outputs": [],
   "source": [
    "import torch\n",
    "\n",
    "device = 'cuda' if torch.cuda.is_available() else 'cpu'"
   ]
  },
  {
   "cell_type": "code",
   "execution_count": 39,
   "metadata": {},
   "outputs": [],
   "source": [
    "from transformers import AutoTokenizer, AutoModel\n",
    "\n",
    "tokenizer = AutoTokenizer.from_pretrained(f\"google-bert/bert-base-uncased\", clean_up_tokenization_spaces=True)\n",
    "model = AutoModel.from_pretrained(f\"google-bert/bert-base-uncased\").to(device)"
   ]
  },
  {
   "cell_type": "code",
   "execution_count": 40,
   "metadata": {},
   "outputs": [],
   "source": [
    "def generate_bert_embeddings(text):\n",
    "    # Tokenize the input text\n",
    "    inputs = tokenizer(text, return_tensors='pt', padding=True, truncation=True, max_length=512).to(device)\n",
    "    \n",
    "    # Get the BERT embeddings\n",
    "    with torch.no_grad():\n",
    "        outputs = model(**inputs)\n",
    "    \n",
    "    # Extract the embeddings from the last hidden state\n",
    "    embeddings = outputs.last_hidden_state.mean(dim=1).squeeze().cpu().numpy()\n",
    "    \n",
    "    return embeddings"
   ]
  },
  {
   "cell_type": "code",
   "execution_count": 41,
   "metadata": {},
   "outputs": [
    {
     "name": "stderr",
     "output_type": "stream",
     "text": [
      "Map: 100%|██████████| 3490/3490 [00:38<00:00, 91.01 examples/s]\n",
      "Map: 100%|██████████| 997/997 [00:10<00:00, 91.32 examples/s]\n",
      "Map: 100%|██████████| 499/499 [00:05<00:00, 94.19 examples/s]\n"
     ]
    }
   ],
   "source": [
    "def add_embeddings(batch):\n",
    "    batch['bert_embeddings'] = [generate_bert_embeddings(text) for text in batch['text']]\n",
    "    return batch\n",
    "\n",
    "# Apply the function to all splits\n",
    "dataset_dict = dataset_dict.map(add_embeddings, batched=True)"
   ]
  },
  {
   "cell_type": "markdown",
   "metadata": {},
   "source": [
    "# Upload to HuggingFace Hub"
   ]
  },
  {
   "cell_type": "code",
   "execution_count": 43,
   "metadata": {},
   "outputs": [
    {
     "name": "stderr",
     "output_type": "stream",
     "text": [
      "Creating parquet from Arrow format: 100%|██████████| 4/4 [00:00<00:00, 15.61ba/s]\n",
      "Uploading the dataset shards: 100%|██████████| 1/1 [00:03<00:00,  3.80s/it]\n",
      "Creating parquet from Arrow format: 100%|██████████| 1/1 [00:00<00:00, 13.53ba/s]\n",
      "Uploading the dataset shards: 100%|██████████| 1/1 [00:02<00:00,  2.45s/it]\n",
      "Creating parquet from Arrow format: 100%|██████████| 1/1 [00:00<00:00, 20.44ba/s]\n",
      "Uploading the dataset shards: 100%|██████████| 1/1 [00:01<00:00,  1.10s/it]\n"
     ]
    },
    {
     "data": {
      "text/plain": [
       "CommitInfo(commit_url='https://huggingface.co/datasets/LittleFish-Coder/Fake-News-Detection-Challenge-KDD-2020/commit/0901268ba38c539e953996fe6898f4ab46240737', commit_message='Upload dataset', commit_description='', oid='0901268ba38c539e953996fe6898f4ab46240737', pr_url=None, repo_url=RepoUrl('https://huggingface.co/datasets/LittleFish-Coder/Fake-News-Detection-Challenge-KDD-2020', endpoint='https://huggingface.co', repo_type='dataset', repo_id='LittleFish-Coder/Fake-News-Detection-Challenge-KDD-2020'), pr_revision=None, pr_num=None)"
      ]
     },
     "execution_count": 43,
     "metadata": {},
     "output_type": "execute_result"
    }
   ],
   "source": [
    "dataset_dict.push_to_hub('LittleFish-Coder/Fake-News-Detection-Challenge-KDD-2020')"
   ]
  }
 ],
 "metadata": {
  "kernelspec": {
   "display_name": "fakenews",
   "language": "python",
   "name": "python3"
  },
  "language_info": {
   "codemirror_mode": {
    "name": "ipython",
    "version": 3
   },
   "file_extension": ".py",
   "mimetype": "text/x-python",
   "name": "python",
   "nbconvert_exporter": "python",
   "pygments_lexer": "ipython3",
   "version": "3.12.5"
  }
 },
 "nbformat": 4,
 "nbformat_minor": 2
}

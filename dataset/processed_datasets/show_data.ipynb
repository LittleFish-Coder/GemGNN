{
 "cells": [
  {
   "cell_type": "code",
   "execution_count": null,
   "id": "105b379e",
   "metadata": {},
   "outputs": [],
   "source": [
    "from datasets import load_from_disk\n",
    "import numpy as np # For checking embedding shapes\n",
    "\n",
    "# --- 設定你的資料集路徑 ---\n",
    "dataset_path = \"./politifact_with_interaction_embeddings_simple\"\n",
    "\n",
    "print(f\"Loading dataset from: {dataset_path}\")\n",
    "processed_dataset = load_from_disk(dataset_path)"
   ]
  },
  {
   "cell_type": "code",
   "execution_count": 2,
   "id": "0635ceeb",
   "metadata": {},
   "outputs": [
    {
     "name": "stdout",
     "output_type": "stream",
     "text": [
      "\n",
      "Dataset Structure:\n",
      "DatasetDict({\n",
      "    train: Dataset({\n",
      "        features: ['text', 'label', 'bert_embeddings', 'roberta_embeddings', 'interaction_gemini_embeddings', 'interaction_tones'],\n",
      "        num_rows: 381\n",
      "    })\n",
      "    test: Dataset({\n",
      "        features: ['text', 'label', 'bert_embeddings', 'roberta_embeddings', 'interaction_gemini_embeddings', 'interaction_tones'],\n",
      "        num_rows: 102\n",
      "    })\n",
      "})\n"
     ]
    }
   ],
   "source": [
    "# --- 顯示資料集結構 ---\n",
    "print(\"\\nDataset Structure:\")\n",
    "print(processed_dataset)"
   ]
  },
  {
   "cell_type": "code",
   "execution_count": 4,
   "id": "6d890f0a",
   "metadata": {},
   "outputs": [
    {
     "name": "stdout",
     "output_type": "stream",
     "text": [
      "\n",
      "Split Information:\n",
      "- Split 'train': 381 examples\n",
      "  Features: {'text': Value(dtype='string', id=None), 'label': Value(dtype='int64', id=None), 'bert_embeddings': Sequence(feature=Value(dtype='float32', id=None), length=-1, id=None), 'roberta_embeddings': Sequence(feature=Value(dtype='float32', id=None), length=-1, id=None), 'interaction_gemini_embeddings': Sequence(feature=Sequence(feature=Value(dtype='float32', id=None), length=-1, id=None), length=-1, id=None), 'interaction_tones': Sequence(feature=Value(dtype='string', id=None), length=-1, id=None)}\n",
      "- Split 'test': 102 examples\n",
      "  Features: {'text': Value(dtype='string', id=None), 'label': Value(dtype='int64', id=None), 'bert_embeddings': Sequence(feature=Value(dtype='float32', id=None), length=-1, id=None), 'roberta_embeddings': Sequence(feature=Value(dtype='float32', id=None), length=-1, id=None), 'interaction_gemini_embeddings': Sequence(feature=Sequence(feature=Value(dtype='float32', id=None), length=-1, id=None), length=-1, id=None), 'interaction_tones': Sequence(feature=Value(dtype='string', id=None), length=-1, id=None)}\n"
     ]
    }
   ],
   "source": [
    "# --- 顯示不同 Split 的資訊 ---\n",
    "print(\"\\nSplit Information:\")\n",
    "for split_name, split_data in processed_dataset.items():\n",
    "    print(f\"- Split '{split_name}': {len(split_data)} examples\")\n",
    "    print(f\"  Features: {split_data.features}\")"
   ]
  },
  {
   "cell_type": "code",
   "execution_count": 10,
   "id": "ea194534",
   "metadata": {},
   "outputs": [
    {
     "name": "stdout",
     "output_type": "stream",
     "text": [
      "\n",
      "--- Example: First Training Sample ---\n",
      "Label: 1\n",
      "Text (first 100 chars): Inside a Fake News Sausage Factory: ‘This Is All About Income’ In Tbilisi, the two-room rented apart...\n",
      "RoBERTa Embedding shape: (768,)\n",
      "Number of Interactions found: 20\n",
      "\n",
      "First Interaction Info:\n",
      "  Tone: affirmative\n",
      "  Gemini Embedding shape: (768,)\n"
     ]
    }
   ],
   "source": [
    "# --- 檢查第一個訓練樣本 (如果存在) ---\n",
    "print(\"\\n--- Example: First Training Sample ---\")\n",
    "train_example = processed_dataset[\"train\"][0]\n",
    "\n",
    "# 顯示部分欄位\n",
    "print(f\"Label: {train_example.get('label')}\")\n",
    "print(f\"Text (first 100 chars): {train_example.get('text', '')[:100]}...\")\n",
    "\n",
    "# 檢查 RoBERTa 嵌入 (假設欄位名為 roberta_embeddings)\n",
    "roberta_emb = np.array(train_example['roberta_embeddings'])\n",
    "print(f\"RoBERTa Embedding shape: {roberta_emb.shape}\") # Should be (768,)\n",
    "\n",
    "interaction_embs = train_example['interaction_gemini_embeddings']\n",
    "interaction_tones = train_example.get('interaction_tones', []) # Use .get for safety\n",
    "print(f\"Number of Interactions found: {len(interaction_embs)}\")\n",
    "\n",
    "if interaction_embs:\n",
    "    # 顯示第一個互動的資訊\n",
    "    first_interaction_emb = np.array(interaction_embs[0])\n",
    "    first_interaction_tone = interaction_tones[0] if interaction_tones else \"N/A\"\n",
    "    print(f\"\\nFirst Interaction Info:\")\n",
    "    print(f\"  Tone: {first_interaction_tone}\")\n",
    "    print(f\"  Gemini Embedding shape: {first_interaction_emb.shape}\") # Should be (768,) if not empty\n",
    "    # print(f\"  Gemini Embedding (first 5 values): {first_interaction_emb[:5]}\")\n",
    "else:\n",
    "    print(\"No interaction embeddings found for this example.\")"
   ]
  }
 ],
 "metadata": {
  "kernelspec": {
   "display_name": "fakenews",
   "language": "python",
   "name": "python3"
  },
  "language_info": {
   "codemirror_mode": {
    "name": "ipython",
    "version": 3
   },
   "file_extension": ".py",
   "mimetype": "text/x-python",
   "name": "python",
   "nbconvert_exporter": "python",
   "pygments_lexer": "ipython3",
   "version": "3.12.7"
  }
 },
 "nbformat": 4,
 "nbformat_minor": 5
}

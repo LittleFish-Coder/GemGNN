{
 "cells": [
  {
   "cell_type": "code",
   "execution_count": 6,
   "metadata": {},
   "outputs": [
    {
     "name": "stderr",
     "output_type": "stream",
     "text": [
      "model.safetensors: 100%|██████████| 268M/268M [00:28<00:00, 9.54MB/s] \n"
     ]
    },
    {
     "data": {
      "text/plain": [
       "CommitInfo(commit_url='https://huggingface.co/LittleFish-Coder/politifact_pseudo_labeler/commit/db6da3d55f008baa24279bcb8ee08f5cdc25ca74', commit_message='Upload tokenizer', commit_description='', oid='db6da3d55f008baa24279bcb8ee08f5cdc25ca74', pr_url=None, repo_url=RepoUrl('https://huggingface.co/LittleFish-Coder/politifact_pseudo_labeler', endpoint='https://huggingface.co', repo_type='model', repo_id='LittleFish-Coder/politifact_pseudo_labeler'), pr_revision=None, pr_num=None)"
      ]
     },
     "execution_count": 6,
     "metadata": {},
     "output_type": "execute_result"
    }
   ],
   "source": [
    "from transformers import AutoModelForSequenceClassification, AutoTokenizer\n",
    "\n",
    "model = AutoModelForSequenceClassification.from_pretrained(\"./politifact/16-shot/model/\")\n",
    "tokenizer = AutoTokenizer.from_pretrained(\"./politifact/16-shot/model/\")\n",
    "\n",
    "model.push_to_hub(\"LittleFish-Coder/politifact_pseudo_labeler\")\n",
    "tokenizer.push_to_hub(\"LittleFish-Coder/politifact_pseudo_labeler\")"
   ]
  },
  {
   "cell_type": "code",
   "execution_count": 3,
   "metadata": {},
   "outputs": [
    {
     "name": "stderr",
     "output_type": "stream",
     "text": [
      "Device set to use cuda:0\n"
     ]
    },
    {
     "name": "stdout",
     "output_type": "stream",
     "text": [
      "[{'label': 'fake', 'score': 0.5574674010276794}]\n"
     ]
    }
   ],
   "source": [
    "from transformers import pipeline\n",
    "\n",
    "news = \"\"\"\n",
    "Inside a Fake News Sausage Factory: ‘This Is All About Income’ In Tbilisi, the two-room rented apartment Mr. Latsabidze shares with his younger brother is an unlikely offshore outpost of America’s fake news industry. The two brothers, both computer experts, get help from a third young Georgian, an architect.\n",
    "\n",
    "They say they have no keen interest in politics themselves and initially placed bets across the American political spectrum and experimented with show business news, too. They set up a pro-Clinton website, walkwithher.com, a Facebook page cheering Bernie Sanders and a web digest of straightforward political news plagiarized from The New York Times and other mainstream news media.\n",
    "\n",
    "But those sites, among the more than a dozen registered by Mr. Latsabidze, were busts. Then he shifted all his energy to Mr. Trump. His flagship pro-Trump website, departed.co, gained remarkable traction in a crowded field in the prelude to the Nov. 8 election thanks to steady menu of relentlessly pro-Trump and anti-Clinton stories. (On Wednesday, a few hours after The New York Times met with Mr. Latsabidze to ask him about his activities, the site vanished along with his Facebook page.)\n",
    "\n",
    "“My audience likes Trump,” he said. “I don’t want to write bad things about Trump. If I write fake stories about Trump, I lose my audience.”\n",
    "\n",
    "Some of his Trump stories are true, some are highly slanted and others are totally false, like one this summer reporting that “the Mexican government announced they will close their borders to Americans in the event that Donald Trump is elected President of the United States.” Data compiled by Buzzfeed showed that the story was the third most-trafficked fake story on Facebook from May to July.\n",
    "\n",
    "So successful was the formula that others in Georgia and other faraway lands joined in, too, including Nika Kurdadze, a college acquaintance of Mr. Latsabidze’s who set up his own pro-Trump site, newsbreakshere.com. Its recent offerings included a fake report headlined: “Stop it Liberals…Hillary Lost the Popular Vote by Several Million. Here’s Why.” That story, like most of Mr. Latsabidze’s work, was pilfered from the web.\n",
    "\n",
    "Mr. Latsabidze initially ran into no problems from all his cutting and pasting of other people’s stories, and he even got ripped off himself when a rival in India hijacked a pro-Trump Facebook page he had set up to drive traffic to his websites. (He said that the Indian rival had offered $10,000 to buy the page, but that he had reneged on payment after being provided with access rights and commandeered it for himself.)\n",
    "\"\"\"\n",
    "\n",
    "pipe = pipeline(\"text-classification\", model=\"LittleFish-Coder/test_model\", truncation=True)\n",
    "result = pipe(news)\n",
    "print(result)\n",
    "# [{'label': 'real', 'score': ...}] or [{'label': 'fake', 'score': ...}]"
   ]
  }
 ],
 "metadata": {
  "kernelspec": {
   "display_name": "fakenews",
   "language": "python",
   "name": "python3"
  },
  "language_info": {
   "codemirror_mode": {
    "name": "ipython",
    "version": 3
   },
   "file_extension": ".py",
   "mimetype": "text/x-python",
   "name": "python",
   "nbconvert_exporter": "python",
   "pygments_lexer": "ipython3",
   "version": "3.12.7"
  }
 },
 "nbformat": 4,
 "nbformat_minor": 2
}

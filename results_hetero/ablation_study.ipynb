{
 "cells": [
  {
   "cell_type": "markdown",
   "metadata": {},
   "source": [
    "# Ablation Study"
   ]
  },
  {
   "cell_type": "code",
   "execution_count": null,
   "metadata": {},
   "outputs": [],
   "source": [
    "# K-shot values (x-axis)\n",
    "k_shots = [3, 4, 5, 6, 7, 8, 9, 10, 11, 12, 13, 14, 15, 16]\n",
    "\n",
    "# F1 Scores data for PolitiFact\n",
    "# (Real: 624, Fake: 432)\n",
    "data = {\n",
    "    \"multiview_0(HAN)\": [0.7153488372093023, 0.7778287286484007, 0.7352941176470589, 0.7666412463231289, 0.7984189723320159, 0.837800999545661, 0.837800999545661, 0.8554558337269722, 0.8277608915906788, 0.8246016278803163, 0.8178571428571428, 0.8047956771361027, 0.8178571428571428, 0.8146297137664698],\n",
    "    \"multiview_3(HAN)\": [0.7855008301051467, 0.7930540637307555, 0.7495535714285715, 0.7536231884057971, 0.8111111111111111, 0.8488888888888889, 0.8277608915906788, 0.8507261060452549, 0.8246016278803163, 0.8012151782643586, 0.8211572180011689, 0.8211572180011689, 0.8254114549045425, 0.8347222222222223], \n",
    "    \"multiview_0(HGT)\": [0.6941223510595762, 0.7600981695469884, 0.681912681912682, 0.7267857142857144, 0.8110905327377711, 0.8178571428571428, 0.8306585500830106, 0.8507261060452549, 0.8080796900940785, 0.7760210803689065, 0.7831837505904582, 0.7875, 0.7914584279872785, 0.7888658895304499],\n",
    "    \"multiview_3(HGT)\": [0.6873949579831933, 0.7350023618327822, 0.7094017094017094, 0.7352941176470589, 0.8111111111111111, 0.8277608915906788, 0.8208168642951252, 0.8609722853248523, 0.8306585500830106, 0.8146297137664698, 0.7825159914712154, 0.7831837505904582, 0.8047956771361027, 0.8047956771361027],\n",
    "}"
   ]
  },
  {
   "cell_type": "code",
   "execution_count": null,
   "metadata": {},
   "outputs": [],
   "source": [
    "import matplotlib.pyplot as plt\n",
    "\n",
    "colors = plt.get_cmap(\"tab10\").colors\n",
    "fig, ax = plt.subplots()\n",
    "\n",
    "for idx, (series_name, f1_sequence) in enumerate(data.items()):\n",
    "    if \"(HGT)\" in series_name:\n",
    "        ax.plot(k_shots, f1_sequence, label=series_name, marker=\"o\", linewidth=1, color=colors[idx % 10], alpha=0.3, linestyle=\"--\")\n",
    "    else:\n",
    "        ax.plot(k_shots, f1_sequence, label=series_name, marker=\"o\", linewidth=2.5, color=colors[idx % 10])\n",
    "\n",
    "ax.set_xlabel(\"K-Shot\")\n",
    "ax.set_ylabel(\"F1 Score\")\n",
    "ax.set_title(\"PolitiFact - F1 Scores vs. K-Shot\")\n",
    "ax.legend(bbox_to_anchor=(1.05, 1), loc='upper left', borderaxespad=0.)\n",
    "plt.grid(True, linestyle=\":\", alpha=0.5)\n",
    "plt.show()"
   ]
  }
 ],
 "metadata": {
  "kernelspec": {
   "display_name": "fakenews",
   "language": "python",
   "name": "python3"
  },
  "language_info": {
   "name": "python",
   "version": "3.12.7"
  }
 },
 "nbformat": 4,
 "nbformat_minor": 2
}

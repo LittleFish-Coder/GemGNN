{
 "cells": [
  {
   "cell_type": "code",
   "execution_count": 1,
   "metadata": {},
   "outputs": [
    {
     "name": "stdout",
     "output_type": "stream",
     "text": [
      "Using cuda device\n"
     ]
    }
   ],
   "source": [
    "import torch\n",
    "\n",
    "device = \"cuda\" if torch.cuda.is_available() else \"cpu\"\n",
    "print(f\"Using {device} device\")"
   ]
  },
  {
   "cell_type": "markdown",
   "metadata": {},
   "source": [
    "# Load Dataset"
   ]
  },
  {
   "cell_type": "code",
   "execution_count": 2,
   "metadata": {},
   "outputs": [
    {
     "name": "stderr",
     "output_type": "stream",
     "text": [
      "/home/littlefish/miniconda3/lib/python3.12/site-packages/tqdm/auto.py:21: TqdmWarning: IProgress not found. Please update jupyter and ipywidgets. See https://ipywidgets.readthedocs.io/en/stable/user_install.html\n",
      "  from .autonotebook import tqdm as notebook_tqdm\n",
      "Repo card metadata block was not found. Setting CardData to empty.\n",
      "Generating train split: 100%|██████████| 24353/24353 [00:00<00:00, 39114.98 examples/s]\n",
      "Generating validation split: 100%|██████████| 8117/8117 [00:00<00:00, 33091.15 examples/s]\n",
      "Generating test split: 100%|██████████| 8117/8117 [00:00<00:00, 33993.05 examples/s]\n"
     ]
    }
   ],
   "source": [
    "from datasets import load_dataset\n",
    "\n",
    "# load data\n",
    "dataset = load_dataset(\"GonzaloA/fake_news\", download_mode=\"reuse_cache_if_exists\", cache_dir=\"dataset\")"
   ]
  },
  {
   "cell_type": "code",
   "execution_count": 3,
   "metadata": {},
   "outputs": [
    {
     "name": "stdout",
     "output_type": "stream",
     "text": [
      "Dataset: DatasetDict({\n",
      "    train: Dataset({\n",
      "        features: ['Unnamed: 0', 'title', 'text', 'label'],\n",
      "        num_rows: 24353\n",
      "    })\n",
      "    validation: Dataset({\n",
      "        features: ['Unnamed: 0', 'title', 'text', 'label'],\n",
      "        num_rows: 8117\n",
      "    })\n",
      "    test: Dataset({\n",
      "        features: ['Unnamed: 0', 'title', 'text', 'label'],\n",
      "        num_rows: 8117\n",
      "    })\n",
      "})\n"
     ]
    }
   ],
   "source": [
    "# data\n",
    "print(f\"Dataset: {dataset}\")\n",
    "train_dataset = dataset[\"train\"]\n",
    "val_dataset = dataset[\"validation\"]\n",
    "test_dataset = dataset[\"test\"]"
   ]
  },
  {
   "cell_type": "code",
   "execution_count": 4,
   "metadata": {},
   "outputs": [
    {
     "name": "stdout",
     "output_type": "stream",
     "text": [
      "First training sample\n",
      "Keys: dict_keys(['Unnamed: 0', 'title', 'text', 'label'])\n",
      "Title:  ‘Maury’ Show Official Facebook Posts F*CKED UP Caption On Guest That Looks Like Ted Cruz (IMAGE)\n",
      "Text: Maury is perhaps one of the trashiest shows on television today. It s right in line with the likes of the gutter trash that is Jerry Springer, and the fact that those shows are still on the air with the shit they air really is a sad testament to what Americans find to be entertaining. However, Maury really crossed the line with a Facebook post regarding one of their guest s appearance with a vile, disgusting caption on Tuesday evening.There was a young woman on there doing one of their episodes regarding the paternity of her child. However, on the page, the show posted an image of the woman, who happens to bear a striking resemblance to Senator and presidential candidate Ted Cruz. The caption from the Maury Show page read: The Lie Detector Test determined .that was a LIE!  Ted Cruz is just NOT that SEXY! As if that weren t horrible enough, the caption underneath the Imgur upload reads,  Ted Cruz in drag on Maury. Here is an image from the official Maury Facebook page:Here is the embed of the post itself:This is beyond despicable. It s bad enough that this show preys on desperate people to keep their trashy show going and their audience of bottom-feeders entertained, but now they publicly mock them as well? This young woman cannot help how she looks or who she resembles. That is not her fault. Shaming someone s looks on social media is something we d expect from the morons who watch this crap on a daily basis, but it is NOT something the official show page should be doing. Then again, what can you expect from a show that rolls in the mud for a living and continues to show the world that there is now low they will not stoop to? This was more than a step too far, though.Maury, you owe this young woman a public apology. A VERY public apology. There s just no excuse for this, no matter the demographics of your audience or what you do on that disgusting show of yours. I suppose it will be too much to ask that you lose viewers over this, because the people who watch your trashy ass show likely aren t educated enough to understand why this is so wrong in the first place. I don t watch, so I can t deprive you of my viewership, but I CAN call you out.Shame on you, Maury Show and everyone associated with this despicable Facebook post. You really showed your true colors here today.Featured image via Facebook \n",
      "Label: 0\n"
     ]
    }
   ],
   "source": [
    "# quick look at the data\n",
    "first_train = train_dataset[0]\n",
    "print(f\"First training sample\")\n",
    "print(f\"Keys: {first_train.keys()}\")\n",
    "print(f\"Title: {first_train['title']}\")\n",
    "print(f\"Text: {first_train['text']}\")\n",
    "print(f\"Label: {first_train['label']}\")"
   ]
  },
  {
   "cell_type": "code",
   "execution_count": 5,
   "metadata": {},
   "outputs": [
    {
     "name": "stdout",
     "output_type": "stream",
     "text": [
      "Text: JOE DIGENOVA has been around D.C for decades and has seen it all. He probably didn t see his one coming. The incoming president  was set-up to be taken down. A soft coup is in the works and DiGenova has this to say about it:\"It's very clear that they conspired to frame the incoming President of the United States.\"  Joe diGenova on allegations of anti-Trump bias at FBI and TheJusticeDept #Tucker https://t.co/qUNjAenzJc pic.twitter.com/VDlhb45Ghi  G. Ashley Hawkins (@g_ashleyhawkins) December 16, 2017DiGenova on Tucker Carlson tonight: Inside the FBI and Department of Justice under Obama was a brazen plot to do two things. To exonerate Hillary Clinton because of an animous for Donald Trump, and then if she lost to frame the incoming president for either a criminal act or impeachment. This is one of the most disgusting performances by the senior officials at the FBI and the Department of Justice that everyone of these agents should be fired and the people who are still in the Justice Department be fired including Mr. Ohr and they impanel a federal grand jury to investigate the conduct of McCabe and Strzok and Page and Comey and Ohr and everybody in the Obama Justice Department that even touched this. It s very clear that they conspired to frame the incoming president of the United States.DIGENOVA S WIFE VICTORIA TOENSING IS REPRESENTING A FORMER FBI INFORMANT WHO HAS THE GOODS ON THE URANIUM ONE DEAL: DC lawyer Victoria Toensing is one smart cookie. She s representing a former FBI informant who has evidence on kickbacks and bribery involving the transportation of uranium in the US. She recently told Sean Hannity her client will brief Congress about Russian involvement in the U.S. uranium market. This includes widespread bribery and actions that involved the Clintons https://www.youtube.com/watch?v=eDVndQRW22Q I m not going into detail,  attorney Victoria Toensing said on the Oct. 24 Hannity.  You know that, Sean. But the informant will give an overview and specific conversations that he had with Russians in what they were thinking about the money that they were spending. I mean, let me just be that general and it involves the Clintons. The director of the FBI at that time was Robert Mueller, and he is now the special counsel investigating alleged Russian collusion with the 2016 Trump campaign. The undercover investigation involving Toensing s client occurred between 2009 and 2014, and the senior attorney on the case was Rod Rosenstein, who is now the deputy attorney general of the United States and the official who appointed Mueller as special counsel.Further, all this information indicates that many senior Obama administration officials knew about instances of bribery and money laundering involving at least one Russian official, at a time when Russia wanted to expand its uranium market in the United States, and when the administration through a special committee had to approve or deny the sale of a company, Vancouver-based Uranium One, to Rosatom. (Rosatom is the Russian State Atomic Energy Corporation.)Some of the people on that Committee on Foreign Investment in the United States included then-Secretary of State Hillary Clinton, Attorney General Eric Holder, Homeland Security Secretary Janet Napalitano, and Treasury Secretary Timothy Geithner.The committee approved the sale of Uranium One to Rosatom in October 2010. That sale gave Russia, and President Vladimir Putin, control over 20% of U.S. uranium production. (At least nine investors in Uranium One   prior to, during, and after that sale   donated $145 million to the Clinton Foundation.) So, Mueller, [Rod] Rosenstein, maybe even [James] Comey at the time, and the president of the United States   certainly Eric Holder was the head of the DOJ   they all knew that they had all this evidence that the Russians had infiltrated with the purpose of a criminal enterprise to corner the market on uranium, the foundational material of nuclear weapons?  asked Hannity.Toensing said,  That is correct. Via: cns news\n"
     ]
    }
   ],
   "source": [
    "text = test_dataset[0][\"text\"]\n",
    "print(f\"Text: {text}\")"
   ]
  },
  {
   "cell_type": "markdown",
   "metadata": {},
   "source": [
    "# Directly Text Classification (Pipeline)"
   ]
  },
  {
   "cell_type": "code",
   "execution_count": 6,
   "metadata": {},
   "outputs": [],
   "source": [
    "model_name = 'distilbert-base-uncased'\n",
    "# ['bert-base-uncased', 'distilbert-base-uncased', 'roberta-base']"
   ]
  },
  {
   "cell_type": "code",
   "execution_count": 9,
   "metadata": {},
   "outputs": [],
   "source": [
    "# Use a pipeline as a high-level helper\n",
    "from transformers import pipeline\n",
    "\n",
    "# get the model from huggingface model hub\n",
    "pipe = pipeline(\"text-classification\", model=f\"LittleFish-Coder/{model_name}-fake-news-tfg\", truncation=True, device=device)"
   ]
  },
  {
   "cell_type": "code",
   "execution_count": 10,
   "metadata": {},
   "outputs": [
    {
     "data": {
      "text/plain": [
       "[{'label': 'fake', 'score': 0.9999011754989624}]"
      ]
     },
     "execution_count": 10,
     "metadata": {},
     "output_type": "execute_result"
    }
   ],
   "source": [
    "pipe(text)"
   ]
  },
  {
   "cell_type": "markdown",
   "metadata": {},
   "source": [
    "# Tokenizer and Pretrained-Model"
   ]
  },
  {
   "cell_type": "code",
   "execution_count": 11,
   "metadata": {},
   "outputs": [],
   "source": [
    "# Load model directly\n",
    "from transformers import AutoTokenizer, AutoModelForSequenceClassification\n",
    "\n",
    "tokenizer = AutoTokenizer.from_pretrained(f\"LittleFish-Coder/{model_name}-fake-news-tfg\")\n",
    "model = AutoModelForSequenceClassification.from_pretrained(f\"LittleFish-Coder/{model_name}-fake-news-tfg\")"
   ]
  },
  {
   "cell_type": "markdown",
   "metadata": {},
   "source": [
    "## Predict via tokenizer & model"
   ]
  },
  {
   "cell_type": "markdown",
   "metadata": {},
   "source": [
    "### Tokenize the text and get the class"
   ]
  },
  {
   "cell_type": "code",
   "execution_count": 12,
   "metadata": {},
   "outputs": [],
   "source": [
    "inputs = tokenizer(text, return_tensors=\"pt\", truncation=True)"
   ]
  },
  {
   "cell_type": "code",
   "execution_count": 14,
   "metadata": {},
   "outputs": [
    {
     "name": "stdout",
     "output_type": "stream",
     "text": [
      "Input: {'input_ids': tensor([[  101,  3533, 10667, 16515,  3567,  2038,  2042,  2105,  1040,  1012,\n",
      "          1039,  2005,  5109,  1998,  2038,  2464,  2009,  2035,  1012,  2002,\n",
      "          2763,  2134,  1056,  2156,  2010,  2028,  2746,  1012,  1996, 14932,\n",
      "          2343,  2001,  2275,  1011,  2039,  2000,  2022,  2579,  2091,  1012,\n",
      "          1037,  3730,  8648,  2003,  1999,  1996,  2573,  1998, 10667, 16515,\n",
      "          3567,  2038,  2023,  2000,  2360,  2055,  2009,  1024,  1000,  2009,\n",
      "          1005,  1055,  2200,  3154,  2008,  2027,  9530, 13102, 27559,  2000,\n",
      "          4853,  1996, 14932,  2343,  1997,  1996,  2142,  2163,  1012,  1000,\n",
      "          3533, 10667, 16515,  3567,  2006,  9989,  1997,  3424,  1011,  8398,\n",
      "         13827,  2012,  8495,  1998,  1996, 29427,  6610,  3207, 13876,  1001,\n",
      "          9802, 16770,  1024,  1013,  1013,  1056,  1012,  2522,  1013, 24209,\n",
      "          2078,  3900,  2368,  2480,  3501,  2278, 27263,  1012, 10474,  1012,\n",
      "          4012,  1013,  1058, 19422,  2232,  2497, 19961, 28891,  1043,  1012,\n",
      "          9321, 13835,  1006,  1030,  1043,  1035,  9321, 17998,  7076,  1007,\n",
      "          2285,  2385,  1010,  2418,  4305,  6914,  7103,  2006,  9802, 22226,\n",
      "          3892,  1024,  2503,  1996,  8495,  1998,  2533,  1997,  3425,  2104,\n",
      "          8112,  2001,  1037, 11655, 10431,  5436,  2000,  2079,  2048,  2477,\n",
      "          1012,  2000,  4654,  5643, 11657, 18520,  7207,  2138,  1997,  2019,\n",
      "          2019, 16339,  2271,  2005,  6221,  8398,  1010,  1998,  2059,  2065,\n",
      "          2016,  2439,  2000,  4853,  1996, 14932,  2343,  2005,  2593,  1037,\n",
      "          4735,  2552,  2030, 17727,  5243, 22729,  1012,  2023,  2003,  2028,\n",
      "          1997,  1996,  2087, 19424,  4616,  2011,  1996,  3026,  4584,  2012,\n",
      "          1996,  8495,  1998,  1996,  2533,  1997,  3425,  2008,  3071,  1997,\n",
      "          2122,  6074,  2323,  2022,  5045,  1998,  1996,  2111,  2040,  2024,\n",
      "          2145,  1999,  1996,  3425,  2533,  2022,  5045,  2164,  2720,  1012,\n",
      "          2821,  2099,  1998,  2027, 17727,  7231,  2140,  1037,  2976,  2882,\n",
      "          6467,  2000,  8556,  1996,  6204,  1997, 23680, 16336,  1998,  2358,\n",
      "         15378,  6559,  1998,  3931,  1998,  2272,  2100,  1998,  2821,  2099,\n",
      "          1998,  7955,  1999,  1996,  8112,  3425,  2533,  2008,  2130,  5028,\n",
      "          2023,  1012,  2009,  1055,  2200,  3154,  2008,  2027,  9530, 13102,\n",
      "         27559,  2000,  4853,  1996, 14932,  2343,  1997,  1996,  2142,  2163,\n",
      "          1012, 10667, 16515,  3567,  1055,  2564,  3848, 11756,  3619,  2075,\n",
      "          2003,  5052,  1037,  2280,  8495, 28694,  2040,  2038,  1996,  5350,\n",
      "          2006,  1996, 14247,  2028,  3066,  1024,  5887,  5160,  3848, 11756,\n",
      "          3619,  2075,  2003,  2028,  6047, 17387,  1012,  2016,  1055,  5052,\n",
      "          1037,  2280,  8495, 28694,  2040,  2038,  3350,  2006,  5926, 12221,\n",
      "          1998, 27748,  5994,  1996,  5193,  1997, 14247,  1999,  1996,  2149,\n",
      "          1012,  2016,  3728,  2409,  5977,  7658, 22758,  2014,  7396,  2097,\n",
      "          4766,  3519,  2055,  2845,  6624,  1999,  1996,  1057,  1012,  1055,\n",
      "          1012, 14247,  3006,  1012,  2023,  2950,  6923, 27748,  1998,  4506,\n",
      "          2008,  2920,  1996,  7207,  2015, 16770,  1024,  1013,  1013,  7479,\n",
      "          1012,  7858,  1012,  4012,  1013,  3422,  1029,  1058,  1027,  3968,\n",
      "         16022,  2094,  4160,  2099,  2860, 19317,  4160,  1045,  1049,  2025,\n",
      "          2183,  2046,  6987,  1010,  4905,  3848, 11756,  3619,  2075,  2056,\n",
      "          2006,  1996, 13323,  1012,  2484,  7658, 22758,  1012,  2017,  2113,\n",
      "          2008,  1010,  5977,  1012,  2021,  1996, 28694,  2097,  2507,  2019,\n",
      "         19184,  1998,  3563, 11450,  2008,  2002,  2018,  2007, 12513,  1999,\n",
      "          2054,  2027,  2020,  3241,  2055,  1996,  2769,  2008,  2027,  2020,\n",
      "          5938,  1012,  1045,  2812,  1010,  2292,  2033,  2074,  2022,  2008,\n",
      "          2236,  1998,  2009,  7336,  1996,  7207,  2015,  1012,  1996,  2472,\n",
      "          1997,  1996,  8495,  2012,  2008,  2051,  2001,  2728, 26774,  1010,\n",
      "          1998,   102]]), 'attention_mask': tensor([[1, 1, 1, 1, 1, 1, 1, 1, 1, 1, 1, 1, 1, 1, 1, 1, 1, 1, 1, 1, 1, 1, 1, 1,\n",
      "         1, 1, 1, 1, 1, 1, 1, 1, 1, 1, 1, 1, 1, 1, 1, 1, 1, 1, 1, 1, 1, 1, 1, 1,\n",
      "         1, 1, 1, 1, 1, 1, 1, 1, 1, 1, 1, 1, 1, 1, 1, 1, 1, 1, 1, 1, 1, 1, 1, 1,\n",
      "         1, 1, 1, 1, 1, 1, 1, 1, 1, 1, 1, 1, 1, 1, 1, 1, 1, 1, 1, 1, 1, 1, 1, 1,\n",
      "         1, 1, 1, 1, 1, 1, 1, 1, 1, 1, 1, 1, 1, 1, 1, 1, 1, 1, 1, 1, 1, 1, 1, 1,\n",
      "         1, 1, 1, 1, 1, 1, 1, 1, 1, 1, 1, 1, 1, 1, 1, 1, 1, 1, 1, 1, 1, 1, 1, 1,\n",
      "         1, 1, 1, 1, 1, 1, 1, 1, 1, 1, 1, 1, 1, 1, 1, 1, 1, 1, 1, 1, 1, 1, 1, 1,\n",
      "         1, 1, 1, 1, 1, 1, 1, 1, 1, 1, 1, 1, 1, 1, 1, 1, 1, 1, 1, 1, 1, 1, 1, 1,\n",
      "         1, 1, 1, 1, 1, 1, 1, 1, 1, 1, 1, 1, 1, 1, 1, 1, 1, 1, 1, 1, 1, 1, 1, 1,\n",
      "         1, 1, 1, 1, 1, 1, 1, 1, 1, 1, 1, 1, 1, 1, 1, 1, 1, 1, 1, 1, 1, 1, 1, 1,\n",
      "         1, 1, 1, 1, 1, 1, 1, 1, 1, 1, 1, 1, 1, 1, 1, 1, 1, 1, 1, 1, 1, 1, 1, 1,\n",
      "         1, 1, 1, 1, 1, 1, 1, 1, 1, 1, 1, 1, 1, 1, 1, 1, 1, 1, 1, 1, 1, 1, 1, 1,\n",
      "         1, 1, 1, 1, 1, 1, 1, 1, 1, 1, 1, 1, 1, 1, 1, 1, 1, 1, 1, 1, 1, 1, 1, 1,\n",
      "         1, 1, 1, 1, 1, 1, 1, 1, 1, 1, 1, 1, 1, 1, 1, 1, 1, 1, 1, 1, 1, 1, 1, 1,\n",
      "         1, 1, 1, 1, 1, 1, 1, 1, 1, 1, 1, 1, 1, 1, 1, 1, 1, 1, 1, 1, 1, 1, 1, 1,\n",
      "         1, 1, 1, 1, 1, 1, 1, 1, 1, 1, 1, 1, 1, 1, 1, 1, 1, 1, 1, 1, 1, 1, 1, 1,\n",
      "         1, 1, 1, 1, 1, 1, 1, 1, 1, 1, 1, 1, 1, 1, 1, 1, 1, 1, 1, 1, 1, 1, 1, 1,\n",
      "         1, 1, 1, 1, 1, 1, 1, 1, 1, 1, 1, 1, 1, 1, 1, 1, 1, 1, 1, 1, 1, 1, 1, 1,\n",
      "         1, 1, 1, 1, 1, 1, 1, 1, 1, 1, 1, 1, 1, 1, 1, 1, 1, 1, 1, 1, 1, 1, 1, 1,\n",
      "         1, 1, 1, 1, 1, 1, 1, 1, 1, 1, 1, 1, 1, 1, 1, 1, 1, 1, 1, 1, 1, 1, 1, 1,\n",
      "         1, 1, 1, 1, 1, 1, 1, 1, 1, 1, 1, 1, 1, 1, 1, 1, 1, 1, 1, 1, 1, 1, 1, 1,\n",
      "         1, 1, 1, 1, 1, 1, 1, 1]])}\n"
     ]
    }
   ],
   "source": [
    "print(f\"Input: {inputs}\")"
   ]
  },
  {
   "cell_type": "code",
   "execution_count": 18,
   "metadata": {},
   "outputs": [
    {
     "name": "stdout",
     "output_type": "stream",
     "text": [
      "Output: SequenceClassifierOutput(loss=None, logits=tensor([[ 4.6103, -4.6113]]), hidden_states=None, attentions=None)\n",
      "Logits: tensor([[ 4.6103, -4.6113]])\n",
      "Prediction: fake\n"
     ]
    }
   ],
   "source": [
    "with torch.no_grad():\n",
    "    outputs = model(**inputs)\n",
    "    logits = outputs.logits\n",
    "\n",
    "predicted_class_id = logits.argmax().item()\n",
    "prediction = model.config.id2label[predicted_class_id]\n",
    "print(f\"Output: {outputs}\")\n",
    "print(f\"Logits: {logits}\")\n",
    "print(f\"Prediction: {prediction}\")"
   ]
  },
  {
   "cell_type": "markdown",
   "metadata": {},
   "source": [
    "### Get the embedding of the text"
   ]
  },
  {
   "cell_type": "code",
   "execution_count": 19,
   "metadata": {},
   "outputs": [],
   "source": [
    "model.config.output_hidden_states = True\n",
    "\n",
    "# Get model output with hidden states\n",
    "with torch.no_grad():  # Disable gradient calculation for inference\n",
    "    outputs = model(**inputs)\n",
    "\n",
    "# Now, outputs will have the hidden states\n",
    "hidden_states = outputs.hidden_states\n",
    "\n",
    "# The last layer's hidden state can be accessed like this\n",
    "last_hidden_state = hidden_states[-1]\n",
    "\n",
    "# If you still want to extract embeddings similar to the previous approach\n",
    "embeddings = last_hidden_state.mean(dim=1)"
   ]
  },
  {
   "cell_type": "code",
   "execution_count": 23,
   "metadata": {},
   "outputs": [
    {
     "name": "stdout",
     "output_type": "stream",
     "text": [
      "hidden states type: <class 'tuple'>\n",
      "hidden states Length: 7\n",
      "hidden states: (tensor([[[ 0.3543, -0.1496, -0.2336,  ...,  0.1597,  0.0914,  0.1433],\n",
      "         [-1.0742,  0.2854, -1.6506,  ...,  0.4961,  0.9174, -0.3135],\n",
      "         [-0.7164,  0.1168,  0.3597,  ...,  0.6972, -0.0320,  0.7682],\n",
      "         ...,\n",
      "         [ 0.4378, -0.0189,  0.0179,  ...,  0.1552,  0.2591, -0.2083],\n",
      "         [ 0.1024,  0.0415,  0.4841,  ...,  0.2031,  0.3825, -0.3255],\n",
      "         [-0.2721, -0.4431, -0.0198,  ..., -0.1932,  0.5117, -1.5857]]]), tensor([[[-0.2305,  0.1327, -0.2107,  ...,  0.2218,  0.0292,  0.0870],\n",
      "         [-0.6776,  0.1769, -1.3328,  ...,  0.0223,  0.7583, -0.4918],\n",
      "         [-0.5049, -0.0610,  0.2447,  ...,  0.6225,  1.6254,  1.4309],\n",
      "         ...,\n",
      "         [ 0.2436,  0.1279, -0.1877,  ..., -0.0023,  0.8627, -0.0630],\n",
      "         [-0.1404,  0.0988,  0.5467,  ...,  0.0445,  0.2219,  0.1201],\n",
      "         [-0.5331, -0.2343, -0.1652,  ..., -0.1417, -0.0838, -0.5035]]]), tensor([[[-0.3181, -0.1545, -0.4090,  ...,  0.0571,  0.4403,  0.3666],\n",
      "         [-0.3427,  0.5788, -0.6900,  ...,  0.0332,  0.5505, -0.4317],\n",
      "         [-0.2504, -0.2018,  0.4193,  ...,  0.4725,  1.7383,  1.8603],\n",
      "         ...,\n",
      "         [ 0.5373,  0.5410, -0.2944,  ..., -0.0278,  0.4660, -0.0793],\n",
      "         [-0.2228,  0.0530, -0.1661,  ...,  0.1013, -0.0322,  0.1193],\n",
      "         [-0.0694, -0.0548,  0.0344,  ..., -0.0044,  0.0041, -0.0340]]]), tensor([[[-0.6562, -0.7633, -0.3881,  ...,  0.1406,  0.3532,  0.3174],\n",
      "         [-0.5585,  0.9115, -0.3193,  ..., -0.3787, -0.0755, -0.4881],\n",
      "         [-0.2575, -0.5331,  0.7065,  ..., -0.4622,  0.7576,  1.3238],\n",
      "         ...,\n",
      "         [ 0.6178,  0.5021, -0.7062,  ...,  0.7658,  0.1327,  0.2264],\n",
      "         [-0.1826, -0.1119, -0.4388,  ...,  0.6190,  0.0056,  0.4603],\n",
      "         [-0.0210, -0.0360,  0.0151,  ..., -0.0113, -0.0376, -0.0143]]]), tensor([[[-0.6350, -0.8376, -0.8723,  ..., -0.6569, -0.1662, -0.0687],\n",
      "         [-0.6780,  0.8794,  0.0263,  ...,  0.1453,  0.1371, -0.5261],\n",
      "         [-0.1920, -0.4650,  0.9577,  ..., -0.1294,  0.5333,  1.0881],\n",
      "         ...,\n",
      "         [-0.0034,  0.2621, -0.1650,  ..., -0.2728, -0.2154,  0.6726],\n",
      "         [-0.8208, -0.6873, -0.2488,  ...,  0.1996,  0.2460,  0.5292],\n",
      "         [-0.0160, -0.0197,  0.0560,  ..., -0.0365, -0.0825, -0.0136]]]), tensor([[[-1.2993, -0.9994, -0.6854,  ...,  0.4144,  0.4443,  0.5053],\n",
      "         [-1.1338,  0.2840, -0.3465,  ...,  0.1751,  0.1780, -0.4093],\n",
      "         [-0.9542, -0.9604,  0.9263,  ..., -0.0251, -0.1635,  1.0758],\n",
      "         ...,\n",
      "         [-0.8301, -0.3324,  0.4150,  ..., -0.1710,  0.2056,  0.5233],\n",
      "         [-1.2123, -1.4406, -0.3949,  ...,  0.5994, -0.0024,  0.9213],\n",
      "         [-0.5751, -0.4331, -0.0292,  ...,  0.4714,  0.0671,  0.4135]]]), tensor([[[ 0.1969, -0.4562, -0.7499,  ...,  0.6036,  0.2989, -0.2620],\n",
      "         [ 0.0748, -0.1579, -0.8113,  ..., -0.1256,  0.4523, -0.4735],\n",
      "         [-0.3517, -0.5193,  0.0441,  ..., -0.0964,  0.1647,  0.6966],\n",
      "         ...,\n",
      "         [ 0.2468,  0.1859, -0.3148,  ...,  0.2002,  0.5649, -0.0689],\n",
      "         [ 0.0435, -0.3555, -0.5899,  ...,  0.5562,  0.5851,  0.1449],\n",
      "         [ 0.4628, -0.2911, -0.6976,  ...,  0.6346,  0.4035, -0.3816]]]))\n"
     ]
    }
   ],
   "source": [
    "print(f\"hidden states type: {type(hidden_states)}\")\n",
    "print(f\"hidden states Length: {len(hidden_states)}\")\n",
    "print(f\"hidden states: {hidden_states}\")"
   ]
  },
  {
   "cell_type": "code",
   "execution_count": 24,
   "metadata": {},
   "outputs": [
    {
     "name": "stdout",
     "output_type": "stream",
     "text": [
      "last hidden state type: <class 'torch.Tensor'>\n",
      "last hidden state shape: torch.Size([1, 512, 768])\n",
      "last hidden state: tensor([[[ 0.1969, -0.4562, -0.7499,  ...,  0.6036,  0.2989, -0.2620],\n",
      "         [ 0.0748, -0.1579, -0.8113,  ..., -0.1256,  0.4523, -0.4735],\n",
      "         [-0.3517, -0.5193,  0.0441,  ..., -0.0964,  0.1647,  0.6966],\n",
      "         ...,\n",
      "         [ 0.2468,  0.1859, -0.3148,  ...,  0.2002,  0.5649, -0.0689],\n",
      "         [ 0.0435, -0.3555, -0.5899,  ...,  0.5562,  0.5851,  0.1449],\n",
      "         [ 0.4628, -0.2911, -0.6976,  ...,  0.6346,  0.4035, -0.3816]]])\n"
     ]
    }
   ],
   "source": [
    "print(f\"last hidden state type: {type(last_hidden_state)}\")\n",
    "print(f\"last hidden state shape: {last_hidden_state.shape}\")\n",
    "print(f\"last hidden state: {last_hidden_state}\")"
   ]
  },
  {
   "cell_type": "code",
   "execution_count": 25,
   "metadata": {},
   "outputs": [
    {
     "name": "stdout",
     "output_type": "stream",
     "text": [
      "Embeddings shape: torch.Size([1, 768])\n",
      "Embeddings: tensor([[ 1.2506e-01, -2.1919e-01, -2.2023e-01,  3.3304e-01,  7.4512e-01,\n",
      "          2.3137e-01,  3.9668e-01,  5.3508e-01, -1.9261e-01, -1.1161e-01,\n",
      "          1.3692e-01, -1.2280e-02, -3.0342e-01, -6.8824e-02, -5.1451e-01,\n",
      "         -3.3084e-02,  1.6914e-01,  3.7226e-01, -4.6562e-01,  5.5116e-01,\n",
      "          4.2993e-01,  2.3005e-01, -3.7719e-02,  1.1942e-01,  2.2736e-01,\n",
      "          3.0696e-01, -2.1824e-01, -7.5034e-01,  9.4149e-02,  3.3059e-01,\n",
      "         -8.5560e-02, -5.0753e-01,  5.1240e-01, -6.2063e-01, -4.4819e-01,\n",
      "         -4.0813e-02, -1.7134e-01,  3.6643e-01,  5.5913e-01,  3.3241e-01,\n",
      "         -2.9266e-01,  2.7584e-01, -1.5998e-01,  3.1492e-01, -5.1416e-01,\n",
      "         -4.2035e-01,  4.3773e-02, -2.4468e-01, -5.0865e-01, -2.3225e-01,\n",
      "         -2.7917e-01,  4.5818e-01, -4.2036e-01,  3.4395e-01,  2.4133e-01,\n",
      "          4.9281e-01,  6.1817e-02, -8.0673e-01, -6.3471e-01, -5.5167e-01,\n",
      "          3.1047e-01,  3.8040e-01, -1.6843e-01, -4.4576e-01,  3.5331e-01,\n",
      "         -1.1309e-01,  3.2045e-01,  3.4133e-01, -6.6312e-02, -5.7028e-01,\n",
      "          1.3229e-01,  3.4858e-01,  1.8193e-01,  1.6610e-01,  2.9034e-01,\n",
      "          3.1615e-01,  6.2144e-01, -9.2324e-02,  1.9132e-01,  3.4206e-01,\n",
      "         -5.2840e-01,  4.2381e-01,  1.6376e-02,  7.7713e-01,  6.2239e-01,\n",
      "         -5.2536e-01,  2.2286e-01,  2.6569e-01, -3.6542e-01, -1.5353e-01,\n",
      "         -4.3706e-01,  1.3472e-01,  4.2871e-01, -2.9649e-01,  3.1681e-01,\n",
      "         -3.3662e-01,  8.4796e-02,  5.1481e-01, -2.3867e-01,  4.5038e-02,\n",
      "         -1.2566e-01, -4.9323e-01, -6.5643e-01,  4.8524e-01, -3.9523e-01,\n",
      "          9.0028e-02,  1.7913e-01,  4.0071e-01, -8.9813e-01,  1.9752e-01,\n",
      "          2.7166e-01,  5.7374e-02,  1.3311e-01, -5.5387e-01,  2.2459e-02,\n",
      "          2.0543e-01, -7.0395e-02,  2.9756e-01, -2.1468e-01, -3.1953e-01,\n",
      "         -3.4648e-01, -1.2279e-01,  5.4791e-01, -4.0605e-01, -2.1329e-01,\n",
      "         -3.2374e-01,  2.4015e-02,  2.0185e-01,  7.2920e-02,  1.0381e-01,\n",
      "          1.8686e-01,  4.7055e-01, -1.0777e-01,  2.9433e-01,  3.0419e-01,\n",
      "          1.7800e-01, -2.8712e-01, -6.2928e-02,  1.7164e-01, -3.0948e-01,\n",
      "         -3.0200e-01,  3.2487e-01,  7.0526e-02,  9.2044e-02, -2.7912e-01,\n",
      "         -1.6961e-01, -1.2471e-01,  7.2515e-02,  1.4690e-01,  2.3753e-01,\n",
      "          4.4432e-01, -2.6356e-02,  2.9695e-01, -4.2130e-01, -2.0006e-01,\n",
      "          5.1275e-01, -2.3568e-01, -8.1984e-01, -2.7859e-02, -2.7453e-01,\n",
      "          4.2024e-01,  3.6261e-01, -4.3555e-01, -2.6362e-02, -1.2276e-01,\n",
      "         -1.7060e-01,  2.4177e-01,  1.2286e-01,  2.0801e-01,  1.3440e-01,\n",
      "         -2.2147e-02, -1.8811e-02,  2.6112e-01, -4.6752e-04,  3.6041e-01,\n",
      "          3.1678e-01,  7.6184e-01, -2.4658e-01, -6.0738e-02,  2.2144e-01,\n",
      "         -1.4515e+00,  5.6554e-02, -3.1591e-01,  2.7280e-01, -1.6914e-01,\n",
      "         -3.7592e-01,  5.5327e-01, -1.0747e-01,  3.1880e-01, -1.1042e-01,\n",
      "         -9.4594e-02,  2.1037e-01, -5.2781e-01, -3.5341e-01,  3.9938e-01,\n",
      "          3.0906e-01, -2.5763e-01, -3.3530e-01, -4.8390e-01, -3.8115e-01,\n",
      "          1.3831e-01, -2.5125e-01,  1.6668e-01,  1.8591e-01,  9.2486e-02,\n",
      "         -7.3376e-01, -1.6218e-01, -7.1692e-01, -2.6788e-01,  1.2219e-01,\n",
      "         -5.0072e-01,  1.6850e-01, -4.3199e-01, -2.6820e-01, -6.3401e-01,\n",
      "          3.3274e-02, -1.9643e-01,  3.8034e-01,  6.1666e-01, -4.9065e-01,\n",
      "         -2.1081e-01, -2.6526e-01, -1.5326e-01, -2.6922e-01, -6.5326e-01,\n",
      "          1.2071e+00, -2.5317e-01, -3.1601e-01,  7.0146e-01,  4.3819e-01,\n",
      "          8.1392e-02,  4.4004e-01,  3.1561e-01, -3.5114e-01,  1.9928e-01,\n",
      "         -2.2152e-01,  5.2936e-01, -4.5116e-01,  2.7547e-01, -2.6257e-01,\n",
      "         -1.9145e-02,  7.2915e-01, -1.8594e-03,  9.5042e-02, -4.3293e-01,\n",
      "         -1.4846e-01, -1.4543e-01, -4.0987e-01,  1.1350e-01, -3.2750e-01,\n",
      "          2.2124e-01,  6.2799e-01, -4.2104e-01, -6.9038e-01,  1.9088e-01,\n",
      "         -1.6687e-01, -6.8106e-01,  2.6348e-02, -1.6710e-01, -1.4548e-01,\n",
      "          1.4742e-01, -9.0300e-02, -7.0034e-01,  4.2019e-01, -4.1774e-02,\n",
      "          1.1223e-03,  4.4092e-01, -1.5357e-01,  2.1443e-01,  5.0115e-01,\n",
      "         -1.6187e-01,  5.7450e-01, -2.0831e-01,  1.3517e-01,  1.5057e-01,\n",
      "         -4.4004e-01,  1.6033e-01,  1.3288e-01,  2.8283e-01, -5.2332e-01,\n",
      "         -2.8676e-01,  8.5788e-01, -2.9042e-01, -2.1880e-01, -5.0567e-01,\n",
      "         -3.0126e-01, -1.2091e-01,  4.7490e-01,  3.0571e-01,  3.6264e-01,\n",
      "         -1.7386e-01,  1.0412e-01, -6.2215e-01, -2.6352e-01,  4.1178e-01,\n",
      "          4.6215e-01,  1.2038e-01,  2.5201e-01,  4.0200e-01,  3.1519e-03,\n",
      "         -2.1372e-01, -1.6293e-01, -4.1733e-02, -1.9383e-01,  6.9607e-01,\n",
      "          2.6458e-01,  8.5146e-02, -7.6686e-01, -2.9905e+00,  3.3063e-01,\n",
      "          2.1943e-01,  4.5751e-01,  4.7654e-01, -2.7237e-01, -3.4804e-01,\n",
      "         -2.0822e-01,  1.7432e-01,  6.8258e-01, -3.0968e-01,  2.1635e-01,\n",
      "          2.6494e-01,  4.3226e-01,  2.5254e-02, -7.9659e-01, -2.2579e-01,\n",
      "         -4.5094e-01,  2.1318e-01, -6.3929e-02,  6.4311e-02, -4.1558e-01,\n",
      "          8.1218e-02,  3.0761e-01,  5.2573e-02,  7.5782e-01, -7.6693e-02,\n",
      "         -7.3921e-01, -2.1270e-01, -2.5767e-01, -4.7852e-02, -1.6214e-01,\n",
      "          8.3098e-02,  5.2510e-01, -9.9958e-02,  1.8933e-02, -3.8364e-01,\n",
      "         -5.3803e-01, -8.5279e-01, -7.4776e-02, -1.3725e-01, -5.9265e-01,\n",
      "         -2.7389e-01, -2.3213e-01, -9.3556e-02,  1.2557e-01, -2.7521e-01,\n",
      "         -6.0777e-01,  4.8115e-01, -1.6484e-01, -1.2041e-01,  1.9157e-01,\n",
      "         -2.6649e-01, -4.3225e-02,  2.2569e-01,  7.9003e-02,  2.2567e-01,\n",
      "          5.1909e-01,  3.7024e-02,  1.9676e-01,  1.4144e-01,  1.3511e-01,\n",
      "         -6.3515e-01, -5.4135e-02, -3.0334e-01, -2.7878e-01,  1.6238e-01,\n",
      "         -1.9206e-01,  4.5395e-02, -3.5479e-02, -3.0595e-01,  1.0839e-01,\n",
      "         -4.3900e-01, -4.9896e-02,  4.1582e-01,  2.0061e-01, -3.3016e-02,\n",
      "         -4.0565e-01, -1.1750e-01,  1.3501e-01,  2.0648e-01,  7.4055e-02,\n",
      "          4.3703e-02,  2.6578e-01, -6.5224e-02, -4.9211e-01,  1.0201e-01,\n",
      "          3.7878e-01, -5.0467e-01,  4.1701e-01,  5.1317e-01, -7.9984e-03,\n",
      "         -3.2188e-02, -1.1658e-01,  5.6143e-01,  4.5172e-01, -1.0603e-01,\n",
      "          6.3635e-01,  2.2141e-01, -1.0084e-01, -1.4588e-01, -1.1056e-01,\n",
      "          3.8806e-01, -4.7446e-02, -2.8065e-01, -1.3966e-01, -1.2760e-01,\n",
      "         -2.4409e-01,  3.6536e-01, -4.1852e-01,  3.2470e-01, -5.3242e-01,\n",
      "         -7.2218e-02, -5.9908e-02, -1.6323e-01, -3.8138e-01,  4.0685e-02,\n",
      "          6.4384e-01,  2.8547e-01,  1.0517e-01, -4.2921e-01,  4.3597e-01,\n",
      "         -4.6013e-01,  2.8643e-01,  8.3801e-02, -1.9506e-01, -1.1774e-01,\n",
      "          3.8689e-01,  1.1147e-01,  1.3745e-01, -3.9307e-02, -8.5627e-03,\n",
      "         -1.5094e-01, -2.4511e-02, -1.6255e-01,  1.6900e-01,  4.1824e-01,\n",
      "         -7.2226e-01, -4.2526e-01, -1.0311e-01, -1.6507e-01, -1.8600e-01,\n",
      "         -1.8332e-01, -3.3293e-01,  1.6942e-01,  1.5231e-01, -5.0222e-02,\n",
      "         -3.8305e-01,  7.5695e-02, -3.3676e-01, -1.5653e-01,  3.0766e-01,\n",
      "         -2.6033e-01, -2.9192e-01,  2.3683e-01, -8.0389e-02,  2.1224e-01,\n",
      "         -3.3909e-01, -7.6592e-01, -1.8588e-01,  4.7999e-01, -3.7916e-01,\n",
      "          3.9223e-01, -5.2012e-02,  1.6042e-01, -1.8669e-01, -1.6508e-01,\n",
      "         -8.8584e-01, -1.2609e-01,  2.6290e-01,  6.7262e-02, -4.2988e-01,\n",
      "         -5.8909e-02, -5.4768e-02,  2.7663e-01,  3.7317e-01,  2.6184e-01,\n",
      "          4.2070e-01, -2.4381e-01,  9.0480e-01, -8.7276e-02, -2.2643e-01,\n",
      "         -2.5397e-01, -6.4208e-01,  1.9172e-01, -3.9637e-01, -5.7161e-01,\n",
      "         -2.0465e-01, -4.7121e-01,  4.1199e-02, -3.3122e-01, -5.8125e-02,\n",
      "          8.8308e-02, -2.5466e-01, -1.1858e-02,  2.7745e-01,  1.3521e-01,\n",
      "          2.1699e-01, -1.4626e-02,  9.4593e-02,  1.7530e-01, -4.4386e-02,\n",
      "         -5.1501e-01, -7.0947e-02, -1.0906e-01, -4.5076e-01, -2.1610e-01,\n",
      "          1.4629e-01, -2.2374e-01,  5.0868e-01, -2.9847e-01, -3.5928e-01,\n",
      "         -5.3409e-01, -3.2735e-02,  4.1753e-01, -1.1290e-01, -2.0744e-01,\n",
      "          2.0648e-01, -5.7737e-01, -8.3356e-02,  1.1578e-01, -1.5706e-01,\n",
      "         -2.4181e-01,  5.0137e-01,  1.5337e-01, -1.9370e-01, -4.3481e-01,\n",
      "         -2.6587e-01,  3.2137e-01, -3.1394e-02,  6.5792e-01, -2.3831e-01,\n",
      "         -1.5561e-01,  4.3257e-01, -1.9412e-01, -6.3090e-02,  4.4782e-01,\n",
      "          1.4051e-02,  1.5248e-01,  3.8369e-01,  1.2315e-01,  2.5651e-02,\n",
      "         -4.9249e-01,  5.4244e-02,  9.9490e-01, -8.3128e-02, -3.1834e-01,\n",
      "         -4.4063e-01, -5.3874e-02, -1.3899e-01,  2.8839e-01, -2.8276e-01,\n",
      "         -3.5323e-01,  3.5570e-02, -4.7209e-01, -7.4078e-01, -4.1956e-02,\n",
      "         -1.3175e-01,  4.9036e-01, -5.9355e-01, -9.7875e-02,  2.0033e-02,\n",
      "         -3.8970e-01, -3.0659e-01,  5.5775e-01,  4.1360e-01,  3.0850e-01,\n",
      "          4.1699e-01,  3.5941e-01, -8.3998e-01, -4.4384e-01, -9.8824e-02,\n",
      "         -6.1173e-01,  4.2601e-01,  7.3828e-01,  5.4746e-01,  2.2522e-01,\n",
      "         -6.5443e-01,  5.8010e-01, -8.4520e-01, -3.2173e-01,  2.3173e-01,\n",
      "         -4.7368e-01,  3.2508e-01, -2.5907e-02, -5.8362e-01,  5.6099e-01,\n",
      "         -4.3302e-02, -2.2774e-01, -2.4013e-01, -1.7931e-01,  3.3410e-01,\n",
      "          5.8527e-01,  1.6512e-01, -8.6309e-01, -1.6864e-01,  9.1717e-01,\n",
      "          3.7589e-01,  3.3375e-01,  1.0539e-01,  2.0789e-01, -5.3040e-01,\n",
      "          5.5471e-01, -2.6385e-01, -4.7018e-01, -4.5169e-02,  2.5071e-01,\n",
      "         -7.9846e-01, -4.5925e-01, -1.4577e-01, -4.0717e-01, -5.9262e-02,\n",
      "          2.0501e-01, -3.1175e-01, -3.8813e-01, -4.4443e-01, -7.0893e-02,\n",
      "         -7.4597e-02,  4.7961e-01, -5.1260e-01,  3.2011e-01,  1.2618e-01,\n",
      "         -2.1021e-02, -1.3006e-01,  5.6566e-01,  2.6110e-01,  2.2432e-01,\n",
      "          1.4936e-01, -4.7396e-01, -3.0444e-02,  8.6314e-02,  1.5276e-01,\n",
      "         -1.7071e-02,  6.2012e-01, -2.6551e-01, -8.8060e-01,  2.0556e-01,\n",
      "         -4.6583e-01, -6.1674e-02, -5.8255e-02, -4.1030e-02,  2.1256e-01,\n",
      "          3.0778e-01,  7.3679e-01,  9.6795e-02,  1.2016e-01,  4.6604e-02,\n",
      "         -3.0179e-01,  9.2791e-01,  2.3623e-02,  3.2581e-03,  4.9476e-02,\n",
      "          3.4288e-01, -1.3629e-01,  1.9983e-01,  7.6663e-01,  5.3242e-01,\n",
      "          9.8307e-02, -2.4357e-01,  3.4032e-02,  6.2727e-01,  2.8290e-01,\n",
      "          6.0810e-01, -7.8737e-01, -4.3868e-01, -9.0768e-02, -2.4308e-01,\n",
      "         -6.9571e-01, -1.3610e-01,  3.8220e-01,  6.7807e-01,  2.1535e-01,\n",
      "          4.7406e-02, -4.6199e-01, -1.3109e-01,  5.3313e-01,  1.7673e-01,\n",
      "          1.1594e-01,  7.8501e-03,  1.5147e-01, -1.0746e-01, -1.3842e-01,\n",
      "         -1.4498e-01,  1.1074e-01,  2.1774e-01,  1.1531e-01, -8.4385e-02,\n",
      "          3.6148e-01, -9.9234e-01, -2.8547e-01, -2.5853e-01, -4.8640e-01,\n",
      "         -8.6811e-02, -1.4407e-01, -2.3279e-01,  2.1859e-01,  6.2697e-01,\n",
      "          1.8308e-01,  1.8387e-01, -2.1196e-01,  3.9724e-01, -3.3117e-02,\n",
      "         -5.1160e-02,  2.3089e-01, -6.5172e-01,  2.4335e-01, -3.1571e-02,\n",
      "          2.6539e-01,  8.8007e-02,  3.3518e-01, -2.8127e-01, -4.3333e-02,\n",
      "         -1.8150e-01, -3.2898e-01, -4.3209e-01,  3.9890e-01,  5.5042e-01,\n",
      "          2.5279e-02,  3.4418e-01,  6.9726e-02,  1.2717e-01, -1.7060e-02,\n",
      "         -3.0017e-01,  3.6097e-02, -6.5488e-02,  3.8858e-01,  1.0771e+00,\n",
      "          4.3564e-01,  1.6797e-02,  5.0327e-02, -6.4510e-02, -2.4590e-02,\n",
      "         -1.1899e-01,  4.2814e-01,  5.6641e-01, -5.3606e-01, -1.4646e-01,\n",
      "          1.0615e-01, -1.8208e-01,  9.5508e-02,  3.0565e-01,  4.9735e-01,\n",
      "          5.1753e-01, -2.5374e-01,  3.1705e-01, -2.1629e-01,  7.2012e-02,\n",
      "         -6.7220e-01, -1.5230e-01, -4.8038e-02, -1.9606e-01, -5.0987e-01,\n",
      "         -6.1278e-01, -6.5430e-02,  1.5567e-01,  4.2499e-01,  3.2422e-01,\n",
      "          3.6543e-02,  3.2186e-02, -8.9432e-02]])\n"
     ]
    }
   ],
   "source": [
    "print(f\"Embeddings shape: {embeddings.shape}\")\n",
    "print(f\"Embeddings: {embeddings}\")"
   ]
  },
  {
   "cell_type": "markdown",
   "metadata": {},
   "source": [
    "# Embedding Encoder"
   ]
  },
  {
   "cell_type": "code",
   "execution_count": 30,
   "metadata": {},
   "outputs": [],
   "source": [
    "# select model\n",
    "model_name = 'distilbert-base-uncased'"
   ]
  },
  {
   "cell_type": "code",
   "execution_count": 31,
   "metadata": {},
   "outputs": [],
   "source": [
    "from transformers import AutoModel, AutoTokenizer\n",
    "\n",
    "tokenizer = AutoTokenizer.from_pretrained(f\"LittleFish-Coder/{model_name}-fake-news-tfg\")\n",
    "model = AutoModel.from_pretrained(f\"LittleFish-Coder/{model_name}-fake-news-tfg\")"
   ]
  },
  {
   "cell_type": "code",
   "execution_count": 32,
   "metadata": {},
   "outputs": [],
   "source": [
    "inputs = tokenizer(text, return_tensors=\"pt\", truncation=True)"
   ]
  },
  {
   "cell_type": "code",
   "execution_count": 33,
   "metadata": {},
   "outputs": [],
   "source": [
    "embeddings = model(**inputs).last_hidden_state.mean(dim=1)"
   ]
  },
  {
   "cell_type": "code",
   "execution_count": 34,
   "metadata": {},
   "outputs": [
    {
     "name": "stdout",
     "output_type": "stream",
     "text": [
      "Embeddings shape: torch.Size([1, 768])\n",
      "Embeddings: tensor([[ 1.2506e-01, -2.1919e-01, -2.2023e-01,  3.3304e-01,  7.4512e-01,\n",
      "          2.3137e-01,  3.9668e-01,  5.3508e-01, -1.9261e-01, -1.1161e-01,\n",
      "          1.3692e-01, -1.2280e-02, -3.0342e-01, -6.8824e-02, -5.1451e-01,\n",
      "         -3.3084e-02,  1.6914e-01,  3.7226e-01, -4.6562e-01,  5.5116e-01,\n",
      "          4.2993e-01,  2.3005e-01, -3.7719e-02,  1.1942e-01,  2.2736e-01,\n",
      "          3.0696e-01, -2.1824e-01, -7.5034e-01,  9.4149e-02,  3.3059e-01,\n",
      "         -8.5560e-02, -5.0753e-01,  5.1240e-01, -6.2063e-01, -4.4819e-01,\n",
      "         -4.0813e-02, -1.7134e-01,  3.6643e-01,  5.5913e-01,  3.3241e-01,\n",
      "         -2.9266e-01,  2.7584e-01, -1.5998e-01,  3.1492e-01, -5.1416e-01,\n",
      "         -4.2035e-01,  4.3773e-02, -2.4468e-01, -5.0865e-01, -2.3225e-01,\n",
      "         -2.7917e-01,  4.5818e-01, -4.2036e-01,  3.4395e-01,  2.4133e-01,\n",
      "          4.9281e-01,  6.1817e-02, -8.0673e-01, -6.3471e-01, -5.5167e-01,\n",
      "          3.1047e-01,  3.8040e-01, -1.6843e-01, -4.4576e-01,  3.5331e-01,\n",
      "         -1.1309e-01,  3.2045e-01,  3.4133e-01, -6.6312e-02, -5.7028e-01,\n",
      "          1.3229e-01,  3.4858e-01,  1.8193e-01,  1.6610e-01,  2.9034e-01,\n",
      "          3.1615e-01,  6.2144e-01, -9.2324e-02,  1.9132e-01,  3.4206e-01,\n",
      "         -5.2840e-01,  4.2381e-01,  1.6376e-02,  7.7713e-01,  6.2239e-01,\n",
      "         -5.2536e-01,  2.2286e-01,  2.6569e-01, -3.6542e-01, -1.5353e-01,\n",
      "         -4.3706e-01,  1.3472e-01,  4.2871e-01, -2.9649e-01,  3.1681e-01,\n",
      "         -3.3662e-01,  8.4796e-02,  5.1481e-01, -2.3867e-01,  4.5038e-02,\n",
      "         -1.2566e-01, -4.9323e-01, -6.5643e-01,  4.8524e-01, -3.9523e-01,\n",
      "          9.0028e-02,  1.7913e-01,  4.0071e-01, -8.9813e-01,  1.9752e-01,\n",
      "          2.7166e-01,  5.7374e-02,  1.3311e-01, -5.5387e-01,  2.2459e-02,\n",
      "          2.0543e-01, -7.0395e-02,  2.9756e-01, -2.1468e-01, -3.1953e-01,\n",
      "         -3.4648e-01, -1.2279e-01,  5.4791e-01, -4.0605e-01, -2.1329e-01,\n",
      "         -3.2374e-01,  2.4015e-02,  2.0185e-01,  7.2920e-02,  1.0381e-01,\n",
      "          1.8686e-01,  4.7055e-01, -1.0777e-01,  2.9433e-01,  3.0419e-01,\n",
      "          1.7800e-01, -2.8712e-01, -6.2928e-02,  1.7164e-01, -3.0948e-01,\n",
      "         -3.0200e-01,  3.2487e-01,  7.0526e-02,  9.2044e-02, -2.7912e-01,\n",
      "         -1.6961e-01, -1.2471e-01,  7.2515e-02,  1.4690e-01,  2.3753e-01,\n",
      "          4.4432e-01, -2.6356e-02,  2.9695e-01, -4.2130e-01, -2.0006e-01,\n",
      "          5.1275e-01, -2.3568e-01, -8.1984e-01, -2.7859e-02, -2.7453e-01,\n",
      "          4.2024e-01,  3.6261e-01, -4.3555e-01, -2.6362e-02, -1.2276e-01,\n",
      "         -1.7060e-01,  2.4177e-01,  1.2286e-01,  2.0801e-01,  1.3440e-01,\n",
      "         -2.2147e-02, -1.8811e-02,  2.6112e-01, -4.6752e-04,  3.6041e-01,\n",
      "          3.1678e-01,  7.6184e-01, -2.4658e-01, -6.0738e-02,  2.2144e-01,\n",
      "         -1.4515e+00,  5.6554e-02, -3.1591e-01,  2.7280e-01, -1.6914e-01,\n",
      "         -3.7592e-01,  5.5327e-01, -1.0747e-01,  3.1880e-01, -1.1042e-01,\n",
      "         -9.4594e-02,  2.1037e-01, -5.2781e-01, -3.5341e-01,  3.9938e-01,\n",
      "          3.0906e-01, -2.5763e-01, -3.3530e-01, -4.8390e-01, -3.8115e-01,\n",
      "          1.3831e-01, -2.5125e-01,  1.6668e-01,  1.8591e-01,  9.2486e-02,\n",
      "         -7.3376e-01, -1.6218e-01, -7.1692e-01, -2.6788e-01,  1.2219e-01,\n",
      "         -5.0072e-01,  1.6850e-01, -4.3199e-01, -2.6820e-01, -6.3401e-01,\n",
      "          3.3274e-02, -1.9643e-01,  3.8034e-01,  6.1666e-01, -4.9065e-01,\n",
      "         -2.1081e-01, -2.6526e-01, -1.5326e-01, -2.6922e-01, -6.5326e-01,\n",
      "          1.2071e+00, -2.5317e-01, -3.1601e-01,  7.0146e-01,  4.3819e-01,\n",
      "          8.1392e-02,  4.4004e-01,  3.1561e-01, -3.5114e-01,  1.9928e-01,\n",
      "         -2.2152e-01,  5.2936e-01, -4.5116e-01,  2.7547e-01, -2.6257e-01,\n",
      "         -1.9145e-02,  7.2915e-01, -1.8594e-03,  9.5042e-02, -4.3293e-01,\n",
      "         -1.4846e-01, -1.4543e-01, -4.0987e-01,  1.1350e-01, -3.2750e-01,\n",
      "          2.2124e-01,  6.2799e-01, -4.2104e-01, -6.9038e-01,  1.9088e-01,\n",
      "         -1.6687e-01, -6.8106e-01,  2.6348e-02, -1.6710e-01, -1.4548e-01,\n",
      "          1.4742e-01, -9.0300e-02, -7.0034e-01,  4.2019e-01, -4.1774e-02,\n",
      "          1.1223e-03,  4.4092e-01, -1.5357e-01,  2.1443e-01,  5.0115e-01,\n",
      "         -1.6187e-01,  5.7450e-01, -2.0831e-01,  1.3517e-01,  1.5057e-01,\n",
      "         -4.4004e-01,  1.6033e-01,  1.3288e-01,  2.8283e-01, -5.2332e-01,\n",
      "         -2.8676e-01,  8.5788e-01, -2.9042e-01, -2.1880e-01, -5.0567e-01,\n",
      "         -3.0126e-01, -1.2091e-01,  4.7490e-01,  3.0571e-01,  3.6264e-01,\n",
      "         -1.7386e-01,  1.0412e-01, -6.2215e-01, -2.6352e-01,  4.1178e-01,\n",
      "          4.6215e-01,  1.2038e-01,  2.5201e-01,  4.0200e-01,  3.1519e-03,\n",
      "         -2.1372e-01, -1.6293e-01, -4.1733e-02, -1.9383e-01,  6.9607e-01,\n",
      "          2.6458e-01,  8.5146e-02, -7.6686e-01, -2.9905e+00,  3.3063e-01,\n",
      "          2.1943e-01,  4.5751e-01,  4.7654e-01, -2.7237e-01, -3.4804e-01,\n",
      "         -2.0822e-01,  1.7432e-01,  6.8258e-01, -3.0968e-01,  2.1635e-01,\n",
      "          2.6494e-01,  4.3226e-01,  2.5254e-02, -7.9659e-01, -2.2579e-01,\n",
      "         -4.5094e-01,  2.1318e-01, -6.3929e-02,  6.4311e-02, -4.1558e-01,\n",
      "          8.1218e-02,  3.0761e-01,  5.2573e-02,  7.5782e-01, -7.6693e-02,\n",
      "         -7.3921e-01, -2.1270e-01, -2.5767e-01, -4.7852e-02, -1.6214e-01,\n",
      "          8.3098e-02,  5.2510e-01, -9.9958e-02,  1.8933e-02, -3.8364e-01,\n",
      "         -5.3803e-01, -8.5279e-01, -7.4776e-02, -1.3725e-01, -5.9265e-01,\n",
      "         -2.7389e-01, -2.3213e-01, -9.3556e-02,  1.2557e-01, -2.7521e-01,\n",
      "         -6.0777e-01,  4.8115e-01, -1.6484e-01, -1.2041e-01,  1.9157e-01,\n",
      "         -2.6649e-01, -4.3225e-02,  2.2569e-01,  7.9003e-02,  2.2567e-01,\n",
      "          5.1909e-01,  3.7024e-02,  1.9676e-01,  1.4144e-01,  1.3511e-01,\n",
      "         -6.3515e-01, -5.4135e-02, -3.0334e-01, -2.7878e-01,  1.6238e-01,\n",
      "         -1.9206e-01,  4.5395e-02, -3.5479e-02, -3.0595e-01,  1.0839e-01,\n",
      "         -4.3900e-01, -4.9896e-02,  4.1582e-01,  2.0061e-01, -3.3016e-02,\n",
      "         -4.0565e-01, -1.1750e-01,  1.3501e-01,  2.0648e-01,  7.4055e-02,\n",
      "          4.3703e-02,  2.6578e-01, -6.5224e-02, -4.9211e-01,  1.0201e-01,\n",
      "          3.7878e-01, -5.0467e-01,  4.1701e-01,  5.1317e-01, -7.9984e-03,\n",
      "         -3.2188e-02, -1.1658e-01,  5.6143e-01,  4.5172e-01, -1.0603e-01,\n",
      "          6.3635e-01,  2.2141e-01, -1.0084e-01, -1.4588e-01, -1.1056e-01,\n",
      "          3.8806e-01, -4.7446e-02, -2.8065e-01, -1.3966e-01, -1.2760e-01,\n",
      "         -2.4409e-01,  3.6536e-01, -4.1852e-01,  3.2470e-01, -5.3242e-01,\n",
      "         -7.2218e-02, -5.9908e-02, -1.6323e-01, -3.8138e-01,  4.0685e-02,\n",
      "          6.4384e-01,  2.8547e-01,  1.0517e-01, -4.2921e-01,  4.3597e-01,\n",
      "         -4.6013e-01,  2.8643e-01,  8.3801e-02, -1.9506e-01, -1.1774e-01,\n",
      "          3.8689e-01,  1.1147e-01,  1.3745e-01, -3.9307e-02, -8.5627e-03,\n",
      "         -1.5094e-01, -2.4511e-02, -1.6255e-01,  1.6900e-01,  4.1824e-01,\n",
      "         -7.2226e-01, -4.2526e-01, -1.0311e-01, -1.6507e-01, -1.8600e-01,\n",
      "         -1.8332e-01, -3.3293e-01,  1.6942e-01,  1.5231e-01, -5.0222e-02,\n",
      "         -3.8305e-01,  7.5695e-02, -3.3676e-01, -1.5653e-01,  3.0766e-01,\n",
      "         -2.6033e-01, -2.9192e-01,  2.3683e-01, -8.0389e-02,  2.1224e-01,\n",
      "         -3.3909e-01, -7.6592e-01, -1.8588e-01,  4.7999e-01, -3.7916e-01,\n",
      "          3.9223e-01, -5.2012e-02,  1.6042e-01, -1.8669e-01, -1.6508e-01,\n",
      "         -8.8584e-01, -1.2609e-01,  2.6290e-01,  6.7262e-02, -4.2988e-01,\n",
      "         -5.8909e-02, -5.4768e-02,  2.7663e-01,  3.7317e-01,  2.6184e-01,\n",
      "          4.2070e-01, -2.4381e-01,  9.0480e-01, -8.7276e-02, -2.2643e-01,\n",
      "         -2.5397e-01, -6.4208e-01,  1.9172e-01, -3.9637e-01, -5.7161e-01,\n",
      "         -2.0465e-01, -4.7121e-01,  4.1199e-02, -3.3122e-01, -5.8125e-02,\n",
      "          8.8308e-02, -2.5466e-01, -1.1858e-02,  2.7745e-01,  1.3521e-01,\n",
      "          2.1699e-01, -1.4626e-02,  9.4593e-02,  1.7530e-01, -4.4386e-02,\n",
      "         -5.1501e-01, -7.0947e-02, -1.0906e-01, -4.5076e-01, -2.1610e-01,\n",
      "          1.4629e-01, -2.2374e-01,  5.0868e-01, -2.9847e-01, -3.5928e-01,\n",
      "         -5.3409e-01, -3.2735e-02,  4.1753e-01, -1.1290e-01, -2.0744e-01,\n",
      "          2.0648e-01, -5.7737e-01, -8.3356e-02,  1.1578e-01, -1.5706e-01,\n",
      "         -2.4181e-01,  5.0137e-01,  1.5337e-01, -1.9370e-01, -4.3481e-01,\n",
      "         -2.6587e-01,  3.2137e-01, -3.1394e-02,  6.5792e-01, -2.3831e-01,\n",
      "         -1.5561e-01,  4.3257e-01, -1.9412e-01, -6.3090e-02,  4.4782e-01,\n",
      "          1.4051e-02,  1.5248e-01,  3.8369e-01,  1.2315e-01,  2.5651e-02,\n",
      "         -4.9249e-01,  5.4244e-02,  9.9490e-01, -8.3128e-02, -3.1834e-01,\n",
      "         -4.4063e-01, -5.3874e-02, -1.3899e-01,  2.8839e-01, -2.8276e-01,\n",
      "         -3.5323e-01,  3.5570e-02, -4.7209e-01, -7.4078e-01, -4.1956e-02,\n",
      "         -1.3175e-01,  4.9036e-01, -5.9355e-01, -9.7875e-02,  2.0033e-02,\n",
      "         -3.8970e-01, -3.0659e-01,  5.5775e-01,  4.1360e-01,  3.0850e-01,\n",
      "          4.1699e-01,  3.5941e-01, -8.3998e-01, -4.4384e-01, -9.8824e-02,\n",
      "         -6.1173e-01,  4.2601e-01,  7.3828e-01,  5.4746e-01,  2.2522e-01,\n",
      "         -6.5443e-01,  5.8010e-01, -8.4520e-01, -3.2173e-01,  2.3173e-01,\n",
      "         -4.7368e-01,  3.2508e-01, -2.5907e-02, -5.8362e-01,  5.6099e-01,\n",
      "         -4.3302e-02, -2.2774e-01, -2.4013e-01, -1.7931e-01,  3.3410e-01,\n",
      "          5.8527e-01,  1.6512e-01, -8.6309e-01, -1.6864e-01,  9.1717e-01,\n",
      "          3.7589e-01,  3.3375e-01,  1.0539e-01,  2.0789e-01, -5.3040e-01,\n",
      "          5.5471e-01, -2.6385e-01, -4.7018e-01, -4.5169e-02,  2.5071e-01,\n",
      "         -7.9846e-01, -4.5925e-01, -1.4577e-01, -4.0717e-01, -5.9262e-02,\n",
      "          2.0501e-01, -3.1175e-01, -3.8813e-01, -4.4443e-01, -7.0893e-02,\n",
      "         -7.4597e-02,  4.7961e-01, -5.1260e-01,  3.2011e-01,  1.2618e-01,\n",
      "         -2.1021e-02, -1.3006e-01,  5.6566e-01,  2.6110e-01,  2.2432e-01,\n",
      "          1.4936e-01, -4.7396e-01, -3.0444e-02,  8.6314e-02,  1.5276e-01,\n",
      "         -1.7071e-02,  6.2012e-01, -2.6551e-01, -8.8060e-01,  2.0556e-01,\n",
      "         -4.6583e-01, -6.1674e-02, -5.8255e-02, -4.1030e-02,  2.1256e-01,\n",
      "          3.0778e-01,  7.3679e-01,  9.6795e-02,  1.2016e-01,  4.6604e-02,\n",
      "         -3.0179e-01,  9.2791e-01,  2.3623e-02,  3.2581e-03,  4.9476e-02,\n",
      "          3.4288e-01, -1.3629e-01,  1.9983e-01,  7.6663e-01,  5.3242e-01,\n",
      "          9.8307e-02, -2.4357e-01,  3.4032e-02,  6.2727e-01,  2.8290e-01,\n",
      "          6.0810e-01, -7.8737e-01, -4.3868e-01, -9.0768e-02, -2.4308e-01,\n",
      "         -6.9571e-01, -1.3610e-01,  3.8220e-01,  6.7807e-01,  2.1535e-01,\n",
      "          4.7406e-02, -4.6199e-01, -1.3109e-01,  5.3313e-01,  1.7673e-01,\n",
      "          1.1594e-01,  7.8501e-03,  1.5147e-01, -1.0746e-01, -1.3842e-01,\n",
      "         -1.4498e-01,  1.1074e-01,  2.1774e-01,  1.1531e-01, -8.4385e-02,\n",
      "          3.6148e-01, -9.9234e-01, -2.8547e-01, -2.5853e-01, -4.8640e-01,\n",
      "         -8.6811e-02, -1.4407e-01, -2.3279e-01,  2.1859e-01,  6.2697e-01,\n",
      "          1.8308e-01,  1.8387e-01, -2.1196e-01,  3.9724e-01, -3.3117e-02,\n",
      "         -5.1160e-02,  2.3089e-01, -6.5172e-01,  2.4335e-01, -3.1571e-02,\n",
      "          2.6539e-01,  8.8007e-02,  3.3518e-01, -2.8127e-01, -4.3333e-02,\n",
      "         -1.8150e-01, -3.2898e-01, -4.3209e-01,  3.9890e-01,  5.5042e-01,\n",
      "          2.5279e-02,  3.4418e-01,  6.9726e-02,  1.2717e-01, -1.7060e-02,\n",
      "         -3.0017e-01,  3.6097e-02, -6.5488e-02,  3.8858e-01,  1.0771e+00,\n",
      "          4.3564e-01,  1.6797e-02,  5.0327e-02, -6.4510e-02, -2.4590e-02,\n",
      "         -1.1899e-01,  4.2814e-01,  5.6641e-01, -5.3606e-01, -1.4646e-01,\n",
      "          1.0615e-01, -1.8208e-01,  9.5508e-02,  3.0565e-01,  4.9735e-01,\n",
      "          5.1753e-01, -2.5374e-01,  3.1705e-01, -2.1629e-01,  7.2012e-02,\n",
      "         -6.7220e-01, -1.5230e-01, -4.8038e-02, -1.9606e-01, -5.0987e-01,\n",
      "         -6.1278e-01, -6.5430e-02,  1.5567e-01,  4.2499e-01,  3.2422e-01,\n",
      "          3.6543e-02,  3.2186e-02, -8.9432e-02]], grad_fn=<MeanBackward1>)\n"
     ]
    }
   ],
   "source": [
    "print(f\"Embeddings shape: {embeddings.shape}\")\n",
    "print(f\"Embeddings: {embeddings}\")"
   ]
  }
 ],
 "metadata": {
  "kernelspec": {
   "display_name": "fakenews",
   "language": "python",
   "name": "python3"
  },
  "language_info": {
   "codemirror_mode": {
    "name": "ipython",
    "version": 3
   },
   "file_extension": ".py",
   "mimetype": "text/x-python",
   "name": "python",
   "nbconvert_exporter": "python",
   "pygments_lexer": "ipython3",
   "version": "3.12.4"
  }
 },
 "nbformat": 4,
 "nbformat_minor": 2
}
